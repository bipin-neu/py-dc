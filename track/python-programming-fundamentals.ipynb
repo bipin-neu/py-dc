{
 "cells": [
  {
   "cell_type": "code",
   "execution_count": 4,
   "id": "088b4ff4-ab5f-42a6-bbf8-88f52fd91130",
   "metadata": {},
   "outputs": [
    {
     "name": "stdout",
     "output_type": "stream",
     "text": [
      "10.0\n",
      "<class 'float'>\n",
      "10:<class 'int'>\n"
     ]
    }
   ],
   "source": [
    "res = 120 / 12\n",
    "res1 = 120 // 12\n",
    "\n",
    "print(res)\n",
    "print(type(res))\n",
    "print(str(res1) + \":\" + str(type(res1)))"
   ]
  },
  {
   "cell_type": "code",
   "execution_count": null,
   "id": "430d8b99-0d72-4d36-a744-5c56b1dbacf6",
   "metadata": {},
   "outputs": [],
   "source": []
  }
 ],
 "metadata": {
  "kernelspec": {
   "display_name": "Python 3 (ipykernel)",
   "language": "python",
   "name": "python3"
  },
  "language_info": {
   "codemirror_mode": {
    "name": "ipython",
    "version": 3
   },
   "file_extension": ".py",
   "mimetype": "text/x-python",
   "name": "python",
   "nbconvert_exporter": "python",
   "pygments_lexer": "ipython3",
   "version": "3.13.7"
  }
 },
 "nbformat": 4,
 "nbformat_minor": 5
}
