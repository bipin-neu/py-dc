{
 "cells": [
  {
   "cell_type": "code",
   "execution_count": 3,
   "id": "088b4ff4-ab5f-42a6-bbf8-88f52fd91130",
   "metadata": {},
   "outputs": [
    {
     "name": "stdout",
     "output_type": "stream",
     "text": [
      "10.0\n",
      "<class 'float'>\n",
      "10:<class 'int'>\n"
     ]
    }
   ],
   "source": [
    "res = 120 / 12\n",
    "res1 = 120 // 12\n",
    "\n",
    "print(res)\n",
    "print(type(res))\n",
    "print(str(res1) + \":\" + str(type(res1)))"
   ]
  },
  {
   "cell_type": "markdown",
   "id": "0410d943",
   "metadata": {},
   "source": [
    "Strings"
   ]
  }
 ],
 "metadata": {
  "kernelspec": {
   "display_name": "py-dc",
   "language": "python",
   "name": "python3"
  },
  "language_info": {
   "codemirror_mode": {
    "name": "ipython",
    "version": 3
   },
   "file_extension": ".py",
   "mimetype": "text/x-python",
   "name": "python",
   "nbconvert_exporter": "python",
   "pygments_lexer": "ipython3",
   "version": "3.13.7"
  }
 },
 "nbformat": 4,
 "nbformat_minor": 5
}
