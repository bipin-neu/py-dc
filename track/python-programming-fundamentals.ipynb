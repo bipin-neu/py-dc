{
 "cells": [
  {
   "cell_type": "code",
   "execution_count": 15,
   "id": "088b4ff4-ab5f-42a6-bbf8-88f52fd91130",
   "metadata": {},
   "outputs": [
    {
     "name": "stdout",
     "output_type": "stream",
     "text": [
      "10.0\n",
      "<class 'float'>\n",
      "10:<class 'int'>\n",
      "False:<class 'bool'>\n"
     ]
    }
   ],
   "source": [
    "res = 120 / 12\n",
    "res1 = 120 // 12\n",
    "\n",
    "check = False\n",
    "\n",
    "print(res)\n",
    "print(type(res))\n",
    "print(str(res1) + \":\" + str(type(res1)))\n",
    "print(str(check) + \":\" + str(type(check)))"
   ]
  },
  {
   "cell_type": "markdown",
   "id": "0410d943",
   "metadata": {},
   "source": [
    "Strings:\n",
    "\" exist to care of ' if present in input string already"
   ]
  },
  {
   "cell_type": "code",
   "execution_count": 7,
   "id": "ab4e973b",
   "metadata": {},
   "outputs": [
    {
     "name": "stdout",
     "output_type": "stream",
     "text": [
      "abc\n",
      "ABC\n"
     ]
    },
    {
     "data": {
      "text/plain": [
       "'cat tiger'"
      ]
     },
     "execution_count": 7,
     "metadata": {},
     "output_type": "execute_result"
    }
   ],
   "source": [
    "#Method: A func available to specific data type\n",
    "print(\"AbC\".lower())\n",
    "print(\"aBc\".upper())\n",
    "\"cat dog\".replace(\"dog\", \"tiger\")"
   ]
  },
  {
   "cell_type": "code",
   "execution_count": 3,
   "id": "f4111787",
   "metadata": {},
   "outputs": [
    {
     "name": "stdout",
     "output_type": "stream",
     "text": [
      "introduction_to_embeddings_with_the_openai_api\n"
     ]
    }
   ],
   "source": [
    "most_popular_course = \"Intro to Embeddings with the OpenAI API\"\n",
    "\n",
    "# Update the first word\n",
    "most_popular_course = most_popular_course.replace(\"Intro\", \"Introduction\")\n",
    "\n",
    "# Swap spaces for underscores\n",
    "most_popular_course = most_popular_course.replace(\" \", \"_\")\n",
    "\n",
    "# Change to lowercase\n",
    "most_popular_course = most_popular_course.lower()\n",
    "\n",
    "print(most_popular_course)"
   ]
  },
  {
   "cell_type": "code",
   "execution_count": 5,
   "id": "87ad9d28",
   "metadata": {},
   "outputs": [
    {
     "name": "stdout",
     "output_type": "stream",
     "text": [
      "<class 'list'>\n"
     ]
    },
    {
     "data": {
      "text/plain": [
       "list"
      ]
     },
     "execution_count": 5,
     "metadata": {},
     "output_type": "execute_result"
    }
   ],
   "source": [
    "price = [10,20, 30.0, \"40\", 50, 60.0]\n",
    "ll = [1,2,3,4]\n",
    "print(type(ll))\n",
    "type(price)"
   ]
  },
  {
   "cell_type": "code",
   "execution_count": 6,
   "id": "48e27d9e",
   "metadata": {},
   "outputs": [
    {
     "name": "stdout",
     "output_type": "stream",
     "text": [
      "30.0\n",
      "60.0\n",
      "[20, 30.0]\n",
      "[20, 30.0, '40', 50, 60.0]\n",
      "[10, 20, 30.0]\n",
      "[10, 30.0, 50]\n",
      "[20, 50]\n",
      "['Blinding Lights', 'One Dance', 'Uptown Funk', 'Closer', 'One Kiss', 'Mr. Brightside']\n",
      "xxxx\n"
     ]
    }
   ],
   "source": [
    "#subsetting\n",
    "print(price[2])\n",
    "\n",
    "# last without knowing length\n",
    "print(price[-1])\n",
    "\n",
    "# start:end-1\n",
    "print(price[1:3])\n",
    "\n",
    "#till last\n",
    "print(price[1:])\n",
    "\n",
    "#till index\n",
    "print(price[:3])\n",
    "\n",
    "#alternating access - access every 3rd ele\n",
    "print(price[::2])\n",
    "\n",
    "#access every 3rd ele, starting at 2ns\n",
    "print(price[1::3])\n",
    "\n",
    "playlist=[1, 'Blinding Lights', 'The Weeknd', 2, 'One Dance', 'Drake', 3, 'Uptown Funk', 'Mark Ronson', 4, 'Closer', 'The Chainsmokers', 5, 'One Kiss', 'Calvin Harris', 6, 'Mr. Brightside', 'The Killers']\n",
    "# Print all songs in the playlist\n",
    "print(playlist[1::3])\n",
    "\n",
    "#append\n",
    "playlist.append(\"xxxx\")\n",
    "print(playlist[-1])"
   ]
  },
  {
   "cell_type": "code",
   "execution_count": 6,
   "id": "451f822f",
   "metadata": {},
   "outputs": [
    {
     "name": "stdout",
     "output_type": "stream",
     "text": [
      "dict_keys(['The Weeknd', 'Drake', 'Mark Ronson', 'The Chainsmokers', 'Calvin Harris', 'The Killers', 'Oasis', 'Rihanna', 'Coldplay', 'Usher'])\n",
      "dict_values(['Blinding Lights', 'One Dance', 'Uptown Funk', 'Closer', 'One Kiss', 'Mr. Brightside', 'Wonderwall', 'We Found Love', 'Yeah!', 'Yeah!'])\n",
      "dict_items([('The Weeknd', 'Blinding Lights'), ('Drake', 'One Dance'), ('Mark Ronson', 'Uptown Funk'), ('The Chainsmokers', 'Closer'), ('Calvin Harris', 'One Kiss'), ('The Killers', 'Mr. Brightside'), ('Oasis', 'Wonderwall'), ('Rihanna', 'We Found Love'), ('Coldplay', 'Yeah!'), ('Usher', 'Yeah!')])\n"
     ]
    }
   ],
   "source": [
    "#dictionaries\n",
    "# are ordered\n",
    "# values accessed by subsetting the key\n",
    "playlist={'The Weeknd': 'Blinding Lights', 'Drake': 'One Dance', 'Mark Ronson': 'Uptown Funk', 'The Chainsmokers': 'Closer', 'Calvin Harris': 'One Kiss', 'The Killers': 'Mr. Brightside', 'Oasis': 'Wonderwall', 'Rihanna': 'We Found Love', 'Coldplay': 'Yeah!', 'Usher': 'Yeah!'}\n",
    "\n",
    "print(playlist.keys())\n",
    "print(playlist.values())\n",
    "print(playlist.items())\n"
   ]
  },
  {
   "cell_type": "code",
   "execution_count": null,
   "id": "f9117fd0",
   "metadata": {},
   "outputs": [
    {
     "name": "stdout",
     "output_type": "stream",
     "text": [
      "<class 'set'>\n",
      "{'We Found Love', 'One Kiss', 'Mr. Brightside', 'Wonderwall', 'Closer', 'One Dance', 'Blinding Lights', 'Yeah!', 'Uptown Funk'}\n"
     ]
    },
    {
     "data": {
      "text/plain": [
       "['Blinding Lights',\n",
       " 'Closer',\n",
       " 'Mr. Brightside',\n",
       " 'One Dance',\n",
       " 'One Kiss',\n",
       " 'Uptown Funk',\n",
       " 'We Found Love',\n",
       " 'Wonderwall',\n",
       " 'Yeah!']"
      ]
     },
     "execution_count": 10,
     "metadata": {},
     "output_type": "execute_result"
    }
   ],
   "source": [
    "#Set\n",
    "# : -> dict, no : -> set\n",
    "set1 = {}\n",
    "# casting list to set - by invoking set method\n",
    "set2 = set(playlist.values())\n",
    "print(type(set2))\n",
    "print(set2)\n",
    "\n",
    "#limitataions\n",
    "# cant have duplicate values, cant subset with [] - set1[0] - set object not subscriptable\n",
    "#sets are unordered - can be ordered by invoking - sorted() -> returns list\n",
    "sorted(set2)"
   ]
  },
  {
   "cell_type": "code",
   "execution_count": null,
   "id": "4964b55d",
   "metadata": {},
   "outputs": [
    {
     "name": "stdout",
     "output_type": "stream",
     "text": [
      "(1, 2, 3)\n"
     ]
    }
   ],
   "source": [
    "#tuples - cant add, remove, change values\n",
    "# are ordered like lists, dict. Hence can subset - tup[0]\n",
    "loc = ('a','b','c')\n",
    "list1 = [1,2,3]\n",
    "tuple1 = tuple(list1) # convert another data structure to tuple\n",
    "print(tuple1)"
   ]
  },
  {
   "cell_type": "code",
   "execution_count": 18,
   "id": "f731d903",
   "metadata": {},
   "outputs": [
    {
     "name": "stdout",
     "output_type": "stream",
     "text": [
      "True\n",
      "Too expensive\n"
     ]
    }
   ],
   "source": [
    "# Conditionals\n",
    "print(\"James\" > \"Brian\")\n",
    "\n",
    "min_num_beds = 2\n",
    "min_sq_foot = 750\n",
    "max_rent = 1900\n",
    "\n",
    "num_beds = 3\n",
    "sq_foot = 800\n",
    "rent = 2000\n",
    "# Check the number of beds\n",
    "if num_beds < min_num_beds:\n",
    "  print(\"Insufficient bedrooms\")\n",
    "\n",
    "# Check square feet\n",
    "elif sq_foot <= min_sq_foot:\n",
    "  print(\"Too small\")\n",
    "\n",
    "  \n",
    "# Check the rent\n",
    "elif rent > max_rent:\n",
    "  print(\"Too expensive\")\n",
    "\n",
    "  \n",
    "# If all conditions met\n",
    "else:\n",
    "  print(\"This looks promising!\")\n",
    "\n"
   ]
  },
  {
   "cell_type": "code",
   "execution_count": 20,
   "id": "11d69a9b",
   "metadata": {},
   "outputs": [
    {
     "name": "stdout",
     "output_type": "stream",
     "text": [
      "Sold out: 30 tickets sold!\n",
      "LLM Concepts is an AI course\n",
      "Introduction to Data Pipelines is a Data Engineering course\n",
      "AI Ethics is an AI course\n",
      "Introduction to dbt is a Data Engineering course\n",
      "Writing Efficient Python Code is a Programming course\n",
      "Introduction to Docker is a Programming course\n"
     ]
    }
   ],
   "source": [
    "#loops\n",
    "# Create the tickets_sold variable\n",
    "tickets_sold = 0\n",
    "\n",
    "# Create the max_capacity variable\n",
    "max_capacity = 30\n",
    "\n",
    "# Loop through a range up to and including max_capacity's value\n",
    "for i in range(1, max_capacity+1):\n",
    "  \n",
    "  # Add one to tickets_sold in each iteration\n",
    "  tickets_sold += 1\n",
    "  \n",
    "print(\"Sold out:\", tickets_sold, \"tickets sold!\")\n",
    "\n",
    "courses = {\"LLM Concepts\": \"AI\", \n",
    "           \"Introduction to Data Pipelines\": \"Data Engineering\", \n",
    "           \"AI Ethics\": \"AI\",\n",
    "           \"Introduction to dbt\": \"Data Engineering\", \n",
    "           \"Writing Efficient Python Code\": \"Programming\",\n",
    "           \"Introduction to Docker\": \"Programming\"}\n",
    "\n",
    "# Loop through the dictionary's keys and values\n",
    "for key, value in courses.items():\n",
    "  \n",
    "  # Check if the value is \"AI\"\n",
    "  if value == \"AI\":\n",
    "    print(key, \"is an AI course\")\n",
    "  \n",
    "  # Check if the value is \"Programming\"\n",
    "  elif value == \"Programming\":\n",
    "    print(key, \"is a Programming course\")\n",
    "  \n",
    "  # Otherwise, print that it is a \"Data Engineering\" course\n",
    "  else:\n",
    "    print(key, \"is a Data Engineering course\")"
   ]
  },
  {
   "cell_type": "code",
   "execution_count": null,
   "id": "9a4e0b41",
   "metadata": {},
   "outputs": [
    {
     "name": "stdout",
     "output_type": "stream",
     "text": [
      "Sold out: 10 tickets sold!\n"
     ]
    }
   ],
   "source": [
    "#while\n",
    "# mostly when index level reach is needed, jump index based on logic etc - difficult with for\n",
    "tickets_sold = 0\n",
    "max_capacity = 10\n",
    "\n",
    "# Create a while loop\n",
    "while tickets_sold < max_capacity:\n",
    "  \n",
    "  # Add one to tickets_sold in each iteration\n",
    "  tickets_sold += 1\n",
    "\n",
    "# Print the number of tickets sold\n",
    "print(\"Sold out:\", tickets_sold, \"tickets sold!\")"
   ]
  },
  {
   "cell_type": "code",
   "execution_count": 8,
   "id": "3bd5f9a3",
   "metadata": {},
   "outputs": [],
   "source": [
    "# in keyword - check if value in a variable/data structure\n",
    "# not - check if not met, can combien with in - not in\n",
    "# and - check for multiple conditions\n",
    "# or"
   ]
  },
  {
   "cell_type": "markdown",
   "id": "dcd3fa29",
   "metadata": {},
   "source": [
    "## intermediate py for devs"
   ]
  },
  {
   "cell_type": "code",
   "execution_count": 12,
   "id": "55087275",
   "metadata": {},
   "outputs": [
    {
     "name": "stdout",
     "output_type": "stream",
     "text": [
      "<class 'builtin_function_or_method'>\n",
      "Help on built-in function sorted in module builtins:\n",
      "\n",
      "sorted(iterable, /, *, key=None, reverse=False)\n",
      "    Return a new list containing all items from the iterable in ascending order.\n",
      "\n",
      "    A custom key function can be supplied to customize the sort order, and the\n",
      "    reverse flag can be set to request the result in descending order.\n",
      "\n"
     ]
    }
   ],
   "source": [
    "print(type(print))\n",
    "help(sorted)"
   ]
  },
  {
   "cell_type": "code",
   "execution_count": null,
   "id": "6a584b67",
   "metadata": {},
   "outputs": [],
   "source": [
    "print(help(list))\n",
    "print(help(int))"
   ]
  },
  {
   "cell_type": "code",
   "execution_count": 15,
   "id": "3a9daaa7",
   "metadata": {},
   "outputs": [
    {
     "name": "stdout",
     "output_type": "stream",
     "text": [
      "4\n",
      "19\n"
     ]
    }
   ],
   "source": [
    "course_ratings = {\"LLM Concepts\": 4.7, \n",
    "                  \"Introduction to Data Pipelines\": 4.75, \n",
    "                  \"AI Ethics\": 4.62, \n",
    "                  \"Introduction to dbt\": 4.81}\n",
    "\n",
    "# Print the number of key-value pairs\n",
    "num_courses = len(course_ratings)\n",
    "print(num_courses)\n",
    "\n",
    "most_popular_course = \"Introduction to dbt\"\n",
    "\n",
    "# How many characters are in most_popular_course?\n",
    "title_length = len(most_popular_course)\n",
    "print(title_length)"
   ]
  },
  {
   "cell_type": "code",
   "execution_count": 16,
   "id": "b25efb3c",
   "metadata": {},
   "outputs": [
    {
     "name": "stdout",
     "output_type": "stream",
     "text": [
      "123.2\n"
     ]
    }
   ],
   "source": [
    "course_completions=[97, 83, 121, 205, 56, 174, 92, 117, 164]\n",
    "print(round(sum(course_completions) / len(course_completions), 1))"
   ]
  },
  {
   "cell_type": "markdown",
   "id": "be0071de",
   "metadata": {},
   "source": [
    "# Modules\n",
    "python scripts ending in .py\n",
    "\n",
    "contains func and attrib\n",
    "\n",
    "can contain other modules\n",
    "\n",
    "ex:\n",
    "os\n",
    "collections\n",
    "string\n",
    "logging\n",
    "subprocess\n"
   ]
  },
  {
   "cell_type": "code",
   "execution_count": 23,
   "id": "e51655be",
   "metadata": {},
   "outputs": [
    {
     "ename": "FileNotFoundError",
     "evalue": "[Errno 2] No such file or directory: ''",
     "output_type": "error",
     "traceback": [
      "\u001b[31m---------------------------------------------------------------------------\u001b[39m",
      "\u001b[31mFileNotFoundError\u001b[39m                         Traceback (most recent call last)",
      "\u001b[36mCell\u001b[39m\u001b[36m \u001b[39m\u001b[32mIn[23]\u001b[39m\u001b[32m, line 7\u001b[39m\n\u001b[32m      4\u001b[39m \u001b[38;5;66;03m#how to know func?\u001b[39;00m\n\u001b[32m      5\u001b[39m \u001b[38;5;66;03m#help(os) # throws so much info\u001b[39;00m\n\u001b[32m      6\u001b[39m os.getcwd()\n\u001b[32m----> \u001b[39m\u001b[32m7\u001b[39m \u001b[43mos\u001b[49m\u001b[43m.\u001b[49m\u001b[43mchdir\u001b[49m\u001b[43m(\u001b[49m\u001b[33;43m\"\u001b[39;49m\u001b[33;43m\"\u001b[39;49m\u001b[43m)\u001b[49m\n",
      "\u001b[31mFileNotFoundError\u001b[39m: [Errno 2] No such file or directory: ''"
     ]
    }
   ],
   "source": [
    "import os\n",
    "type(os)\n",
    "\n",
    "#how to know func?\n",
    "#help(os) # throws so much info\n",
    "os.getcwd()\n",
    "os.chdir(\"\")"
   ]
  },
  {
   "cell_type": "code",
   "execution_count": null,
   "id": "0a011e03",
   "metadata": {},
   "outputs": [],
   "source": [
    "#Module attributes\n",
    "# attrib have values, dont use paranthesis when invoking\n",
    "os.environ"
   ]
  },
  {
   "cell_type": "code",
   "execution_count": 25,
   "id": "b35380ae",
   "metadata": {},
   "outputs": [
    {
     "data": {
      "text/plain": [
       "'/Users/bipin/CodeGround/IntellijProjects/py-dc/track'"
      ]
     },
     "execution_count": 25,
     "metadata": {},
     "output_type": "execute_result"
    }
   ],
   "source": [
    "#importing whole mod can requrie a lot mem, hence can import specific fun from module\n",
    "from os import chdir\n",
    "from os import chdir, getcwd #more func\n",
    "getcwd()"
   ]
  },
  {
   "cell_type": "code",
   "execution_count": 26,
   "id": "b97a780f",
   "metadata": {},
   "outputs": [
    {
     "name": "stdout",
     "output_type": "stream",
     "text": [
      "abcdefghijklmnopqrstuvwxyz\n",
      "!\"#$%&'()*+,-./:;<=>?@[\\]^_`{|}~\n"
     ]
    }
   ],
   "source": [
    "# Import the string module\n",
    "import string\n",
    "\n",
    "# Print all ASCII lowercase characters\n",
    "print(string.ascii_lowercase)\n",
    "\n",
    "# Print all punctuation\n",
    "print(string.punctuation)"
   ]
  },
  {
   "cell_type": "code",
   "execution_count": 27,
   "id": "9d8fc72c",
   "metadata": {},
   "outputs": [
    {
     "name": "stdout",
     "output_type": "stream",
     "text": [
      "<class 'datetime.date'>\n",
      "2024-01-19\n"
     ]
    }
   ],
   "source": [
    "# Import date from the datetime module\n",
    "from datetime import date\n",
    "\n",
    "# Create a variable called deadline\n",
    "deadline = date(2024, 1, 19)\n",
    "\n",
    "# Check the data type\n",
    "print(type(deadline))\n",
    "\n",
    "# Print the deadline\n",
    "print(deadline)"
   ]
  },
  {
   "cell_type": "markdown",
   "id": "4b9903f9",
   "metadata": {},
   "source": [
    "Packages/library\n",
    "\n",
    "collection of modules.\n",
    "\n",
    "need to be downloaded from pypi - then can be used like modules\n",
    "\n",
    "ex: python3 -m pip install <packageName> \n",
    "ex:pandas\n",
    "\n",
    "importing package usign alias - shortcut else need to use pandas everytime\n",
    "\n",
    "import pandas as pd\n",
    "\n"
   ]
  },
  {
   "cell_type": "markdown",
   "id": "9d2c6685",
   "metadata": {},
   "source": [
    "func vs methods\n",
    "\n",
    "func - code to perform task\n",
    "method - func specific to datatype\n",
    "\n",
    "sum([1,2]) - built in func\n",
    "pd.DataFrame(sales) - pandas func\n",
    "\n",
    "sales_df.head() - method specific to dataframe datatype\n",
    ".head wont work with others like list,dict"
   ]
  },
  {
   "cell_type": "code",
   "execution_count": null,
   "id": "ffa924fe",
   "metadata": {},
   "outputs": [
    {
     "name": "stdout",
     "output_type": "stream",
     "text": [
      "  user_id        date  order_value\n",
      "0    KM37  01/05/2024       197.75\n",
      "1    PR19  01/05/2024       208.21\n",
      "2    YU88  01/06/2024       134.99\n",
      "3    JB18  01/06/2024       317.81\n",
      "4    LP65  01/06/2024       201.30\n",
      "180.3025\n",
      "1442.42\n"
     ]
    }
   ],
   "source": [
    "sales={'user_id': ['KM37', 'PR19', 'YU88', 'JB18', 'LP65', 'HJ11', 'PR19', 'IJ54'], 'date': ['01/05/2024', '01/05/2024', '01/06/2024', '01/06/2024', '01/06/2024', '01/06/2024', '01/07/2024', '01/07/2024'], 'order_value': [197.75, 208.21, 134.99, 317.81, 201.3, 157.87, 99.99, 124.5]}\n",
    "# Import pandas as pd\n",
    "import pandas as pd\n",
    "\n",
    "# Convert sales to a pandas DataFrame\n",
    "sales_df = pd.DataFrame(sales)\n",
    "#pd.read_csv(\"sales.csv\")\n",
    "\n",
    "# Preview the first five rows\n",
    "print(sales_df.head())\n",
    "\n",
    "# Print the mean order_value\n",
    "print(sales_df[\"order_value\"].mean())\n",
    "\n",
    "# Print the total value of sales\n",
    "print(sales_df[\"order_value\"].sum())"
   ]
  },
  {
   "cell_type": "code",
   "execution_count": 32,
   "id": "8c9a3dfd",
   "metadata": {},
   "outputs": [
    {
     "name": "stdout",
     "output_type": "stream",
     "text": [
      "i_love_datacamp!\n"
     ]
    }
   ],
   "source": [
    "# Create the clean_string function\n",
    "def clean_string(text):\n",
    "  \n",
    "  # Replace spaces with underscores\n",
    "  no_spaces = text.replace(\" \", \"_\")\n",
    "  \n",
    "  # Convert to lowercase\n",
    "  clean_text = no_spaces.lower()\n",
    "  \n",
    "  # Return the final text as an output\n",
    "  return clean_text\n",
    "\n",
    "converted_text = clean_string(\"I LoVe dATaCamP!\")\n",
    "print(converted_text)"
   ]
  },
  {
   "cell_type": "markdown",
   "id": "675a9fdd",
   "metadata": {},
   "source": [
    "Arguments\n",
    "positional - provide args in order sep by ,\n",
    "keyword"
   ]
  },
  {
   "cell_type": "code",
   "execution_count": null,
   "id": "12a3f6bd",
   "metadata": {},
   "outputs": [
    {
     "name": "stdout",
     "output_type": "stream",
     "text": [
      "Help on built-in function round in module builtins:\n",
      "\n",
      "round(number, ndigits=None)\n",
      "    Round a number to a given precision in decimal digits.\n",
      "\n",
      "    The return value is an integer if ndigits is omitted or None.  Otherwise\n",
      "    the return value has the same type as the number.  ndigits may be negative.\n",
      "\n"
     ]
    }
   ],
   "source": [
    "\n",
    "#ndigits=None - default argument - way of setting default value\n",
    "help(round)"
   ]
  },
  {
   "cell_type": "code",
   "execution_count": 35,
   "id": "4d3216b3",
   "metadata": {},
   "outputs": [
    {
     "name": "stdout",
     "output_type": "stream",
     "text": [
      "i_love_datacamp!\n"
     ]
    },
    {
     "data": {
      "text/plain": [
       "{1, 2, 3, 'a', 'b', 'c'}"
      ]
     },
     "execution_count": 35,
     "metadata": {},
     "output_type": "execute_result"
    }
   ],
   "source": [
    "# Define clean_text\n",
    "def clean_text(text, lower=True):\n",
    "  if lower == False:\n",
    "    clean_text = text.replace(\" \", \"_\")\n",
    "    return clean_text\n",
    "  else:\n",
    "    clean_text = text.replace(\" \", \"_\")\n",
    "    clean_text = clean_text.lower()\n",
    "    return clean_text\n",
    "converted_text = clean_text(\"I LoVe dATaCamP!\")\n",
    "print(converted_text)\n",
    "\n",
    "# Create the convert_data_structure function\n",
    "def convert_data_structure(data, data_type=\"list\"):\n",
    "  \n",
    "  # If data_type is \"tuple\"\n",
    "  if data_type == \"tuple\":\n",
    "    data = tuple(data)\n",
    "  \n",
    "  # Else if data_type is set, convert to a set\n",
    "  elif data_type == \"set\":\n",
    "    data = set(data)\n",
    "  else:\n",
    "    data = list(data)\n",
    "  return data\n",
    "\n",
    "# Call the function to convert to a set\n",
    "convert_data_structure({\"a\", 1, \"b\", 2, \"c\", 3}, data_type=\"set\")"
   ]
  },
  {
   "cell_type": "code",
   "execution_count": null,
   "id": "c7fc11b7",
   "metadata": {},
   "outputs": [
    {
     "data": {
      "text/plain": [
       "'Round a number to a given precision in decimal digits.\\n\\nThe return value is an integer if ndigits is omitted or None.  Otherwise\\nthe return value has the same type as the number.  ndigits may be negative.'"
      ]
     },
     "execution_count": 37,
     "metadata": {},
     "output_type": "execute_result"
    }
   ],
   "source": [
    "#Accessing doc strin\n",
    "#help(round)\n",
    "round.__doc__ # dunder-doc attribute\n",
    "# can be modified for cust func since its an attrib"
   ]
  },
  {
   "cell_type": "code",
   "execution_count": 40,
   "id": "c3062744",
   "metadata": {},
   "outputs": [
    {
     "name": "stdout",
     "output_type": "stream",
     "text": [
      "Help on function convert_data_structure in module __main__:\n",
      "\n",
      "convert_data_structure(data, data_type='list')\n",
      "    Convert a data structure to a list, tuple, or set.\n",
      "\n",
      "    Args:\n",
      "          data (list, tuple, or set): A data structure to be converted.\n",
      "      data_type (str): String representing the type of structure to convert data to.\n",
      "\n",
      "    Returns:\n",
      "          data (list, tuple, or set): Converted data structure.\n",
      "\n",
      "None\n"
     ]
    }
   ],
   "source": [
    "# Create the convert_data_type function\n",
    "def convert_data_structure(data, data_type=\"list\"):\n",
    "  # Add a multi-line docstring\n",
    "  \"\"\"\n",
    "  Convert a data structure to a list, tuple, or set.\n",
    "  \n",
    "  Args:\n",
    "  \tdata (list, tuple, or set): A data structure to be converted.\n",
    "    data_type (str): String representing the type of structure to convert data to.\n",
    "    \n",
    "  Returns:\n",
    "  \tdata (list, tuple, or set): Converted data structure.\n",
    "  \"\"\"\n",
    "  if data_type == \"tuple\":\n",
    "    data = tuple(data)\n",
    "  elif data_type == \"set\":\n",
    "    data = set(data)\n",
    "  else:\n",
    "    data = list(data)\n",
    "  return data\n",
    "\n",
    "print(help(convert_data_structure))"
   ]
  },
  {
   "cell_type": "code",
   "execution_count": 41,
   "id": "1ce27f0d",
   "metadata": {},
   "outputs": [],
   "source": [
    "#arbitrary positional args - allows func to accept any number of args\n",
    "def average(*args):\n",
    "    pass\n",
    "# * : converst arguments to a single iterable - tuple\n",
    "\n",
    "#calculate across multiple lists\n",
    "average(*[1,2], *[3,4], *[5,6])\n",
    "\n",
    "#arbitrary keyword args - similar to passing in a dict\n",
    "#keyword=value\n",
    "def average(**kwargs):\n",
    "    pass\n",
    "\n",
    "average(a=1,b=2,c=3)\n",
    "\n",
    "#calling avg with 1 kwarg\n",
    "average(**{\"a\":1,\"b\":2,\"c\":3})\n",
    "#^each kv pair in dict is mapped to keyword arg and value\n",
    "\n",
    "#calculate across multiple dicts\n",
    "average(**{\"a\":1,\"b\":2}, **{\"c\":3,\"d\":4})"
   ]
  },
  {
   "cell_type": "code",
   "execution_count": 42,
   "id": "32a3dab0",
   "metadata": {},
   "outputs": [
    {
     "name": "stdout",
     "output_type": "stream",
     "text": [
      " Python is great!\n"
     ]
    }
   ],
   "source": [
    "# Define a function called concat\n",
    "def concat(*args):\n",
    "  \n",
    "  # Create an empty string\n",
    "  result = \"\"\n",
    "  \n",
    "  # Iterate over the Python args tuple\n",
    "  for arg in args:\n",
    "    result += \" \" + arg\n",
    "  return result\n",
    "\n",
    "# Call the function\n",
    "print(concat(\"Python\", \"is\", \"great!\"))"
   ]
  },
  {
   "cell_type": "code",
   "execution_count": 43,
   "id": "e68ce6bb",
   "metadata": {},
   "outputs": [
    {
     "name": "stdout",
     "output_type": "stream",
     "text": [
      " Python is great!\n"
     ]
    }
   ],
   "source": [
    "# Define a function called concat\n",
    "def concat(**kwargs):\n",
    "  \n",
    "  # Create an empty string\n",
    "  result = \"\"\n",
    "  \n",
    "  # Iterate over the Python kwargs\n",
    "  for kwarg in kwargs.values():\n",
    "    result += \" \" + kwarg\n",
    "  return result\n",
    "\n",
    "# Call the function\n",
    "print(concat(start=\"Python\", middle=\"is\", end=\"great!\"))"
   ]
  },
  {
   "cell_type": "code",
   "execution_count": null,
   "id": "5db0bf3f",
   "metadata": {},
   "outputs": [
    {
     "data": {
      "text/plain": [
       "<function __main__.<lambda>(x)>"
      ]
     },
     "execution_count": 1,
     "metadata": {},
     "output_type": "execute_result"
    }
   ],
   "source": [
    "# Lambda func - represents anonymous func\n",
    "# lambda args : expression\n",
    "# can store as a vars and call them\n",
    "# use for simple and perform once tasks. if complex - loops,if else - use normal func\n",
    "\n",
    "lambda x: sum(x)/len(x)"
   ]
  },
  {
   "cell_type": "code",
   "execution_count": null,
   "id": "08f5c3dd",
   "metadata": {},
   "outputs": [
    {
     "name": "stdout",
     "output_type": "stream",
     "text": [
      "6.0\n",
      "8\n"
     ]
    }
   ],
   "source": [
    "print((lambda x: sum(x)/len(x))([3,6,9])) #-> inline lambda\n",
    "avg = lambda x: sum(x)/len(x)\n",
    "avg([3,6,9])\n",
    "\n",
    "print((lambda x,y: x**y)(2,3))"
   ]
  },
  {
   "cell_type": "code",
   "execution_count": 7,
   "id": "d8e6669b",
   "metadata": {},
   "outputs": [
    {
     "name": "stdout",
     "output_type": "stream",
     "text": [
      "<map object at 0x10c8d2140>\n",
      "['Abc', 'Bca', 'Cab']\n"
     ]
    }
   ],
   "source": [
    "#lambda with iterables\n",
    "# map() - applies a func to all elem in iterable\n",
    "names = [\"Abc\", \"bca\", \"cab\"]\n",
    "capitalize = map(lambda x : x.capitalize(), names)\n",
    "print(capitalize)\n",
    "#<map object at 0x10c8d2e30> - points to mem object where this object is stored\n",
    "print(list(capitalize))"
   ]
  },
  {
   "cell_type": "code",
   "execution_count": 8,
   "id": "28442e86",
   "metadata": {},
   "outputs": [
    {
     "name": "stdout",
     "output_type": "stream",
     "text": [
      "[35.988, 11.94, 17.4, 47.699999999999996, 72.0]\n"
     ]
    }
   ],
   "source": [
    "sales_prices = [29.99, 9.95, 14.50, 39.75, 60.00]\n",
    "\n",
    "# Create add_taxes to add 20% to each item in sales_prices\n",
    "add_taxes = map(lambda x: x*1.2, sales_prices)\n",
    "\n",
    "# Create the updated list, sales_plus_tax\n",
    "sales_plus_tax = list(add_taxes)\n",
    "\n",
    "# Print the new list with updated values\n",
    "print(sales_plus_tax)"
   ]
  },
  {
   "cell_type": "markdown",
   "id": "35a13348",
   "metadata": {},
   "source": [
    "Errors\n",
    "https://docs.python.org/3/library/exceptions.html#exception-hierarchy\n"
   ]
  },
  {
   "cell_type": "code",
   "execution_count": null,
   "id": "072ae9d1",
   "metadata": {},
   "outputs": [],
   "source": [
    "#Type Error - incorrect data type - \"helloe\"+5\n",
    "# value error - not in acceptable range - float(\"A\")\n",
    "\n",
    "#Traceback - is a report - providing info - what type of error occured, where it occured\n"
   ]
  },
  {
   "cell_type": "code",
   "execution_count": null,
   "id": "7a1509dd",
   "metadata": {},
   "outputs": [],
   "source": [
    "#Avoiding errors - if still need to execute subsequent code\n",
    "def snake_case(text):\n",
    "  # Attempt to clean the text\n",
    "  try:\n",
    "    # Swap spaces for underscores\n",
    "    clean_text = text.replace(\" \", \"_\")\n",
    "    clean_text = clean_text.lower()\n",
    "  # Run this code if an error occurs\n",
    "  except:\n",
    "    print(\"The snake_case() function expects a string as an argument, please check the data type provided.\")\n",
    "    \n",
    "snake_case(\"User Name 187\")"
   ]
  },
  {
   "cell_type": "code",
   "execution_count": null,
   "id": "8d222ed0",
   "metadata": {},
   "outputs": [],
   "source": [
    "#Returning errors - Avoid executing subsequent code\n",
    "def snake_case(text):\n",
    "  # Check the data type\n",
    "  if type(text) == str:\n",
    "    clean_text = text.replace(\" \", \"_\")\n",
    "    clean_text = clean_text.lower()\n",
    "  else:\n",
    "    # Return a TypeError error if the wrong data type was used\n",
    "    raise TypeError(\"The snake_case() function expects a string as an argument, please check the data type provided.\")\n",
    "    \n",
    "snake_case(\"User Name 187\")\n"
   ]
  },
  {
   "cell_type": "markdown",
   "id": "ab7ceb4c",
   "metadata": {},
   "source": [
    "Iterable/Iterator\n"
   ]
  },
  {
   "cell_type": "markdown",
   "id": "3afa6e29",
   "metadata": {},
   "source": [
    "an iterable is an object that can return an iterator, \n",
    "\n",
    "while an iterator is an object that keeps state and produces the next value when you call next() on it."
   ]
  },
  {
   "cell_type": "code",
   "execution_count": null,
   "id": "a6012473",
   "metadata": {},
   "outputs": [
    {
     "name": "stdout",
     "output_type": "stream",
     "text": [
      "jay garrick\n",
      "barry allen\n",
      "wally west\n",
      "bart allen\n",
      "jay garrick\n",
      "barry allen\n",
      "wally west\n",
      "bart allen\n",
      "using splat operator :  jay garrick barry allen wally west bart allen\n"
     ]
    }
   ],
   "source": [
    "# Create a list of strings: flash\n",
    "flash = ['jay garrick', 'barry allen', 'wally west', 'bart allen']\n",
    "\n",
    "# Print each list item in flash using a for loop\n",
    "for person in flash:\n",
    "    print(person)\n",
    "\n",
    "\n",
    "# Create an iterator for flash: superhero\n",
    "superhero = iter(flash)\n",
    "\n",
    "# Print each item from the iterator\n",
    "print(next(superhero))\n",
    "print(next(superhero))\n",
    "print(next(superhero))\n",
    "print(next(superhero))\n",
    "\n",
    "#the previous print() calls would have exhausted the elements in superhero - recreate it\n",
    "superhero = iter(flash)\n",
    "print(\"using splat operator : \", *superhero)\n",
    "#iterates all at once"
   ]
  },
  {
   "cell_type": "code",
   "execution_count": 10,
   "id": "2468f341",
   "metadata": {},
   "outputs": [
    {
     "name": "stdout",
     "output_type": "stream",
     "text": [
      "0\n",
      "1\n",
      "2\n",
      "0\n",
      "1\n",
      "2\n",
      "0\n",
      "1\n",
      "2\n",
      "3\n",
      "4\n"
     ]
    }
   ],
   "source": [
    "# not all iterables are actual lists.\n",
    "#range() doesn't actually create the list; instead, it creates a range object with an iterator that produces the values until it reaches the limit\n",
    "#If range() created the actual list, calling it with a value of may not work, especially since a number as big as that may go over a regular computer's memory.\n",
    "\n",
    "# Create an iterator for range(3): small_value\n",
    "small_value = iter(range(3))\n",
    "\n",
    "# Print the values in small_value\n",
    "print(next(small_value))\n",
    "print(next(small_value))\n",
    "print(next(small_value))\n",
    "\n",
    "# Loop over range(3) and print the values\n",
    "for num in range(3):\n",
    "    print(num)\n",
    "\n",
    "\n",
    "# Create an iterator for range(10 ** 100): googol\n",
    "googol = iter(range(10 ** 100))\n",
    "\n",
    "# Print the first 5 values from googol\n",
    "print(next(googol))\n",
    "print(next(googol))\n",
    "print(next(googol))\n",
    "print(next(googol))\n",
    "print(next(googol))\n"
   ]
  },
  {
   "cell_type": "code",
   "execution_count": null,
   "id": "aedda8e2",
   "metadata": {},
   "outputs": [
    {
     "name": "stdout",
     "output_type": "stream",
     "text": [
      "range(10, 21)\n",
      "[10, 11, 12, 13, 14, 15, 16, 17, 18, 19, 20]\n",
      "165\n"
     ]
    }
   ],
   "source": [
    "# Create a range object: values\n",
    "values = range(10,21)\n",
    "\n",
    "# Print the range object\n",
    "print(values)\n",
    "\n",
    "# Create a list of integers: values_list\n",
    "values_list = list(values)\n",
    "\n",
    "# Print values_list\n",
    "print(values_list)\n",
    "\n",
    "# Get the sum of values: values_sum\n",
    "values_sum = sum(values) #sum(values_list)\n",
    "\n",
    "# Print values_sum\n",
    "print(values_sum)\n"
   ]
  },
  {
   "cell_type": "code",
   "execution_count": 17,
   "id": "ebd4f32f",
   "metadata": {},
   "outputs": [
    {
     "name": "stdout",
     "output_type": "stream",
     "text": [
      "[(0, 'charles xavier'), (1, 'bobby drake'), (2, 'kurt wagner'), (3, 'max eisenhardt'), (4, 'kitty pryde')]\n",
      "0 charles xavier\n",
      "1 bobby drake\n",
      "2 kurt wagner\n",
      "3 max eisenhardt\n",
      "4 kitty pryde\n",
      "1 charles xavier\n",
      "2 bobby drake\n",
      "3 kurt wagner\n",
      "4 max eisenhardt\n",
      "5 kitty pryde\n"
     ]
    }
   ],
   "source": [
    "# Create a list of strings: mutants\n",
    "mutants = ['charles xavier', \n",
    "            'bobby drake', \n",
    "            'kurt wagner', \n",
    "            'max eisenhardt', \n",
    "            'kitty pryde']\n",
    "\n",
    "# Create a list of tuples: mutant_list\n",
    "mutant_list = list(enumerate(mutants))\n",
    "\n",
    "# Print the list of tuples\n",
    "print(mutant_list)\n",
    "\n",
    "# Unpack and print the tuple pairs\n",
    "for index1, value1 in enumerate(mutants):\n",
    "    print(index1, value1)\n",
    "\n",
    "# Change the start index\n",
    "for index2, value2 in enumerate(mutants,1):\n",
    "    print(index2, value2)\n"
   ]
  },
  {
   "cell_type": "code",
   "execution_count": 18,
   "id": "1f6f8e58",
   "metadata": {},
   "outputs": [
    {
     "name": "stdout",
     "output_type": "stream",
     "text": [
      "[('charles xavier', 'prof x', 'telepathy'), ('bobby drake', 'iceman', 'thermokinesis'), ('kurt wagner', 'nightcrawler', 'teleportation'), ('max eisenhardt', 'magneto', 'magnetokinesis'), ('kitty pryde', 'shadowcat', 'intangibility')]\n",
      "<zip object at 0x10c947240>\n",
      "charles xavier prof x telepathy\n",
      "bobby drake iceman thermokinesis\n",
      "kurt wagner nightcrawler teleportation\n",
      "max eisenhardt magneto magnetokinesis\n",
      "kitty pryde shadowcat intangibility\n"
     ]
    }
   ],
   "source": [
    "aliases=['prof x', 'iceman', 'nightcrawler', 'magneto', 'shadowcat']\n",
    "powers=['telepathy', 'thermokinesis', 'teleportation', 'magnetokinesis', 'intangibility']\n",
    "\n",
    "# Create a list of tuples: mutant_data\n",
    "mutant_data = list(zip(mutants, aliases, powers))\n",
    "\n",
    "# Print the list of tuples\n",
    "print(mutant_data)\n",
    "\n",
    "# Create a zip object using the three lists: mutant_zip\n",
    "mutant_zip = zip(mutants, aliases, powers)\n",
    "\n",
    "# Print the zip object\n",
    "print(mutant_zip)\n",
    "\n",
    "# Unpack the zip object and print the tuple values\n",
    "for value1, value2, value3 in mutant_zip:\n",
    "    print(value1, value2, value3)"
   ]
  },
  {
   "cell_type": "code",
   "execution_count": 25,
   "id": "46aeb526",
   "metadata": {},
   "outputs": [
    {
     "name": "stdout",
     "output_type": "stream",
     "text": [
      "('charles xavier', 'telepathy') ('bobby drake', 'thermokinesis') ('kurt wagner', 'teleportation') ('max eisenhardt', 'magnetokinesis') ('kitty pryde', 'intangibility')\n",
      "('charles xavier', 'bobby drake', 'kurt wagner', 'max eisenhardt', 'kitty pryde')\n",
      "('telepathy', 'thermokinesis', 'teleportation', 'magnetokinesis', 'intangibility')\n",
      "['charles xavier', 'bobby drake', 'kurt wagner', 'max eisenhardt', 'kitty pryde']\n",
      "['telepathy', 'thermokinesis', 'teleportation', 'magnetokinesis', 'intangibility']\n",
      "False\n",
      "False\n"
     ]
    }
   ],
   "source": [
    "# Create a zip object from mutants and powers: z1\n",
    "z1 = zip(mutants,powers)\n",
    "\n",
    "# Print the tuples in z1 by unpacking with *\n",
    "print(*z1)\n",
    "\n",
    "# Re-create a zip object from mutants and powers: z1\n",
    "z1 = zip(mutants,powers)\n",
    "\n",
    "# 'Unzip' the tuples in z1 by unpacking with * and zip(): result1, result2\n",
    "result1, result2 = zip(*z1)\n",
    "\n",
    "print(result1)\n",
    "print(result2)\n",
    "print(mutants)\n",
    "print(powers)\n",
    "\n",
    "# Check if unpacked tuples are equivalent to original tuples\n",
    "print(result1 == mutants)\n",
    "print(result2 == powers)"
   ]
  },
  {
   "cell_type": "code",
   "execution_count": 28,
   "id": "09d1d6ea",
   "metadata": {},
   "outputs": [],
   "source": [
    "#Processing large amounts\n",
    "#A solution to this is to process an entire data source chunk by chunk, instead of a single go all at once.\n",
    "\n",
    "# Initialize an empty dictionary: counts_dict\n",
    "\n",
    "import pandas as pd\n",
    "\n",
    "# Define count_entries()\n",
    "def count_entries(csv_file,c_size,colname):\n",
    "    \"\"\"Return a dictionary with counts of\n",
    "    occurrences as value for each key.\"\"\"\n",
    "    \n",
    "    # Initialize an empty dictionary: counts_dict\n",
    "    counts_dict = {}\n",
    "\n",
    "    # Iterate over the file chunk by chunk\n",
    "    for chunk in pd.read_csv(csv_file, chunksize=c_size):\n",
    "\n",
    "        # Iterate over the column in DataFrame\n",
    "        for entry in chunk[colname]:\n",
    "            if entry in counts_dict.keys():\n",
    "                counts_dict[entry] += 1\n",
    "            else:\n",
    "                counts_dict[entry] = 1\n",
    "\n",
    "    # Return counts_dict\n",
    "    return counts_dict\n",
    "\n",
    "# Call count_entries(): result_counts\n",
    "#result_counts = count_entries('tweets.csv',10,'lang')\n",
    "\n",
    "# Print result_counts\n",
    "#print(result_counts)\n"
   ]
  },
  {
   "cell_type": "markdown",
   "id": "1151f78f",
   "metadata": {},
   "source": [
    "List comprehensions:\n",
    "\n",
    "create lists from other lists, df columns\n",
    "\n",
    "single line of code - more effecient than for loop\n",
    "\n",
    "not just for lists - can be used on any iterable\n",
    "\n",
    "required components:\n",
    "1.iterable, 2:iterator varaible 3:output expression"
   ]
  },
  {
   "cell_type": "code",
   "execution_count": 30,
   "id": "218c1a4c",
   "metadata": {},
   "outputs": [
    {
     "name": "stdout",
     "output_type": "stream",
     "text": [
      "[1, 2, 3, 4, 5]\n",
      "[(0, 6), (0, 7), (1, 6), (1, 7)]\n"
     ]
    }
   ],
   "source": [
    "result = [num + 1 for num in range(5)]\n",
    "print(result)\n",
    "\n",
    "#nested loops - tradeoff - readability\n",
    "pairs2 = [(num1,num2) for num1 in range(0,2) for num2 in range(6,8)]\n",
    "print(pairs2)"
   ]
  },
  {
   "cell_type": "code",
   "execution_count": 32,
   "id": "a0934ebd",
   "metadata": {},
   "outputs": [
    {
     "name": "stdout",
     "output_type": "stream",
     "text": [
      "[0, 1, 2, 3, 4]\n",
      "[0, 1, 2, 3, 4]\n",
      "[0, 1, 2, 3, 4]\n",
      "[0, 1, 2, 3, 4]\n",
      "[0, 1, 2, 3, 4]\n",
      "[0, 0, 0, 0, 0]\n",
      "[1, 1, 1, 1, 1]\n",
      "[2, 2, 2, 2, 2]\n",
      "[3, 3, 3, 3, 3]\n",
      "[4, 4, 4, 4, 4]\n"
     ]
    }
   ],
   "source": [
    "# Create a 5 x 5 matrix using a list of lists: matrix\n",
    "matrix = [[col for col in range(5)] for _ in range(5)]\n",
    "\n",
    "# Print the matrix\n",
    "for row in matrix:\n",
    "    print(row)\n",
    "    \n",
    "# Create a 5 x 5 column-major matrix\n",
    "matrix = [[row for _ in range(5)] for row in range(5)]\n",
    "\n",
    "# Print the matrix\n",
    "for row in matrix:\n",
    "    print(row)"
   ]
  },
  {
   "cell_type": "code",
   "execution_count": 36,
   "id": "f6b665d6",
   "metadata": {},
   "outputs": [
    {
     "name": "stdout",
     "output_type": "stream",
     "text": [
      "[[0, 1, 2, 3, 4], [0, 1, 2, 3, 4], [0, 1, 2, 3, 4], [0, 1, 2, 3, 4], [0, 1, 2, 3, 4]]\n",
      "[[0, 10, 2, 3, 4], [0, 10, 2, 3, 4], [0, 10, 2, 3, 4], [0, 10, 2, 3, 4], [0, 10, 2, 3, 4]]\n"
     ]
    }
   ],
   "source": [
    "mat = [[0, 1, 2, 3, 4]] * 5\n",
    "#This looks similar but actually makes five references to the same row (so changing one row changes them all).\n",
    "#That’s why we use the list comprehension instead. ✅\n",
    "print(mat)\n",
    "mat[1][1] = 10\n",
    "print(mat)"
   ]
  },
  {
   "cell_type": "code",
   "execution_count": 41,
   "id": "ed035844",
   "metadata": {},
   "outputs": [
    {
     "name": "stdout",
     "output_type": "stream",
     "text": [
      "['samwise', 'aragorn', 'legolas', 'boromir']\n"
     ]
    },
    {
     "data": {
      "text/plain": [
       "[0, 4, 16, 36, 64]"
      ]
     },
     "execution_count": 41,
     "metadata": {},
     "output_type": "execute_result"
    }
   ],
   "source": [
    "# advanced comprehensions - using conditionals inside list comprehensions\n",
    "\n",
    "# Create a list of strings: fellowship\n",
    "fellowship = ['frodo', 'samwise', 'merry', 'aragorn', 'legolas', 'boromir', 'gimli']\n",
    "\n",
    "# Create list comprehension: new_fellowship\n",
    "new_fellowship = [member for member in fellowship if len(member) >= 7]\n",
    "\n",
    "# Print the new list\n",
    "print(new_fellowship)\n",
    "\n",
    "#Conditionals on iterable\n",
    "[num ** 2 for num in range(10) if num % 2 == 0]"
   ]
  },
  {
   "cell_type": "code",
   "execution_count": 42,
   "id": "3f4a6d61",
   "metadata": {},
   "outputs": [
    {
     "name": "stdout",
     "output_type": "stream",
     "text": [
      "['', 'samwise', '', 'aragorn', 'legolas', 'boromir', '']\n"
     ]
    },
    {
     "data": {
      "text/plain": [
       "[0, 0, 4, 0, 16, 0, 36, 0, 64, 0]"
      ]
     },
     "execution_count": 42,
     "metadata": {},
     "output_type": "execute_result"
    }
   ],
   "source": [
    "# Create a list of strings: fellowship\n",
    "fellowship = ['frodo', 'samwise', 'merry', 'aragorn', 'legolas', 'boromir', 'gimli']\n",
    "\n",
    "# Create list comprehension: new_fellowship\n",
    "new_fellowship = [member if len(member)>=7 else \"\" for member in fellowship]\n",
    "\n",
    "# Print the new list\n",
    "print(new_fellowship)\n",
    "\n",
    "\n",
    "#conditionals on output expression\n",
    "[num ** 2 if num % 2 == 0 else 0 for num in range(10)]"
   ]
  },
  {
   "cell_type": "code",
   "execution_count": 40,
   "id": "43ba32ec",
   "metadata": {},
   "outputs": [
    {
     "name": "stdout",
     "output_type": "stream",
     "text": [
      "{0: 0, 1: -1, 2: -2, 3: -3, 4: -4, 5: -5, 6: -6, 7: -7, 8: -8}\n"
     ]
    }
   ],
   "source": [
    "#dict comprehensions - Use curly braces {} instead of brackets []\n",
    "pos_neg = {num: -num for num in range(9)}\n",
    "print(pos_neg)"
   ]
  },
  {
   "cell_type": "markdown",
   "id": "4516cd8b",
   "metadata": {},
   "source": [
    "Generator expressions"
   ]
  },
  {
   "cell_type": "code",
   "execution_count": null,
   "id": "e8475ca1",
   "metadata": {},
   "outputs": [],
   "source": []
  }
 ],
 "metadata": {
  "kernelspec": {
   "display_name": "py-dc",
   "language": "python",
   "name": "python3"
  },
  "language_info": {
   "codemirror_mode": {
    "name": "ipython",
    "version": 3
   },
   "file_extension": ".py",
   "mimetype": "text/x-python",
   "name": "python",
   "nbconvert_exporter": "python",
   "pygments_lexer": "ipython3",
   "version": "3.13.7"
  }
 },
 "nbformat": 4,
 "nbformat_minor": 5
}
