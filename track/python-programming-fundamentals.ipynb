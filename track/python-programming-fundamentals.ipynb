{
 "cells": [
  {
   "cell_type": "code",
   "execution_count": 4,
   "id": "088b4ff4-ab5f-42a6-bbf8-88f52fd91130",
   "metadata": {},
   "outputs": [
    {
     "name": "stdout",
     "output_type": "stream",
     "text": [
      "10.0\n",
      "<class 'float'>\n",
      "10:<class 'int'>\n",
      "False:<class 'bool'>\n",
      "0.0001\n",
      "1e-05\n",
      "1e-07\n",
      "0.000010\n",
      "0.000000\n",
      "0.0000001\n",
      "False\n",
      "True\n",
      "FEMALE: False\n",
      "True: True\n"
     ]
    }
   ],
   "source": [
    "res = 120 / 12 #float division\n",
    "res1 = 120 // 12 #floored division\n",
    "\n",
    "check = False\n",
    "\n",
    "print(res)\n",
    "print(type(res))\n",
    "print(str(res1) + \":\" + str(type(res1)))\n",
    "print(str(check) + \":\" + str(type(check)))\n",
    "\n",
    "float1=0.0001\n",
    "float2=0.00001\n",
    "float3=0.0000001\n",
    "# Print floats 1, 2, and 3\n",
    "print(float1)\n",
    "print(float2)\n",
    "print(float3)\n",
    "\n",
    "# Print floats 2 and 3 using the f string formatter\n",
    "print(f\"{float2:f}\")\n",
    "print(f\"{float3:f}\")\n",
    "\n",
    "# Print float 3 with a 7 f string precision\n",
    "print(f\"{float3:0.7f}\")\n",
    "\n",
    "#truthey , falsey values\n",
    "#Boolean values are capitalized in python\n",
    "#many python types return \"truthy\" or \"falsey\" values depending on their condition when evaluated using the bool() function.\n",
    "# Create an empty list\n",
    "my_list = []\n",
    "\n",
    "# Check the truthiness of my_list\n",
    "print(bool(my_list))\n",
    "\n",
    "# Append the string 'cookies' to my_list\n",
    "my_list.append('cookies')\n",
    "\n",
    "# Check the truthiness of my_list\n",
    "print(bool(my_list))\n",
    "\n",
    "#While comparisons check for truthiness, something being truthy is not the same as it being True. The inverse of that statement is also true about falsey values and them not being False. So we need to be vigilent when we are checking is something is True or False vs truthy or falsey. In Python, we have the is operator to check if two things are identical. \n",
    "penguin_305_details={'species': 'Adlie', 'flipper_length': 190.0, 'body_mass': 3050.0, 'tracked': True, 'sex': 'FEMALE'}\n",
    "# Check the truthiness of penguin_305_details sex key\n",
    "if penguin_305_details[\"sex\"]:\n",
    "\t# If true, check if sex is True and store it as sex_is_true\n",
    "    sex_is_true = penguin_305_details[\"sex\"] is True\n",
    "    # Print the sex key's value and sex_is_true\n",
    "    print(f\"{penguin_305_details['sex']}: {sex_is_true}\")\n",
    "\n",
    "# Check the truthiness of penguin_305_details tracked key\n",
    "if penguin_305_details[\"tracked\"]:\n",
    "\t# If true, check if tracked is True and store it as tracked_is_true\n",
    "    tracked_is_true = penguin_305_details[\"tracked\"] is True\n",
    "    # Print the tracked key and tracked_is_true\n",
    "    print(f\"{penguin_305_details['tracked']}: {tracked_is_true}\")\n"
   ]
  },
  {
   "cell_type": "markdown",
   "id": "0410d943",
   "metadata": {},
   "source": [
    "Strings:\n",
    "\" exist to care of ' if present in input string already"
   ]
  },
  {
   "cell_type": "code",
   "execution_count": 7,
   "id": "ab4e973b",
   "metadata": {},
   "outputs": [
    {
     "name": "stdout",
     "output_type": "stream",
     "text": [
      "abc\n",
      "ABC\n"
     ]
    },
    {
     "data": {
      "text/plain": [
       "'cat tiger'"
      ]
     },
     "execution_count": 7,
     "metadata": {},
     "output_type": "execute_result"
    }
   ],
   "source": [
    "#Method: A func available to specific data type\n",
    "print(\"AbC\".lower())\n",
    "print(\"aBc\".upper())\n",
    "\"cat dog\".replace(\"dog\", \"tiger\")"
   ]
  },
  {
   "cell_type": "code",
   "execution_count": 9,
   "id": "f4111787",
   "metadata": {},
   "outputs": [
    {
     "name": "stdout",
     "output_type": "stream",
     "text": [
      "introduction_to_embeddings_with_the_openai_api\n",
      "Introduction_To_Embeddings_With_The_Openai_Api\n"
     ]
    }
   ],
   "source": [
    "most_popular_course = \"Intro to Embeddings with the OpenAI API\"\n",
    "\n",
    "# Update the first word\n",
    "most_popular_course = most_popular_course.replace(\"Intro\", \"Introduction\")\n",
    "\n",
    "# Swap spaces for underscores\n",
    "most_popular_course = most_popular_course.replace(\" \", \"_\")\n",
    "\n",
    "# Change to lowercase\n",
    "most_popular_course = most_popular_course.lower()\n",
    "\n",
    "print(most_popular_course)\n",
    "print(most_popular_course.title())"
   ]
  },
  {
   "cell_type": "code",
   "execution_count": 5,
   "id": "87ad9d28",
   "metadata": {},
   "outputs": [
    {
     "name": "stdout",
     "output_type": "stream",
     "text": [
      "<class 'list'>\n"
     ]
    },
    {
     "data": {
      "text/plain": [
       "list"
      ]
     },
     "execution_count": 5,
     "metadata": {},
     "output_type": "execute_result"
    }
   ],
   "source": [
    "price = [10,20, 30.0, \"40\", 50, 60.0]\n",
    "ll = [1,2,3,4]\n",
    "print(type(ll))\n",
    "type(price)"
   ]
  },
  {
   "cell_type": "code",
   "execution_count": 6,
   "id": "48e27d9e",
   "metadata": {},
   "outputs": [
    {
     "name": "stdout",
     "output_type": "stream",
     "text": [
      "30.0\n",
      "60.0\n",
      "[20, 30.0]\n",
      "[20, 30.0, '40', 50, 60.0]\n",
      "[10, 20, 30.0]\n",
      "[10, 30.0, 50]\n",
      "[20, 50]\n",
      "['Blinding Lights', 'One Dance', 'Uptown Funk', 'Closer', 'One Kiss', 'Mr. Brightside']\n",
      "xxxx\n"
     ]
    }
   ],
   "source": [
    "#subsetting\n",
    "print(price[2])\n",
    "\n",
    "# last without knowing length\n",
    "print(price[-1])\n",
    "\n",
    "# start:end-1\n",
    "print(price[1:3])\n",
    "\n",
    "#till last\n",
    "print(price[1:])\n",
    "\n",
    "#till index\n",
    "print(price[:3])\n",
    "\n",
    "#alternating access - access every 3rd ele\n",
    "print(price[::2])\n",
    "\n",
    "#access every 3rd ele, starting at 2ns\n",
    "print(price[1::3])\n",
    "\n",
    "playlist=[1, 'Blinding Lights', 'The Weeknd', 2, 'One Dance', 'Drake', 3, 'Uptown Funk', 'Mark Ronson', 4, 'Closer', 'The Chainsmokers', 5, 'One Kiss', 'Calvin Harris', 6, 'Mr. Brightside', 'The Killers']\n",
    "# Print all songs in the playlist\n",
    "print(playlist[1::3])\n",
    "\n",
    "#append\n",
    "playlist.append(\"xxxx\")\n",
    "print(playlist[-1])"
   ]
  },
  {
   "cell_type": "code",
   "execution_count": 6,
   "id": "451f822f",
   "metadata": {},
   "outputs": [
    {
     "name": "stdout",
     "output_type": "stream",
     "text": [
      "dict_keys(['The Weeknd', 'Drake', 'Mark Ronson', 'The Chainsmokers', 'Calvin Harris', 'The Killers', 'Oasis', 'Rihanna', 'Coldplay', 'Usher'])\n",
      "dict_values(['Blinding Lights', 'One Dance', 'Uptown Funk', 'Closer', 'One Kiss', 'Mr. Brightside', 'Wonderwall', 'We Found Love', 'Yeah!', 'Yeah!'])\n",
      "dict_items([('The Weeknd', 'Blinding Lights'), ('Drake', 'One Dance'), ('Mark Ronson', 'Uptown Funk'), ('The Chainsmokers', 'Closer'), ('Calvin Harris', 'One Kiss'), ('The Killers', 'Mr. Brightside'), ('Oasis', 'Wonderwall'), ('Rihanna', 'We Found Love'), ('Coldplay', 'Yeah!'), ('Usher', 'Yeah!')])\n",
      "The Weeknd\n",
      "Usher\n",
      "('Gray', 'Black', 'Climbing', None)\n",
      "<class 'NoneType'>\n",
      "Not Found\n"
     ]
    }
   ],
   "source": [
    "#dictionaries\n",
    "# are ordered\n",
    "# values accessed by subsetting the key\n",
    "# can be created by dict() or {}\n",
    "playlist={'The Weeknd': 'Blinding Lights', 'Drake': 'One Dance', 'Mark Ronson': 'Uptown Funk', 'The Chainsmokers': 'Closer', 'Calvin Harris': 'One Kiss', 'The Killers': 'Mr. Brightside', 'Oasis': 'Wonderwall', 'Rihanna': 'We Found Love', 'Coldplay': 'Yeah!', 'Usher': 'Yeah!'}\n",
    "\n",
    "print(playlist.keys())\n",
    "print(playlist.values())\n",
    "print(playlist.items())\n",
    "\n",
    "# by default sort by keys - when sorted\n",
    "for song in sorted(playlist)[-2:]:\n",
    "    print(song)\n",
    "\n",
    "squirrels_by_park={'Marcus Garvey Park': ('Black', 'Cinnamon', 'Cleaning', None), 'Highbridge Park': ('Gray', 'Cinnamon', 'Running, Eating', 'Runs From, watches us in short tree'), 'Madison Square Park': ('Gray', None, 'Foraging', 'Indifferent'), 'City Hall Park': ('Gray', 'Cinnamon', 'Eating', 'Approaches'), 'J. Hood Wright Park': ('Gray', 'White', 'Running', 'Indifferent'), 'Seward Park': ('Gray', 'Cinnamon', 'Eating', 'Indifferent'), 'Union Square Park': ('Gray', 'Black', 'Climbing', None), 'Tompkins Square Park': ('Gray', 'Gray', 'Lounging', 'Approaches')}\n",
    "\n",
    "# Safely print 'Union Square Park' from the squirrels_by_park dictionary\n",
    "print(squirrels_by_park.get('Union Square Park'))\n",
    "\n",
    "# Safely print the type of 'Fort Tryon Park' from the squirrels_by_park dictionary\n",
    "print(type(squirrels_by_park.get('Fort Tryon Park')))\n",
    "\n",
    "# Safely print 'Central Park' from the squirrels_by_park dictionary or 'Not Found'\n",
    "print(squirrels_by_park.get('Central Park', 'Not Found'))\n",
    "\n",
    "#.update() method to update a dictionary from another dictionary, tuples or keywords\n",
    "#del instruction deletes a key/value\n",
    "#.pop() method safely removes a key/value from a dictionary\n",
    "squirrels_union=('Union Square Park', [{'primary_fur_color': 'Gray', 'highlights_in_fur_color': None, 'activities': 'Eating, Foraging', 'interactions_with_humans': None}, {'primary_fur_color': 'Gray', 'highlights_in_fur_color': 'Cinnamon', 'activities': 'Climbing, Eating', 'interactions_with_humans': None}, {'primary_fur_color': 'Cinnamon', 'highlights_in_fur_color': None, 'activities': 'Foraging', 'interactions_with_humans': 'Indifferent'}, {'primary_fur_color': 'Gray', 'highlights_in_fur_color': None, 'activities': 'Running, Digging', 'interactions_with_humans': 'Runs From'}, {'primary_fur_color': 'Gray', 'highlights_in_fur_color': None, 'activities': 'Digging', 'interactions_with_humans': 'Indifferent'}, {'primary_fur_color': 'Gray', 'highlights_in_fur_color': 'Black', 'activities': 'Climbing', 'interactions_with_humans': None}, {'primary_fur_color': 'Gray', 'highlights_in_fur_color': None, 'activities': 'Eating, Foraging', 'interactions_with_humans': None}])\n",
    "\n",
    "squirrels_madison=[{'primary_fur_color': 'Gray', 'highlights_in_fur_color': None, 'activities': 'Sitting', 'interactions_with_humans': 'Indifferent'}, {'primary_fur_color': 'Gray', 'highlights_in_fur_color': 'Cinnamon', 'activities': 'Foraging', 'interactions_with_humans': 'Indifferent'}, {'primary_fur_color': 'Gray', 'highlights_in_fur_color': None, 'activities': 'Climbing, Foraging', 'interactions_with_humans': 'Indifferent'}]\n",
    "\n",
    "# Assign squirrels_madison as the value to the 'Madison Square Park' key\n",
    "squirrels_by_park['Madison Square Park'] = squirrels_madison\n",
    "\n",
    "# Update squirrels_by_park with the squirrels_union tuple\n",
    "squirrels_by_park.update([squirrels_union])\n",
    "\n",
    "# Loop over the park_name in the squirrels_by_park dictionary \n",
    "for park_name in squirrels_by_park:\n",
    "    # Safely print a list of the primary_fur_color for each squirrel in park_name\n",
    "    #print(park_name, [squirrel.get('primary_fur_color', 'N/A') for squirrel in squirrels_by_park[park_name]])  \n",
    "    pass\n",
    "\n",
    "#pythonic way\n",
    "#can check to see if a key exists in a dictionary by using the in expression."
   ]
  },
  {
   "cell_type": "code",
   "execution_count": 9,
   "id": "f9117fd0",
   "metadata": {},
   "outputs": [
    {
     "name": "stdout",
     "output_type": "stream",
     "text": [
      "<class 'set'>\n",
      "{'One Dance', 'Blinding Lights', 'Uptown Funk', 'Closer', 'Yeah!', 'One Kiss', 'We Found Love', 'Wonderwall', 'Mr. Brightside'}\n",
      "{'Chinstrap'}\n",
      "3\n",
      "2\n"
     ]
    }
   ],
   "source": [
    "#Set\n",
    "# : -> dict, no : -> set\n",
    "set1 = {}\n",
    "# casting list to set - by invoking set method\n",
    "set2 = set(playlist.values())\n",
    "print(type(set2))\n",
    "print(set2)\n",
    "\n",
    "#limitataions\n",
    "# cant have duplicate values, cant subset with [] - set1[0] - set object not subscriptable\n",
    "#sets are unordered - can be ordered by invoking - sorted() -> returns list\n",
    "sorted(set2)\n",
    "\n",
    "male_penguin_species = {'Adlie', 'Gentoo'}\n",
    "female_species_list=['Adlie', 'Adlie', 'Gentoo', 'Gentoo', 'Gentoo', 'Chinstrap', 'Chinstrap', 'Chinstrap', 'Adlie', 'Gentoo', 'Adlie', 'Chinstrap', 'Adlie', 'Gentoo']\n",
    "penguins=[{'species': 'Adlie', 'flipper_length': 190.0, 'body_mass': 3050.0, 'sex': 'FEMALE'}, {'species': 'Adlie', 'flipper_length': 184.0, 'body_mass': 3325.0, 'sex': 'FEMALE'}, {'species': 'Gentoo', 'flipper_length': 209.0, 'body_mass': 4800.0, 'sex': 'FEMALE'}, {'species': 'Adlie', 'flipper_length': 193.0, 'body_mass': 4200.0, 'sex': 'MALE'}, {'species': 'Gentoo', 'flipper_length': 210.0, 'body_mass': 4400.0, 'sex': 'FEMALE'}, {'species': 'Gentoo', 'flipper_length': 213.0, 'body_mass': 4650.0, 'sex': 'FEMALE'}, {'species': 'Chinstrap', 'flipper_length': 193.0, 'body_mass': 3600.0, 'sex': 'FEMALE'}, {'species': 'Adlie', 'flipper_length': 193.0, 'body_mass': 3800.0, 'sex': 'MALE'}, {'species': 'Chinstrap', 'flipper_length': 199.0, 'body_mass': 3900.0, 'sex': 'FEMALE'}, {'species': 'Chinstrap', 'flipper_length': 195.0, 'body_mass': 3650.0, 'sex': 'FEMALE'}, {'species': 'Adlie', 'flipper_length': 185.0, 'body_mass': 3700.0, 'sex': 'FEMALE'}, {'species': 'Gentoo', 'flipper_length': 208.0, 'body_mass': 4575.0, 'sex': 'FEMALE'}, {'species': 'Adlie', 'flipper_length': 196.0, 'body_mass': 4350.0, 'sex': 'MALE'}, {'species': 'Adlie', 'flipper_length': 191.0, 'body_mass': 3700.0, 'sex': 'FEMALE'}, {'species': 'Chinstrap', 'flipper_length': 195.0, 'body_mass': 3300.0, 'sex': 'FEMALE'}, {'species': 'Adlie', 'flipper_length': 195.0, 'body_mass': 3450.0, 'sex': 'FEMALE'}, {'species': 'Gentoo', 'flipper_length': 217.0, 'body_mass': 4875.0, 'sex': '.'}, {'species': 'Gentoo', 'flipper_length': 212.0, 'body_mass': 4875.0, 'sex': 'FEMALE'}, {'species': 'Adlie', 'flipper_length': 205.0, 'body_mass': 4300.0, 'sex': 'MALE'}, {'species': 'Gentoo', 'flipper_length': 220.0, 'body_mass': 6000.0, 'sex': 'MALE'}]\n",
    "\n",
    "# Use a list comprehension to iterate over each penguin in penguins saved as female_species_list\n",
    "# If the the sex of the penguin is 'FEMALE', return the species value\n",
    "female_species_list = [penguin[\"species\"] for penguin in penguins if penguin[\"sex\"] == 'FEMALE']\n",
    "\n",
    "# Create a set using the female_species_list as female_penguin_species\n",
    "female_penguin_species = set(female_species_list)\n",
    "\n",
    "# Find the difference between female_penguin_species and male_penguin_species. Store the result as differences\n",
    "differences = female_penguin_species.difference(male_penguin_species)\n",
    "\n",
    "# Print the differences\n",
    "print(differences)\n",
    "\n",
    "# Find the union: all_species\n",
    "all_species = female_penguin_species.union(male_penguin_species)\n",
    "# Print the count of names in all_species\n",
    "print(len(all_species))\n",
    "# Find the intersection: overlapping_species\n",
    "overlapping_species = female_penguin_species.intersection(male_penguin_species)\n",
    "# Print the count of species in overlapping_species\n",
    "print(len(overlapping_species))"
   ]
  },
  {
   "cell_type": "code",
   "execution_count": null,
   "id": "4964b55d",
   "metadata": {},
   "outputs": [
    {
     "name": "stdout",
     "output_type": "stream",
     "text": [
      "(1, 2, 3)\n"
     ]
    }
   ],
   "source": [
    "#tuples - cant add, remove, change values\n",
    "# are ordered like lists, dict. Hence can subset - tup[0]\n",
    "loc = ('a','b','c')\n",
    "list1 = [1,2,3]\n",
    "tuple1 = tuple(list1) # convert another data structure to tuple\n",
    "print(tuple1)"
   ]
  },
  {
   "cell_type": "code",
   "execution_count": 18,
   "id": "f731d903",
   "metadata": {},
   "outputs": [
    {
     "name": "stdout",
     "output_type": "stream",
     "text": [
      "True\n",
      "Too expensive\n"
     ]
    }
   ],
   "source": [
    "# Conditionals\n",
    "print(\"James\" > \"Brian\")\n",
    "\n",
    "min_num_beds = 2\n",
    "min_sq_foot = 750\n",
    "max_rent = 1900\n",
    "\n",
    "num_beds = 3\n",
    "sq_foot = 800\n",
    "rent = 2000\n",
    "# Check the number of beds\n",
    "if num_beds < min_num_beds:\n",
    "  print(\"Insufficient bedrooms\")\n",
    "\n",
    "# Check square feet\n",
    "elif sq_foot <= min_sq_foot:\n",
    "  print(\"Too small\")\n",
    "\n",
    "  \n",
    "# Check the rent\n",
    "elif rent > max_rent:\n",
    "  print(\"Too expensive\")\n",
    "\n",
    "  \n",
    "# If all conditions met\n",
    "else:\n",
    "  print(\"This looks promising!\")\n",
    "\n"
   ]
  },
  {
   "cell_type": "code",
   "execution_count": 20,
   "id": "11d69a9b",
   "metadata": {},
   "outputs": [
    {
     "name": "stdout",
     "output_type": "stream",
     "text": [
      "Sold out: 30 tickets sold!\n",
      "LLM Concepts is an AI course\n",
      "Introduction to Data Pipelines is a Data Engineering course\n",
      "AI Ethics is an AI course\n",
      "Introduction to dbt is a Data Engineering course\n",
      "Writing Efficient Python Code is a Programming course\n",
      "Introduction to Docker is a Programming course\n"
     ]
    }
   ],
   "source": [
    "#loops\n",
    "# Create the tickets_sold variable\n",
    "tickets_sold = 0\n",
    "\n",
    "# Create the max_capacity variable\n",
    "max_capacity = 30\n",
    "\n",
    "# Loop through a range up to and including max_capacity's value\n",
    "for i in range(1, max_capacity+1):\n",
    "  \n",
    "  # Add one to tickets_sold in each iteration\n",
    "  tickets_sold += 1\n",
    "  \n",
    "print(\"Sold out:\", tickets_sold, \"tickets sold!\")\n",
    "\n",
    "courses = {\"LLM Concepts\": \"AI\", \n",
    "           \"Introduction to Data Pipelines\": \"Data Engineering\", \n",
    "           \"AI Ethics\": \"AI\",\n",
    "           \"Introduction to dbt\": \"Data Engineering\", \n",
    "           \"Writing Efficient Python Code\": \"Programming\",\n",
    "           \"Introduction to Docker\": \"Programming\"}\n",
    "\n",
    "# Loop through the dictionary's keys and values\n",
    "for key, value in courses.items():\n",
    "  \n",
    "  # Check if the value is \"AI\"\n",
    "  if value == \"AI\":\n",
    "    print(key, \"is an AI course\")\n",
    "  \n",
    "  # Check if the value is \"Programming\"\n",
    "  elif value == \"Programming\":\n",
    "    print(key, \"is a Programming course\")\n",
    "  \n",
    "  # Otherwise, print that it is a \"Data Engineering\" course\n",
    "  else:\n",
    "    print(key, \"is a Data Engineering course\")"
   ]
  },
  {
   "cell_type": "code",
   "execution_count": null,
   "id": "9a4e0b41",
   "metadata": {},
   "outputs": [
    {
     "name": "stdout",
     "output_type": "stream",
     "text": [
      "Sold out: 10 tickets sold!\n"
     ]
    }
   ],
   "source": [
    "#while\n",
    "# mostly when index level reach is needed, jump index based on logic etc - difficult with for\n",
    "tickets_sold = 0\n",
    "max_capacity = 10\n",
    "\n",
    "# Create a while loop\n",
    "while tickets_sold < max_capacity:\n",
    "  \n",
    "  # Add one to tickets_sold in each iteration\n",
    "  tickets_sold += 1\n",
    "\n",
    "# Print the number of tickets sold\n",
    "print(\"Sold out:\", tickets_sold, \"tickets sold!\")"
   ]
  },
  {
   "cell_type": "code",
   "execution_count": 8,
   "id": "3bd5f9a3",
   "metadata": {},
   "outputs": [],
   "source": [
    "# in keyword - check if value in a variable/data structure\n",
    "# not - check if not met, can combien with in - not in\n",
    "# and - check for multiple conditions\n",
    "# or"
   ]
  },
  {
   "cell_type": "markdown",
   "id": "dcd3fa29",
   "metadata": {},
   "source": [
    "## intermediate py for devs"
   ]
  },
  {
   "cell_type": "code",
   "execution_count": 12,
   "id": "55087275",
   "metadata": {},
   "outputs": [
    {
     "name": "stdout",
     "output_type": "stream",
     "text": [
      "<class 'builtin_function_or_method'>\n",
      "Help on built-in function sorted in module builtins:\n",
      "\n",
      "sorted(iterable, /, *, key=None, reverse=False)\n",
      "    Return a new list containing all items from the iterable in ascending order.\n",
      "\n",
      "    A custom key function can be supplied to customize the sort order, and the\n",
      "    reverse flag can be set to request the result in descending order.\n",
      "\n"
     ]
    }
   ],
   "source": [
    "print(type(print))\n",
    "help(sorted)"
   ]
  },
  {
   "cell_type": "code",
   "execution_count": null,
   "id": "6a584b67",
   "metadata": {},
   "outputs": [],
   "source": [
    "print(help(list))\n",
    "print(help(int))"
   ]
  },
  {
   "cell_type": "code",
   "execution_count": 15,
   "id": "3a9daaa7",
   "metadata": {},
   "outputs": [
    {
     "name": "stdout",
     "output_type": "stream",
     "text": [
      "4\n",
      "19\n"
     ]
    }
   ],
   "source": [
    "course_ratings = {\"LLM Concepts\": 4.7, \n",
    "                  \"Introduction to Data Pipelines\": 4.75, \n",
    "                  \"AI Ethics\": 4.62, \n",
    "                  \"Introduction to dbt\": 4.81}\n",
    "\n",
    "# Print the number of key-value pairs\n",
    "num_courses = len(course_ratings)\n",
    "print(num_courses)\n",
    "\n",
    "most_popular_course = \"Introduction to dbt\"\n",
    "\n",
    "# How many characters are in most_popular_course?\n",
    "title_length = len(most_popular_course)\n",
    "print(title_length)"
   ]
  },
  {
   "cell_type": "code",
   "execution_count": 16,
   "id": "b25efb3c",
   "metadata": {},
   "outputs": [
    {
     "name": "stdout",
     "output_type": "stream",
     "text": [
      "123.2\n"
     ]
    }
   ],
   "source": [
    "course_completions=[97, 83, 121, 205, 56, 174, 92, 117, 164]\n",
    "print(round(sum(course_completions) / len(course_completions), 1))"
   ]
  },
  {
   "cell_type": "markdown",
   "id": "be0071de",
   "metadata": {},
   "source": [
    "# Modules\n",
    "python scripts ending in .py\n",
    "\n",
    "contains func and attrib\n",
    "\n",
    "can contain other modules\n",
    "\n",
    "ex:\n",
    "os\n",
    "collections\n",
    "string\n",
    "logging\n",
    "subprocess\n"
   ]
  },
  {
   "cell_type": "code",
   "execution_count": 23,
   "id": "e51655be",
   "metadata": {},
   "outputs": [
    {
     "ename": "FileNotFoundError",
     "evalue": "[Errno 2] No such file or directory: ''",
     "output_type": "error",
     "traceback": [
      "\u001b[31m---------------------------------------------------------------------------\u001b[39m",
      "\u001b[31mFileNotFoundError\u001b[39m                         Traceback (most recent call last)",
      "\u001b[36mCell\u001b[39m\u001b[36m \u001b[39m\u001b[32mIn[23]\u001b[39m\u001b[32m, line 7\u001b[39m\n\u001b[32m      4\u001b[39m \u001b[38;5;66;03m#how to know func?\u001b[39;00m\n\u001b[32m      5\u001b[39m \u001b[38;5;66;03m#help(os) # throws so much info\u001b[39;00m\n\u001b[32m      6\u001b[39m os.getcwd()\n\u001b[32m----> \u001b[39m\u001b[32m7\u001b[39m \u001b[43mos\u001b[49m\u001b[43m.\u001b[49m\u001b[43mchdir\u001b[49m\u001b[43m(\u001b[49m\u001b[33;43m\"\u001b[39;49m\u001b[33;43m\"\u001b[39;49m\u001b[43m)\u001b[49m\n",
      "\u001b[31mFileNotFoundError\u001b[39m: [Errno 2] No such file or directory: ''"
     ]
    }
   ],
   "source": [
    "import os\n",
    "type(os)\n",
    "\n",
    "#how to know func?\n",
    "#help(os) # throws so much info\n",
    "os.getcwd()\n",
    "os.chdir(\"\")"
   ]
  },
  {
   "cell_type": "code",
   "execution_count": null,
   "id": "0a011e03",
   "metadata": {},
   "outputs": [],
   "source": [
    "#Module attributes\n",
    "# attrib have values, dont use paranthesis when invoking\n",
    "os.environ"
   ]
  },
  {
   "cell_type": "code",
   "execution_count": 25,
   "id": "b35380ae",
   "metadata": {},
   "outputs": [
    {
     "data": {
      "text/plain": [
       "'/Users/bipin/CodeGround/IntellijProjects/py-dc/track'"
      ]
     },
     "execution_count": 25,
     "metadata": {},
     "output_type": "execute_result"
    }
   ],
   "source": [
    "#importing whole mod can requrie a lot mem, hence can import specific fun from module\n",
    "from os import chdir\n",
    "from os import chdir, getcwd #more func\n",
    "getcwd()"
   ]
  },
  {
   "cell_type": "code",
   "execution_count": 26,
   "id": "b97a780f",
   "metadata": {},
   "outputs": [
    {
     "name": "stdout",
     "output_type": "stream",
     "text": [
      "abcdefghijklmnopqrstuvwxyz\n",
      "!\"#$%&'()*+,-./:;<=>?@[\\]^_`{|}~\n"
     ]
    }
   ],
   "source": [
    "# Import the string module\n",
    "import string\n",
    "\n",
    "# Print all ASCII lowercase characters\n",
    "print(string.ascii_lowercase)\n",
    "\n",
    "# Print all punctuation\n",
    "print(string.punctuation)"
   ]
  },
  {
   "cell_type": "code",
   "execution_count": 27,
   "id": "9d8fc72c",
   "metadata": {},
   "outputs": [
    {
     "name": "stdout",
     "output_type": "stream",
     "text": [
      "<class 'datetime.date'>\n",
      "2024-01-19\n"
     ]
    }
   ],
   "source": [
    "# Import date from the datetime module\n",
    "from datetime import date\n",
    "\n",
    "# Create a variable called deadline\n",
    "deadline = date(2024, 1, 19)\n",
    "\n",
    "# Check the data type\n",
    "print(type(deadline))\n",
    "\n",
    "# Print the deadline\n",
    "print(deadline)"
   ]
  },
  {
   "cell_type": "markdown",
   "id": "4b9903f9",
   "metadata": {},
   "source": [
    "Packages/library\n",
    "\n",
    "collection of modules.\n",
    "\n",
    "need to be downloaded from pypi - then can be used like modules\n",
    "\n",
    "ex: python3 -m pip install <packageName> \n",
    "ex:pandas\n",
    "\n",
    "importing package usign alias - shortcut else need to use pandas everytime\n",
    "\n",
    "import pandas as pd\n",
    "\n"
   ]
  },
  {
   "cell_type": "markdown",
   "id": "9d2c6685",
   "metadata": {},
   "source": [
    "func vs methods\n",
    "\n",
    "func - code to perform task\n",
    "method - func specific to datatype\n",
    "\n",
    "sum([1,2]) - built in func\n",
    "pd.DataFrame(sales) - pandas func\n",
    "\n",
    "sales_df.head() - method specific to dataframe datatype\n",
    ".head wont work with others like list,dict"
   ]
  },
  {
   "cell_type": "code",
   "execution_count": null,
   "id": "ffa924fe",
   "metadata": {},
   "outputs": [
    {
     "name": "stdout",
     "output_type": "stream",
     "text": [
      "  user_id        date  order_value\n",
      "0    KM37  01/05/2024       197.75\n",
      "1    PR19  01/05/2024       208.21\n",
      "2    YU88  01/06/2024       134.99\n",
      "3    JB18  01/06/2024       317.81\n",
      "4    LP65  01/06/2024       201.30\n",
      "180.3025\n",
      "1442.42\n"
     ]
    }
   ],
   "source": [
    "sales={'user_id': ['KM37', 'PR19', 'YU88', 'JB18', 'LP65', 'HJ11', 'PR19', 'IJ54'], 'date': ['01/05/2024', '01/05/2024', '01/06/2024', '01/06/2024', '01/06/2024', '01/06/2024', '01/07/2024', '01/07/2024'], 'order_value': [197.75, 208.21, 134.99, 317.81, 201.3, 157.87, 99.99, 124.5]}\n",
    "# Import pandas as pd\n",
    "import pandas as pd\n",
    "\n",
    "# Convert sales to a pandas DataFrame\n",
    "sales_df = pd.DataFrame(sales)\n",
    "#pd.read_csv(\"sales.csv\")\n",
    "\n",
    "# Preview the first five rows\n",
    "print(sales_df.head())\n",
    "\n",
    "# Print the mean order_value\n",
    "print(sales_df[\"order_value\"].mean())\n",
    "\n",
    "# Print the total value of sales\n",
    "print(sales_df[\"order_value\"].sum())"
   ]
  },
  {
   "cell_type": "code",
   "execution_count": 32,
   "id": "8c9a3dfd",
   "metadata": {},
   "outputs": [
    {
     "name": "stdout",
     "output_type": "stream",
     "text": [
      "i_love_datacamp!\n"
     ]
    }
   ],
   "source": [
    "# Create the clean_string function\n",
    "def clean_string(text):\n",
    "  \n",
    "  # Replace spaces with underscores\n",
    "  no_spaces = text.replace(\" \", \"_\")\n",
    "  \n",
    "  # Convert to lowercase\n",
    "  clean_text = no_spaces.lower()\n",
    "  \n",
    "  # Return the final text as an output\n",
    "  return clean_text\n",
    "\n",
    "converted_text = clean_string(\"I LoVe dATaCamP!\")\n",
    "print(converted_text)"
   ]
  },
  {
   "cell_type": "markdown",
   "id": "675a9fdd",
   "metadata": {},
   "source": [
    "Arguments\n",
    "positional - provide args in order sep by ,\n",
    "keyword"
   ]
  },
  {
   "cell_type": "code",
   "execution_count": null,
   "id": "12a3f6bd",
   "metadata": {},
   "outputs": [
    {
     "name": "stdout",
     "output_type": "stream",
     "text": [
      "Help on built-in function round in module builtins:\n",
      "\n",
      "round(number, ndigits=None)\n",
      "    Round a number to a given precision in decimal digits.\n",
      "\n",
      "    The return value is an integer if ndigits is omitted or None.  Otherwise\n",
      "    the return value has the same type as the number.  ndigits may be negative.\n",
      "\n"
     ]
    }
   ],
   "source": [
    "\n",
    "#ndigits=None - default argument - way of setting default value\n",
    "help(round)"
   ]
  },
  {
   "cell_type": "code",
   "execution_count": 35,
   "id": "4d3216b3",
   "metadata": {},
   "outputs": [
    {
     "name": "stdout",
     "output_type": "stream",
     "text": [
      "i_love_datacamp!\n"
     ]
    },
    {
     "data": {
      "text/plain": [
       "{1, 2, 3, 'a', 'b', 'c'}"
      ]
     },
     "execution_count": 35,
     "metadata": {},
     "output_type": "execute_result"
    }
   ],
   "source": [
    "# Define clean_text\n",
    "def clean_text(text, lower=True):\n",
    "  if lower == False:\n",
    "    clean_text = text.replace(\" \", \"_\")\n",
    "    return clean_text\n",
    "  else:\n",
    "    clean_text = text.replace(\" \", \"_\")\n",
    "    clean_text = clean_text.lower()\n",
    "    return clean_text\n",
    "converted_text = clean_text(\"I LoVe dATaCamP!\")\n",
    "print(converted_text)\n",
    "\n",
    "# Create the convert_data_structure function\n",
    "def convert_data_structure(data, data_type=\"list\"):\n",
    "  \n",
    "  # If data_type is \"tuple\"\n",
    "  if data_type == \"tuple\":\n",
    "    data = tuple(data)\n",
    "  \n",
    "  # Else if data_type is set, convert to a set\n",
    "  elif data_type == \"set\":\n",
    "    data = set(data)\n",
    "  else:\n",
    "    data = list(data)\n",
    "  return data\n",
    "\n",
    "# Call the function to convert to a set\n",
    "convert_data_structure({\"a\", 1, \"b\", 2, \"c\", 3}, data_type=\"set\")"
   ]
  },
  {
   "cell_type": "code",
   "execution_count": null,
   "id": "c7fc11b7",
   "metadata": {},
   "outputs": [
    {
     "data": {
      "text/plain": [
       "'Round a number to a given precision in decimal digits.\\n\\nThe return value is an integer if ndigits is omitted or None.  Otherwise\\nthe return value has the same type as the number.  ndigits may be negative.'"
      ]
     },
     "execution_count": 37,
     "metadata": {},
     "output_type": "execute_result"
    }
   ],
   "source": [
    "#Accessing doc strin\n",
    "#help(round)\n",
    "round.__doc__ # dunder-doc attribute\n",
    "# can be modified for cust func since its an attrib"
   ]
  },
  {
   "cell_type": "code",
   "execution_count": 40,
   "id": "c3062744",
   "metadata": {},
   "outputs": [
    {
     "name": "stdout",
     "output_type": "stream",
     "text": [
      "Help on function convert_data_structure in module __main__:\n",
      "\n",
      "convert_data_structure(data, data_type='list')\n",
      "    Convert a data structure to a list, tuple, or set.\n",
      "\n",
      "    Args:\n",
      "          data (list, tuple, or set): A data structure to be converted.\n",
      "      data_type (str): String representing the type of structure to convert data to.\n",
      "\n",
      "    Returns:\n",
      "          data (list, tuple, or set): Converted data structure.\n",
      "\n",
      "None\n"
     ]
    }
   ],
   "source": [
    "# Create the convert_data_type function\n",
    "def convert_data_structure(data, data_type=\"list\"):\n",
    "  # Add a multi-line docstring\n",
    "  \"\"\"\n",
    "  Convert a data structure to a list, tuple, or set.\n",
    "  \n",
    "  Args:\n",
    "  \tdata (list, tuple, or set): A data structure to be converted.\n",
    "    data_type (str): String representing the type of structure to convert data to.\n",
    "    \n",
    "  Returns:\n",
    "  \tdata (list, tuple, or set): Converted data structure.\n",
    "  \"\"\"\n",
    "  if data_type == \"tuple\":\n",
    "    data = tuple(data)\n",
    "  elif data_type == \"set\":\n",
    "    data = set(data)\n",
    "  else:\n",
    "    data = list(data)\n",
    "  return data\n",
    "\n",
    "print(help(convert_data_structure))"
   ]
  },
  {
   "cell_type": "code",
   "execution_count": 41,
   "id": "1ce27f0d",
   "metadata": {},
   "outputs": [],
   "source": [
    "#arbitrary positional args - allows func to accept any number of args\n",
    "def average(*args):\n",
    "    pass\n",
    "# * : converst arguments to a single iterable - tuple\n",
    "\n",
    "#calculate across multiple lists\n",
    "average(*[1,2], *[3,4], *[5,6])\n",
    "\n",
    "#arbitrary keyword args - similar to passing in a dict\n",
    "#keyword=value\n",
    "def average(**kwargs):\n",
    "    pass\n",
    "\n",
    "average(a=1,b=2,c=3)\n",
    "\n",
    "#calling avg with 1 kwarg\n",
    "average(**{\"a\":1,\"b\":2,\"c\":3})\n",
    "#^each kv pair in dict is mapped to keyword arg and value\n",
    "\n",
    "#calculate across multiple dicts\n",
    "average(**{\"a\":1,\"b\":2}, **{\"c\":3,\"d\":4})"
   ]
  },
  {
   "cell_type": "code",
   "execution_count": 42,
   "id": "32a3dab0",
   "metadata": {},
   "outputs": [
    {
     "name": "stdout",
     "output_type": "stream",
     "text": [
      " Python is great!\n"
     ]
    }
   ],
   "source": [
    "# Define a function called concat\n",
    "def concat(*args):\n",
    "  \n",
    "  # Create an empty string\n",
    "  result = \"\"\n",
    "  \n",
    "  # Iterate over the Python args tuple\n",
    "  for arg in args:\n",
    "    result += \" \" + arg\n",
    "  return result\n",
    "\n",
    "# Call the function\n",
    "print(concat(\"Python\", \"is\", \"great!\"))"
   ]
  },
  {
   "cell_type": "code",
   "execution_count": 43,
   "id": "e68ce6bb",
   "metadata": {},
   "outputs": [
    {
     "name": "stdout",
     "output_type": "stream",
     "text": [
      " Python is great!\n"
     ]
    }
   ],
   "source": [
    "# Define a function called concat\n",
    "def concat(**kwargs):\n",
    "  \n",
    "  # Create an empty string\n",
    "  result = \"\"\n",
    "  \n",
    "  # Iterate over the Python kwargs\n",
    "  for kwarg in kwargs.values():\n",
    "    result += \" \" + kwarg\n",
    "  return result\n",
    "\n",
    "# Call the function\n",
    "print(concat(start=\"Python\", middle=\"is\", end=\"great!\"))"
   ]
  },
  {
   "cell_type": "code",
   "execution_count": null,
   "id": "5db0bf3f",
   "metadata": {},
   "outputs": [
    {
     "data": {
      "text/plain": [
       "<function __main__.<lambda>(x)>"
      ]
     },
     "execution_count": 1,
     "metadata": {},
     "output_type": "execute_result"
    }
   ],
   "source": [
    "# Lambda func - represents anonymous func\n",
    "# lambda args : expression\n",
    "# can store as a vars and call them\n",
    "# use for simple and perform once tasks. if complex - loops,if else - use normal func\n",
    "\n",
    "lambda x: sum(x)/len(x)"
   ]
  },
  {
   "cell_type": "code",
   "execution_count": null,
   "id": "08f5c3dd",
   "metadata": {},
   "outputs": [
    {
     "name": "stdout",
     "output_type": "stream",
     "text": [
      "6.0\n",
      "8\n"
     ]
    }
   ],
   "source": [
    "print((lambda x: sum(x)/len(x))([3,6,9])) #-> inline lambda\n",
    "avg = lambda x: sum(x)/len(x)\n",
    "avg([3,6,9])\n",
    "\n",
    "print((lambda x,y: x**y)(2,3))"
   ]
  },
  {
   "cell_type": "code",
   "execution_count": 7,
   "id": "d8e6669b",
   "metadata": {},
   "outputs": [
    {
     "name": "stdout",
     "output_type": "stream",
     "text": [
      "<map object at 0x10c8d2140>\n",
      "['Abc', 'Bca', 'Cab']\n"
     ]
    }
   ],
   "source": [
    "#lambda with iterables\n",
    "# map() - applies a func to all elem in iterable\n",
    "names = [\"Abc\", \"bca\", \"cab\"]\n",
    "capitalize = map(lambda x : x.capitalize(), names)\n",
    "print(capitalize)\n",
    "#<map object at 0x10c8d2e30> - points to mem object where this object is stored\n",
    "print(list(capitalize))"
   ]
  },
  {
   "cell_type": "code",
   "execution_count": 8,
   "id": "28442e86",
   "metadata": {},
   "outputs": [
    {
     "name": "stdout",
     "output_type": "stream",
     "text": [
      "[35.988, 11.94, 17.4, 47.699999999999996, 72.0]\n"
     ]
    }
   ],
   "source": [
    "sales_prices = [29.99, 9.95, 14.50, 39.75, 60.00]\n",
    "\n",
    "# Create add_taxes to add 20% to each item in sales_prices\n",
    "add_taxes = map(lambda x: x*1.2, sales_prices)\n",
    "\n",
    "# Create the updated list, sales_plus_tax\n",
    "sales_plus_tax = list(add_taxes)\n",
    "\n",
    "# Print the new list with updated values\n",
    "print(sales_plus_tax)"
   ]
  },
  {
   "cell_type": "markdown",
   "id": "35a13348",
   "metadata": {},
   "source": [
    "Errors\n",
    "https://docs.python.org/3/library/exceptions.html#exception-hierarchy\n"
   ]
  },
  {
   "cell_type": "code",
   "execution_count": null,
   "id": "072ae9d1",
   "metadata": {},
   "outputs": [],
   "source": [
    "#Type Error - incorrect data type - \"helloe\"+5\n",
    "# value error - not in acceptable range - float(\"A\")\n",
    "\n",
    "#Traceback - is a report - providing info - what type of error occured, where it occured\n"
   ]
  },
  {
   "cell_type": "code",
   "execution_count": null,
   "id": "7a1509dd",
   "metadata": {},
   "outputs": [],
   "source": [
    "#Avoiding errors - if still need to execute subsequent code\n",
    "def snake_case(text):\n",
    "  # Attempt to clean the text\n",
    "  try:\n",
    "    # Swap spaces for underscores\n",
    "    clean_text = text.replace(\" \", \"_\")\n",
    "    clean_text = clean_text.lower()\n",
    "  # Run this code if an error occurs\n",
    "  except:\n",
    "    print(\"The snake_case() function expects a string as an argument, please check the data type provided.\")\n",
    "    \n",
    "snake_case(\"User Name 187\")"
   ]
  },
  {
   "cell_type": "code",
   "execution_count": null,
   "id": "8d222ed0",
   "metadata": {},
   "outputs": [],
   "source": [
    "#Returning errors - Avoid executing subsequent code\n",
    "def snake_case(text):\n",
    "  # Check the data type\n",
    "  if type(text) == str:\n",
    "    clean_text = text.replace(\" \", \"_\")\n",
    "    clean_text = clean_text.lower()\n",
    "  else:\n",
    "    # Return a TypeError error if the wrong data type was used\n",
    "    raise TypeError(\"The snake_case() function expects a string as an argument, please check the data type provided.\")\n",
    "    \n",
    "snake_case(\"User Name 187\")\n"
   ]
  },
  {
   "cell_type": "markdown",
   "id": "ab7ceb4c",
   "metadata": {},
   "source": [
    "Iterable/Iterator\n"
   ]
  },
  {
   "cell_type": "markdown",
   "id": "3afa6e29",
   "metadata": {},
   "source": [
    "an iterable is an object that can return an iterator, \n",
    "\n",
    "while an iterator is an object that keeps state and produces the next value when you call next() on it."
   ]
  },
  {
   "cell_type": "code",
   "execution_count": null,
   "id": "a6012473",
   "metadata": {},
   "outputs": [
    {
     "name": "stdout",
     "output_type": "stream",
     "text": [
      "jay garrick\n",
      "barry allen\n",
      "wally west\n",
      "bart allen\n",
      "jay garrick\n",
      "barry allen\n",
      "wally west\n",
      "bart allen\n",
      "using splat operator :  jay garrick barry allen wally west bart allen\n"
     ]
    }
   ],
   "source": [
    "# Create a list of strings: flash\n",
    "flash = ['jay garrick', 'barry allen', 'wally west', 'bart allen']\n",
    "\n",
    "# Print each list item in flash using a for loop\n",
    "for person in flash:\n",
    "    print(person)\n",
    "\n",
    "\n",
    "# Create an iterator for flash: superhero\n",
    "superhero = iter(flash)\n",
    "\n",
    "# Print each item from the iterator\n",
    "print(next(superhero))\n",
    "print(next(superhero))\n",
    "print(next(superhero))\n",
    "print(next(superhero))\n",
    "\n",
    "#the previous print() calls would have exhausted the elements in superhero - recreate it\n",
    "superhero = iter(flash)\n",
    "print(\"using splat operator : \", *superhero)\n",
    "#iterates all at once"
   ]
  },
  {
   "cell_type": "code",
   "execution_count": 10,
   "id": "2468f341",
   "metadata": {},
   "outputs": [
    {
     "name": "stdout",
     "output_type": "stream",
     "text": [
      "0\n",
      "1\n",
      "2\n",
      "0\n",
      "1\n",
      "2\n",
      "0\n",
      "1\n",
      "2\n",
      "3\n",
      "4\n"
     ]
    }
   ],
   "source": [
    "# not all iterables are actual lists.\n",
    "#range() doesn't actually create the list; instead, it creates a range object with an iterator that produces the values until it reaches the limit\n",
    "#If range() created the actual list, calling it with a value of may not work, especially since a number as big as that may go over a regular computer's memory.\n",
    "\n",
    "# Create an iterator for range(3): small_value\n",
    "small_value = iter(range(3))\n",
    "\n",
    "# Print the values in small_value\n",
    "print(next(small_value))\n",
    "print(next(small_value))\n",
    "print(next(small_value))\n",
    "\n",
    "# Loop over range(3) and print the values\n",
    "for num in range(3):\n",
    "    print(num)\n",
    "\n",
    "\n",
    "# Create an iterator for range(10 ** 100): googol\n",
    "googol = iter(range(10 ** 100))\n",
    "\n",
    "# Print the first 5 values from googol\n",
    "print(next(googol))\n",
    "print(next(googol))\n",
    "print(next(googol))\n",
    "print(next(googol))\n",
    "print(next(googol))\n"
   ]
  },
  {
   "cell_type": "code",
   "execution_count": null,
   "id": "aedda8e2",
   "metadata": {},
   "outputs": [
    {
     "name": "stdout",
     "output_type": "stream",
     "text": [
      "range(10, 21)\n",
      "[10, 11, 12, 13, 14, 15, 16, 17, 18, 19, 20]\n",
      "165\n"
     ]
    }
   ],
   "source": [
    "# Create a range object: values\n",
    "values = range(10,21)\n",
    "\n",
    "# Print the range object\n",
    "print(values)\n",
    "\n",
    "# Create a list of integers: values_list\n",
    "values_list = list(values)\n",
    "\n",
    "# Print values_list\n",
    "print(values_list)\n",
    "\n",
    "# Get the sum of values: values_sum\n",
    "values_sum = sum(values) #sum(values_list)\n",
    "\n",
    "# Print values_sum\n",
    "print(values_sum)\n"
   ]
  },
  {
   "cell_type": "code",
   "execution_count": 17,
   "id": "ebd4f32f",
   "metadata": {},
   "outputs": [
    {
     "name": "stdout",
     "output_type": "stream",
     "text": [
      "[(0, 'charles xavier'), (1, 'bobby drake'), (2, 'kurt wagner'), (3, 'max eisenhardt'), (4, 'kitty pryde')]\n",
      "0 charles xavier\n",
      "1 bobby drake\n",
      "2 kurt wagner\n",
      "3 max eisenhardt\n",
      "4 kitty pryde\n",
      "1 charles xavier\n",
      "2 bobby drake\n",
      "3 kurt wagner\n",
      "4 max eisenhardt\n",
      "5 kitty pryde\n"
     ]
    }
   ],
   "source": [
    "# Create a list of strings: mutants\n",
    "mutants = ['charles xavier', \n",
    "            'bobby drake', \n",
    "            'kurt wagner', \n",
    "            'max eisenhardt', \n",
    "            'kitty pryde']\n",
    "\n",
    "# Create a list of tuples: mutant_list\n",
    "mutant_list = list(enumerate(mutants))\n",
    "\n",
    "# Print the list of tuples\n",
    "print(mutant_list)\n",
    "\n",
    "# Unpack and print the tuple pairs\n",
    "for index1, value1 in enumerate(mutants):\n",
    "    print(index1, value1)\n",
    "\n",
    "# Change the start index\n",
    "for index2, value2 in enumerate(mutants,1):\n",
    "    print(index2, value2)\n"
   ]
  },
  {
   "cell_type": "code",
   "execution_count": null,
   "id": "1f6f8e58",
   "metadata": {},
   "outputs": [
    {
     "name": "stdout",
     "output_type": "stream",
     "text": [
      "[('charles xavier', 'prof x', 'telepathy'), ('bobby drake', 'iceman', 'thermokinesis'), ('kurt wagner', 'nightcrawler', 'teleportation'), ('max eisenhardt', 'magneto', 'magnetokinesis'), ('kitty pryde', 'shadowcat', 'intangibility')]\n",
      "<zip object at 0x10c947240>\n",
      "charles xavier prof x telepathy\n",
      "bobby drake iceman thermokinesis\n",
      "kurt wagner nightcrawler teleportation\n",
      "max eisenhardt magneto magnetokinesis\n",
      "kitty pryde shadowcat intangibility\n"
     ]
    }
   ],
   "source": [
    "aliases=['prof x', 'iceman', 'nightcrawler', 'magneto', 'shadowcat']\n",
    "powers=['telepathy', 'thermokinesis', 'teleportation', 'magnetokinesis', 'intangibility']\n",
    "\n",
    "#zip - accepts arbitrary number of iterables\n",
    "\n",
    "# Create a list of tuples: mutant_data\n",
    "mutant_data = list(zip(mutants, aliases, powers))\n",
    "\n",
    "# Print the list of tuples\n",
    "print(mutant_data)\n",
    "\n",
    "# Create a zip object using the three lists: mutant_zip\n",
    "mutant_zip = zip(mutants, aliases, powers)\n",
    "\n",
    "# Print the zip object\n",
    "print(mutant_zip)\n",
    "\n",
    "# Unpack the zip object and print the tuple values\n",
    "for value1, value2, value3 in mutant_zip:\n",
    "    print(value1, value2, value3)"
   ]
  },
  {
   "cell_type": "code",
   "execution_count": 25,
   "id": "46aeb526",
   "metadata": {},
   "outputs": [
    {
     "name": "stdout",
     "output_type": "stream",
     "text": [
      "('charles xavier', 'telepathy') ('bobby drake', 'thermokinesis') ('kurt wagner', 'teleportation') ('max eisenhardt', 'magnetokinesis') ('kitty pryde', 'intangibility')\n",
      "('charles xavier', 'bobby drake', 'kurt wagner', 'max eisenhardt', 'kitty pryde')\n",
      "('telepathy', 'thermokinesis', 'teleportation', 'magnetokinesis', 'intangibility')\n",
      "['charles xavier', 'bobby drake', 'kurt wagner', 'max eisenhardt', 'kitty pryde']\n",
      "['telepathy', 'thermokinesis', 'teleportation', 'magnetokinesis', 'intangibility']\n",
      "False\n",
      "False\n"
     ]
    }
   ],
   "source": [
    "# Create a zip object from mutants and powers: z1\n",
    "z1 = zip(mutants,powers)\n",
    "\n",
    "# Print the tuples in z1 by unpacking with *\n",
    "print(*z1)\n",
    "\n",
    "# Re-create a zip object from mutants and powers: z1\n",
    "z1 = zip(mutants,powers)\n",
    "\n",
    "# 'Unzip' the tuples in z1 by unpacking with * and zip(): result1, result2\n",
    "result1, result2 = zip(*z1)\n",
    "\n",
    "print(result1)\n",
    "print(result2)\n",
    "print(mutants)\n",
    "print(powers)\n",
    "\n",
    "# Check if unpacked tuples are equivalent to original tuples\n",
    "print(result1 == mutants)\n",
    "print(result2 == powers)"
   ]
  },
  {
   "cell_type": "code",
   "execution_count": 28,
   "id": "09d1d6ea",
   "metadata": {},
   "outputs": [],
   "source": [
    "#Processing large amounts\n",
    "#A solution to this is to process an entire data source chunk by chunk, instead of a single go all at once.\n",
    "\n",
    "# Initialize an empty dictionary: counts_dict\n",
    "\n",
    "import pandas as pd\n",
    "\n",
    "# Define count_entries()\n",
    "def count_entries(csv_file,c_size,colname):\n",
    "    \"\"\"Return a dictionary with counts of\n",
    "    occurrences as value for each key.\"\"\"\n",
    "    \n",
    "    # Initialize an empty dictionary: counts_dict\n",
    "    counts_dict = {}\n",
    "\n",
    "    # Iterate over the file chunk by chunk\n",
    "    for chunk in pd.read_csv(csv_file, chunksize=c_size):\n",
    "\n",
    "        # Iterate over the column in DataFrame\n",
    "        for entry in chunk[colname]:\n",
    "            if entry in counts_dict.keys():\n",
    "                counts_dict[entry] += 1\n",
    "            else:\n",
    "                counts_dict[entry] = 1\n",
    "\n",
    "    # Return counts_dict\n",
    "    return counts_dict\n",
    "\n",
    "# Call count_entries(): result_counts\n",
    "#result_counts = count_entries('tweets.csv',10,'lang')\n",
    "\n",
    "# Print result_counts\n",
    "#print(result_counts)\n"
   ]
  },
  {
   "cell_type": "markdown",
   "id": "1151f78f",
   "metadata": {},
   "source": [
    "List comprehensions:\n",
    "\n",
    "create lists from other lists, df columns\n",
    "\n",
    "single line of code - more effecient than for loop\n",
    "\n",
    "not just for lists - can be used on any iterable\n",
    "\n",
    "required components:\n",
    "1.iterable, 2:iterator varaible 3:output expression"
   ]
  },
  {
   "cell_type": "code",
   "execution_count": 30,
   "id": "218c1a4c",
   "metadata": {},
   "outputs": [
    {
     "name": "stdout",
     "output_type": "stream",
     "text": [
      "[1, 2, 3, 4, 5]\n",
      "[(0, 6), (0, 7), (1, 6), (1, 7)]\n"
     ]
    }
   ],
   "source": [
    "result = [num + 1 for num in range(5)]\n",
    "print(result)\n",
    "\n",
    "#nested loops - tradeoff - readability\n",
    "pairs2 = [(num1,num2) for num1 in range(0,2) for num2 in range(6,8)]\n",
    "print(pairs2)"
   ]
  },
  {
   "cell_type": "code",
   "execution_count": 32,
   "id": "a0934ebd",
   "metadata": {},
   "outputs": [
    {
     "name": "stdout",
     "output_type": "stream",
     "text": [
      "[0, 1, 2, 3, 4]\n",
      "[0, 1, 2, 3, 4]\n",
      "[0, 1, 2, 3, 4]\n",
      "[0, 1, 2, 3, 4]\n",
      "[0, 1, 2, 3, 4]\n",
      "[0, 0, 0, 0, 0]\n",
      "[1, 1, 1, 1, 1]\n",
      "[2, 2, 2, 2, 2]\n",
      "[3, 3, 3, 3, 3]\n",
      "[4, 4, 4, 4, 4]\n"
     ]
    }
   ],
   "source": [
    "# Create a 5 x 5 matrix using a list of lists: matrix\n",
    "matrix = [[col for col in range(5)] for _ in range(5)]\n",
    "\n",
    "# Print the matrix\n",
    "for row in matrix:\n",
    "    print(row)\n",
    "    \n",
    "# Create a 5 x 5 column-major matrix\n",
    "matrix = [[row for _ in range(5)] for row in range(5)]\n",
    "\n",
    "# Print the matrix\n",
    "for row in matrix:\n",
    "    print(row)"
   ]
  },
  {
   "cell_type": "code",
   "execution_count": 36,
   "id": "f6b665d6",
   "metadata": {},
   "outputs": [
    {
     "name": "stdout",
     "output_type": "stream",
     "text": [
      "[[0, 1, 2, 3, 4], [0, 1, 2, 3, 4], [0, 1, 2, 3, 4], [0, 1, 2, 3, 4], [0, 1, 2, 3, 4]]\n",
      "[[0, 10, 2, 3, 4], [0, 10, 2, 3, 4], [0, 10, 2, 3, 4], [0, 10, 2, 3, 4], [0, 10, 2, 3, 4]]\n"
     ]
    }
   ],
   "source": [
    "mat = [[0, 1, 2, 3, 4]] * 5\n",
    "#This looks similar but actually makes five references to the same row (so changing one row changes them all).\n",
    "#That’s why we use the list comprehension instead. ✅\n",
    "print(mat)\n",
    "mat[1][1] = 10\n",
    "print(mat)"
   ]
  },
  {
   "cell_type": "code",
   "execution_count": 5,
   "id": "ed035844",
   "metadata": {},
   "outputs": [
    {
     "name": "stdout",
     "output_type": "stream",
     "text": [
      "['samwise', 'aragorn', 'legolas', 'boromir']\n"
     ]
    },
    {
     "data": {
      "text/plain": [
       "[0, 4, 16, 36, 64]"
      ]
     },
     "execution_count": 5,
     "metadata": {},
     "output_type": "execute_result"
    }
   ],
   "source": [
    "# advanced comprehensions - using conditionals inside list comprehensions\n",
    "\n",
    "# Create a list of strings: fellowship\n",
    "fellowship = ['frodo', 'samwise', 'merry', 'aragorn', 'legolas', 'boromir', 'gimli']\n",
    "\n",
    "# Create list comprehension: new_fellowship\n",
    "new_fellowship = [member for member in fellowship if len(member) >= 7]\n",
    "\n",
    "# Print the new list\n",
    "print(new_fellowship)\n",
    "\n",
    "#Conditionals on iterable\n",
    "[num ** 2 for num in range(10) if num % 2 == 0]\n",
    "\n",
    "#Basic\n",
    "#[output expression for iterator variable in iterable]\n",
    "#Advanced\n",
    "#[output expression +\n",
    "#conditional on output for iterator variable in iterable +\n",
    "#conditional on iterable]"
   ]
  },
  {
   "cell_type": "code",
   "execution_count": 42,
   "id": "3f4a6d61",
   "metadata": {},
   "outputs": [
    {
     "name": "stdout",
     "output_type": "stream",
     "text": [
      "['', 'samwise', '', 'aragorn', 'legolas', 'boromir', '']\n"
     ]
    },
    {
     "data": {
      "text/plain": [
       "[0, 0, 4, 0, 16, 0, 36, 0, 64, 0]"
      ]
     },
     "execution_count": 42,
     "metadata": {},
     "output_type": "execute_result"
    }
   ],
   "source": [
    "# Create a list of strings: fellowship\n",
    "fellowship = ['frodo', 'samwise', 'merry', 'aragorn', 'legolas', 'boromir', 'gimli']\n",
    "\n",
    "# Create list comprehension: new_fellowship\n",
    "new_fellowship = [member if len(member)>=7 else \"\" for member in fellowship]\n",
    "\n",
    "# Print the new list\n",
    "print(new_fellowship)\n",
    "\n",
    "\n",
    "#conditionals on output expression\n",
    "[num ** 2 if num % 2 == 0 else 0 for num in range(10)]"
   ]
  },
  {
   "cell_type": "code",
   "execution_count": 40,
   "id": "43ba32ec",
   "metadata": {},
   "outputs": [
    {
     "name": "stdout",
     "output_type": "stream",
     "text": [
      "{0: 0, 1: -1, 2: -2, 3: -3, 4: -4, 5: -5, 6: -6, 7: -7, 8: -8}\n"
     ]
    }
   ],
   "source": [
    "#dict comprehensions - Use curly braces {} instead of brackets []\n",
    "pos_neg = {num: -num for num in range(9)}\n",
    "print(pos_neg)"
   ]
  },
  {
   "cell_type": "markdown",
   "id": "4516cd8b",
   "metadata": {},
   "source": [
    "Generator expressions"
   ]
  },
  {
   "cell_type": "code",
   "execution_count": 1,
   "id": "e8475ca1",
   "metadata": {},
   "outputs": [
    {
     "name": "stdout",
     "output_type": "stream",
     "text": [
      "0\n",
      "1\n",
      "2\n",
      "3\n",
      "4\n",
      "5\n",
      "6\n",
      "7\n",
      "8\n",
      "9\n",
      "10\n",
      "11\n",
      "12\n",
      "13\n",
      "14\n",
      "15\n",
      "16\n",
      "17\n",
      "18\n",
      "19\n",
      "20\n",
      "21\n",
      "22\n",
      "23\n",
      "24\n",
      "25\n",
      "26\n",
      "27\n",
      "28\n",
      "29\n",
      "30\n"
     ]
    }
   ],
   "source": [
    "# replace the [] with () in list comprehensions\n",
    "#list compreh - returns a list\n",
    "# generators - returns a generator object - does not store the list in memory\n",
    "# both can be iterated over\n",
    "# lazy evaluation - like lazy lists in scala\n",
    "\n",
    "# Generator functions\n",
    "#produces generator objects when called\n",
    "# Defned like a regular function - def\n",
    "# Yields a sequence of values instead of return value . Generates a value with yield keyword\n",
    "\n",
    "# Create generator object: result\n",
    "result = (num for num in range(31))\n",
    "\n",
    "# Print the first 5 values\n",
    "print(next(result))\n",
    "print(next(result))\n",
    "print(next(result))\n",
    "print(next(result))\n",
    "print(next(result))\n",
    "\n",
    "# Print the rest of the values\n",
    "for value in result:\n",
    "    print(value)"
   ]
  },
  {
   "cell_type": "code",
   "execution_count": 4,
   "id": "4d91a064",
   "metadata": {},
   "outputs": [
    {
     "name": "stdout",
     "output_type": "stream",
     "text": [
      "6\n",
      "5\n",
      "5\n",
      "6\n",
      "7\n",
      "6\n",
      "5\n",
      "5\n",
      "6\n",
      "7\n"
     ]
    }
   ],
   "source": [
    "# Create a list of strings\n",
    "lannister = ['cersei', 'jaime', 'tywin', 'tyrion', 'joffrey']\n",
    "\n",
    "lengths = (len(person) for person in lannister)\n",
    "for value in lengths:\n",
    "    print(value)\n",
    "\n",
    "# Define generator function get_lengths\n",
    "def get_lengths(input_list):\n",
    "    \"\"\"Generator function that yields the\n",
    "    length of the strings in input_list.\"\"\"\n",
    "\n",
    "    # Yield the length of a string\n",
    "    for person in input_list:\n",
    "        yield len(person)\n",
    "\n",
    "# Print the values generated by get_lengths()\n",
    "for value in get_lengths(lannister):\n",
    "    print(value)"
   ]
  },
  {
   "cell_type": "code",
   "execution_count": 6,
   "id": "59d4278f",
   "metadata": {},
   "outputs": [
    {
     "name": "stdout",
     "output_type": "stream",
     "text": [
      "{'CountryName': 'Arab World', 'CountryCode': 'ARB', 'IndicatorName': 'Adolescent fertility rate (births per 1,000 women ages 15-19)', 'IndicatorCode': 'SP.ADO.TFRT', 'Year': '1960', 'Value': '133.56090740552298'}\n"
     ]
    }
   ],
   "source": [
    "#zipping dict\n",
    "feature_names=['CountryName', 'CountryCode', 'IndicatorName', 'IndicatorCode', 'Year', 'Value']\n",
    "row_vals=['Arab World', 'ARB', 'Adolescent fertility rate (births per 1,000 women ages 15-19)', 'SP.ADO.TFRT', '1960', '133.56090740552298']\n",
    "# Zip lists: zipped_lists\n",
    "zipped_lists = zip(feature_names,row_vals)\n",
    "\n",
    "# Create a dictionary: rs_dict\n",
    "rs_dict = dict(zipped_lists)\n",
    "\n",
    "# Print the dictionary\n",
    "print(rs_dict)"
   ]
  },
  {
   "cell_type": "markdown",
   "id": "b144279f",
   "metadata": {},
   "source": [
    "with open('datacamp.csv') as datacamp binds the csv file 'datacamp.csv' as datacamp in the context manager. Here, the with statement is the context manager, and its purpose is to ensure that resources are efficiently allocated when opening a connection to a file."
   ]
  },
  {
   "cell_type": "code",
   "execution_count": null,
   "id": "f1cd628a",
   "metadata": {},
   "outputs": [],
   "source": [
    "# Open a connection to the file\n",
    "with open('world_dev_ind.csv') as file:\n",
    "\n",
    "    # Skip the column names\n",
    "    file.readline()\n",
    "\n",
    "    # Initialize an empty dictionary: counts_dict\n",
    "    counts_dict = {}\n",
    "\n",
    "    # Process only the first 1000 rows\n",
    "    for j in range(1000):\n",
    "\n",
    "        # Split the current line into a list: line\n",
    "        line = file.readline().split(',')\n",
    "\n",
    "        # Get the value for the first column: first_col\n",
    "        first_col = line[0]\n",
    "\n",
    "        # If the column value is in the dict, increment its value\n",
    "        if first_col in counts_dict.keys():\n",
    "            counts_dict[first_col] += 1\n",
    "\n",
    "        # Else, add to the dict and set value to 1\n",
    "        else:\n",
    "            counts_dict[first_col] = 1\n",
    "\n",
    "# Print the resulting dictionary\n",
    "print(counts_dict)\n"
   ]
  },
  {
   "cell_type": "code",
   "execution_count": 7,
   "id": "44e9db49",
   "metadata": {},
   "outputs": [
    {
     "ename": "FileNotFoundError",
     "evalue": "[Errno 2] No such file or directory: 'world_dev_ind.csv'",
     "output_type": "error",
     "traceback": [
      "\u001b[31m---------------------------------------------------------------------------\u001b[39m",
      "\u001b[31mFileNotFoundError\u001b[39m                         Traceback (most recent call last)",
      "\u001b[36mCell\u001b[39m\u001b[36m \u001b[39m\u001b[32mIn[7]\u001b[39m\u001b[32m, line 20\u001b[39m\n\u001b[32m     16\u001b[39m         \u001b[38;5;28;01myield\u001b[39;00m data\n\u001b[32m     19\u001b[39m \u001b[38;5;66;03m# Open a connection to the file\u001b[39;00m\n\u001b[32m---> \u001b[39m\u001b[32m20\u001b[39m \u001b[38;5;28;01mwith\u001b[39;00m \u001b[38;5;28;43mopen\u001b[39;49m\u001b[43m(\u001b[49m\u001b[33;43m'\u001b[39;49m\u001b[33;43mworld_dev_ind.csv\u001b[39;49m\u001b[33;43m'\u001b[39;49m\u001b[43m)\u001b[49m \u001b[38;5;28;01mas\u001b[39;00m file:\n\u001b[32m     21\u001b[39m \n\u001b[32m     22\u001b[39m     \u001b[38;5;66;03m# Create a generator object for the file: gen_file\u001b[39;00m\n\u001b[32m     23\u001b[39m     gen_file = read_large_file(file)\n\u001b[32m     25\u001b[39m     \u001b[38;5;66;03m# Print the first three lines of the file\u001b[39;00m\n",
      "\u001b[36mFile \u001b[39m\u001b[32m~/CodeGround/IntellijProjects/py-dc/.venv/lib/python3.13/site-packages/IPython/core/interactiveshell.py:343\u001b[39m, in \u001b[36m_modified_open\u001b[39m\u001b[34m(file, *args, **kwargs)\u001b[39m\n\u001b[32m    336\u001b[39m \u001b[38;5;28;01mif\u001b[39;00m file \u001b[38;5;129;01min\u001b[39;00m {\u001b[32m0\u001b[39m, \u001b[32m1\u001b[39m, \u001b[32m2\u001b[39m}:\n\u001b[32m    337\u001b[39m     \u001b[38;5;28;01mraise\u001b[39;00m \u001b[38;5;167;01mValueError\u001b[39;00m(\n\u001b[32m    338\u001b[39m         \u001b[33mf\u001b[39m\u001b[33m\"\u001b[39m\u001b[33mIPython won\u001b[39m\u001b[33m'\u001b[39m\u001b[33mt let you open fd=\u001b[39m\u001b[38;5;132;01m{\u001b[39;00mfile\u001b[38;5;132;01m}\u001b[39;00m\u001b[33m by default \u001b[39m\u001b[33m\"\u001b[39m\n\u001b[32m    339\u001b[39m         \u001b[33m\"\u001b[39m\u001b[33mas it is likely to crash IPython. If you know what you are doing, \u001b[39m\u001b[33m\"\u001b[39m\n\u001b[32m    340\u001b[39m         \u001b[33m\"\u001b[39m\u001b[33myou can use builtins\u001b[39m\u001b[33m'\u001b[39m\u001b[33m open.\u001b[39m\u001b[33m\"\u001b[39m\n\u001b[32m    341\u001b[39m     )\n\u001b[32m--> \u001b[39m\u001b[32m343\u001b[39m \u001b[38;5;28;01mreturn\u001b[39;00m \u001b[43mio_open\u001b[49m\u001b[43m(\u001b[49m\u001b[43mfile\u001b[49m\u001b[43m,\u001b[49m\u001b[43m \u001b[49m\u001b[43m*\u001b[49m\u001b[43margs\u001b[49m\u001b[43m,\u001b[49m\u001b[43m \u001b[49m\u001b[43m*\u001b[49m\u001b[43m*\u001b[49m\u001b[43mkwargs\u001b[49m\u001b[43m)\u001b[49m\n",
      "\u001b[31mFileNotFoundError\u001b[39m: [Errno 2] No such file or directory: 'world_dev_ind.csv'"
     ]
    }
   ],
   "source": [
    "# Define read_large_file()\n",
    "def read_large_file(file_object):\n",
    "    \"\"\"A generator function to read a large file lazily.\"\"\"\n",
    "\n",
    "    # Loop indefinitely until the end of the file\n",
    "    while True:\n",
    "\n",
    "        # Read a line from the file: data\n",
    "        data = file_object.readline()\n",
    "\n",
    "        # Break if this is the end of the file\n",
    "        if not data:\n",
    "            break\n",
    "\n",
    "        # Yield the line of data\n",
    "        yield data\n",
    "        \n",
    "        \n",
    "# Open a connection to the file\n",
    "with open('world_dev_ind.csv') as file:\n",
    "\n",
    "    # Create a generator object for the file: gen_file\n",
    "    gen_file = read_large_file(file)\n",
    "\n",
    "    # Print the first three lines of the file\n",
    "    print(next(gen_file))\n",
    "    print(next(gen_file))\n",
    "    print(next(gen_file))"
   ]
  },
  {
   "cell_type": "code",
   "execution_count": null,
   "id": "1845373c",
   "metadata": {},
   "outputs": [],
   "source": [
    "# Import the pandas package\n",
    "import pandas as pd\n",
    "\n",
    "# Initialize reader object: df_reader\n",
    "df_reader = pd.read_csv('ind_pop.csv', chunksize=10)\n",
    "\n",
    "# Print two chunks\n",
    "print(next(df_reader))\n",
    "print(next(df_reader))"
   ]
  },
  {
   "cell_type": "code",
   "execution_count": null,
   "id": "cbe2454a",
   "metadata": {},
   "outputs": [],
   "source": [
    "# Code from previous exercise\n",
    "urb_pop_reader = pd.read_csv('ind_pop_data.csv', chunksize=1000)\n",
    "df_urb_pop = next(urb_pop_reader)\n",
    "df_pop_ceb = df_urb_pop[df_urb_pop['CountryCode'] == 'CEB']\n",
    "pops = zip(df_pop_ceb['Total Population'], \n",
    "           df_pop_ceb['Urban population (% of total)'])\n",
    "pops_list = list(pops)\n",
    "\n",
    "# Use list comprehension to create new DataFrame column 'Total Urban Population'\n",
    "df_pop_ceb['Total Urban Population'] = [int(pop[0]*pop[1]*0.01) for pop in pops_list]\n",
    "\n",
    "# Plot urban population data\n",
    "df_pop_ceb.plot(kind='scatter', x='Year', y='Total Urban Population')\n",
    "plt.show()"
   ]
  },
  {
   "cell_type": "code",
   "execution_count": null,
   "id": "757fb59e",
   "metadata": {},
   "outputs": [],
   "source": [
    "# Define plot_pop()\n",
    "def plot_pop(filename, country_code):\n",
    "\n",
    "    # Initialize reader object: urb_pop_reader\n",
    "    urb_pop_reader = pd.read_csv(filename, chunksize=1000)\n",
    "\n",
    "    # Initialize empty DataFrame: data\n",
    "    data = pd.DataFrame()\n",
    "    \n",
    "    # Iterate over each DataFrame chunk\n",
    "    for df_urb_pop in urb_pop_reader:\n",
    "        # Check out specific country: df_pop_ceb\n",
    "        df_pop_ceb = df_urb_pop[df_urb_pop['CountryCode'] == country_code]\n",
    "\n",
    "        # Zip DataFrame columns of interest: pops\n",
    "        pops = zip(df_pop_ceb['Total Population'],\n",
    "                    df_pop_ceb['Urban population (% of total)'])\n",
    "\n",
    "        # Turn zip object into list: pops_list\n",
    "        pops_list = list(pops)\n",
    "\n",
    "        # Use list comprehension to create new DataFrame column 'Total Urban Population'\n",
    "        df_pop_ceb['Total Urban Population'] = [int(tup[0] * tup[1] * 0.01) for tup in pops_list]\n",
    "        \n",
    "        #pd.concat() function expects its first argument to be an iterable, such as a list or a tuple, containing the DataFrames you want to concatenate. \n",
    "        # Concatenate DataFrame chunk to the end of data: data\n",
    "        data = pd.concat([data, df_pop_ceb])\n",
    "\n",
    "    # Plot urban population data\n",
    "    data.plot(kind='scatter', x='Year', y='Total Urban Population')\n",
    "    plt.show()\n",
    "\n",
    "# Set the filename: fn\n",
    "fn = 'ind_pop_data.csv'\n",
    "\n",
    "# Call plot_pop for country code 'CEB'\n",
    "plot_pop('ind_pop_data.csv','CEB')\n",
    "\n",
    "# Call plot_pop for country code 'ARB'\n",
    "plot_pop('ind_pop_data.csv','ARB')"
   ]
  },
  {
   "cell_type": "markdown",
   "id": "eb556e64",
   "metadata": {},
   "source": [
    "Data types in python\n"
   ]
  },
  {
   "cell_type": "code",
   "execution_count": 11,
   "id": "90fcbc65",
   "metadata": {},
   "outputs": [
    {
     "name": "stdout",
     "output_type": "stream",
     "text": [
      "['Ximena', 'Aliza', 'Ayden', 'Calvin', 'Sandeep']\n"
     ]
    }
   ],
   "source": [
    "# combining lists\n",
    "#list1 + list2\n",
    "#if you want to combine a list with another array type (list, set, tuple), you can use the .extend() method on the list.\n",
    "#list1.extend(list2)\n",
    "\n",
    "#finding index - .index() method to find the position of an item in a list.\n",
    "#index = list1.index(\"\")\n",
    "#removing element - can then use that position to remove the item with the .pop() method.\n",
    "#list1.pop(index)\n",
    "\n",
    "#sorts in numerical/alphabetical order\n",
    "#sorted(list1)\n",
    "\n",
    "# Create a list containing the names: baby_names\n",
    "baby_names = ['Ximena', 'Aliza', 'Ayden', 'Calvin']\n",
    "\n",
    "# Extend baby_names with 'Rowen' and 'Sandeep'\n",
    "baby_names.extend([\"Rowen\", 'Sandeep'])\n",
    "\n",
    "# Find the position of 'Rowen': position\n",
    "position = baby_names.index('Rowen')\n",
    "\n",
    "# Remove 'Rowen' from baby_names\n",
    "baby_names.pop(position)\n",
    "\n",
    "# Print baby_names\n",
    "print(baby_names)"
   ]
  },
  {
   "cell_type": "code",
   "execution_count": null,
   "id": "4ac5d1ed",
   "metadata": {},
   "outputs": [
    {
     "name": "stdout",
     "output_type": "stream",
     "text": [
      "Rank #: 1 - Jada\n",
      "Rank #: 2 - Emily\n",
      "Rank #: 3 - Ava\n",
      "Rank #: 4 - Serenity\n",
      "Rank #: 5 - Claire\n",
      "Rank #: 6 - Sophia\n",
      "Rank #: 7 - Sarah\n",
      "Rank #: 8 - Ashley\n",
      "Rank #: 9 - Chaya\n",
      "Rank #: 10 - Abigail\n"
     ]
    }
   ],
   "source": [
    "# f strings\n",
    "top_ten_girl_names=[(1, 'Jada'), (2, 'Emily'), (3, 'Ava'), (4, 'Serenity'), (5, 'Claire'), (6, 'Sophia'), (7, 'Sarah'), (8, 'Ashley'), (9, 'Chaya'), (10, 'Abigail')]\n",
    "for top_ten_rank, name in top_ten_girl_names:\n",
    "  \t# Print each name in the proper format\n",
    "    print(f\"Rank #: { top_ten_rank } - { name }\")"
   ]
  },
  {
   "cell_type": "code",
   "execution_count": 13,
   "id": "fab44e6b",
   "metadata": {},
   "outputs": [
    {
     "name": "stdout",
     "output_type": "stream",
     "text": [
      "The top ten boy names are: Josiah, Ethan, David, Jayden, Mason, Ryan, Christian, Isaiah, Jayden, and Michael.\n"
     ]
    }
   ],
   "source": [
    "boy_names=['Josiah', 'Ethan', 'David', 'Jayden', 'Mason', 'Ryan', 'Christian', 'Isaiah', 'Jayden', 'Michael']\n",
    "\n",
    "# The top ten boy names are:  as preamble\n",
    "preamble = \"The top ten boy names are: \"\n",
    "\n",
    "# , and as conjunction\n",
    "conjunction = ', and'\n",
    "\n",
    "# Combines the first 9 names in boy_names with a comma and space as first_nine_names\n",
    "first_nine_names = \", \".join(boy_names[0:9])\n",
    "\n",
    "# Print f-string preamble, first_nine_names, conjunction, the final item in boy_names and a period\n",
    "print(f\"{preamble}{first_nine_names}{conjunction} {boy_names[-1]}.\")"
   ]
  },
  {
   "cell_type": "code",
   "execution_count": 15,
   "id": "17a91e52",
   "metadata": {},
   "outputs": [
    {
     "name": "stdout",
     "output_type": "stream",
     "text": [
      "['Serenity', 'Sophia', 'Sarah', 'Sophia', 'Savannah', 'Serenity']\n",
      "['Angela']\n"
     ]
    }
   ],
   "source": [
    "girl_names=['Jada', 'Emily', 'Ava', 'Serenity', 'Claire', 'Sophia', 'Sarah', 'Ashley', 'Chaya', 'Abigail', 'Zoe', 'Leah', 'Hailey', 'Ava', 'Olivia', 'Emma', 'Chloe', 'Sophia', 'Aaliyah', 'Angela', 'Camila', 'Savannah', 'Serenity', 'Fatoumata']\n",
    "\n",
    "# Store a list of girl_names that start with s: names_with_s\n",
    "names_with_s = [name for name in girl_names if name.lower().startswith('s')]\n",
    "\n",
    "print(names_with_s)\n",
    "\n",
    "# Store a list of girl_names that contain angel: names_with_angel\n",
    "names_with_angel = [name for name in girl_names if 'angel' in name.lower()]\n",
    "\n",
    "print(names_with_angel)"
   ]
  },
  {
   "cell_type": "markdown",
   "id": "a2f40adb",
   "metadata": {},
   "source": [
    "# Advanced data types"
   ]
  },
  {
   "cell_type": "code",
   "execution_count": null,
   "id": "268d6ca5",
   "metadata": {},
   "outputs": [
    {
     "name": "stdout",
     "output_type": "stream",
     "text": [
      "Counter({'MALE': 15, 'FEMALE': 5})\n",
      "[('MALE', 15)]\n"
     ]
    }
   ],
   "source": [
    "#Counter is a powerful tool for counting, validating, and learning more about the elements within a dataset that is found in the collections module. You pass an iterable (list, set, tuple) or a dictionary to the Counter\n",
    "#you can also use the Counter object similarly to a dictionary with key/value assignment, for example counter[key] = value.\n",
    "\n",
    "penguins=[{'Species': 'Gentoo', 'Flipper Length (mm)': 230.0, 'Body Mass (g)': 5500.0, 'Sex': 'MALE'}, {'Species': 'Chinstrap', 'Flipper Length (mm)': 201.0, 'Body Mass (g)': 4300.0, 'Sex': 'MALE'}, {'Species': 'Adlie', 'Flipper Length (mm)': 180.0, 'Body Mass (g)': 3800.0, 'Sex': 'MALE'}, {'Species': 'Gentoo', 'Flipper Length (mm)': 229.0, 'Body Mass (g)': 5800.0, 'Sex': 'MALE'}, {'Species': 'Chinstrap', 'Flipper Length (mm)': 210.0, 'Body Mass (g)': 4100.0, 'Sex': 'MALE'}, {'Species': 'Adlie', 'Flipper Length (mm)': 200.0, 'Body Mass (g)': 3975.0, 'Sex': 'MALE'}, {'Species': 'Gentoo', 'Flipper Length (mm)': 225.0, 'Body Mass (g)': 5400.0, 'Sex': 'MALE'}, {'Species': 'Chinstrap', 'Flipper Length (mm)': 210.0, 'Body Mass (g)': 4800.0, 'Sex': 'MALE'}, {'Species': 'Chinstrap', 'Flipper Length (mm)': 193.0, 'Body Mass (g)': 3800.0, 'Sex': 'FEMALE'}, {'Species': 'Adlie', 'Flipper Length (mm)': 176.0, 'Body Mass (g)': 3450.0, 'Sex': 'FEMALE'}, {'Species': 'Chinstrap', 'Flipper Length (mm)': 210.0, 'Body Mass (g)': 3950.0, 'Sex': 'MALE'}, {'Species': 'Gentoo', 'Flipper Length (mm)': 219.0, 'Body Mass (g)': 5250.0, 'Sex': 'MALE'}, {'Species': 'Gentoo', 'Flipper Length (mm)': 210.0, 'Body Mass (g)': 4300.0, 'Sex': 'FEMALE'}, {'Species': 'Gentoo', 'Flipper Length (mm)': 216.0, 'Body Mass (g)': 4925.0, 'Sex': 'MALE'}, {'Species': 'Adlie', 'Flipper Length (mm)': 187.0, 'Body Mass (g)': 3550.0, 'Sex': 'FEMALE'}, {'Species': 'Adlie', 'Flipper Length (mm)': 192.0, 'Body Mass (g)': 3950.0, 'Sex': 'MALE'}, {'Species': 'Chinstrap', 'Flipper Length (mm)': 193.0, 'Body Mass (g)': 3800.0, 'Sex': 'MALE'}, {'Species': 'Chinstrap', 'Flipper Length (mm)': 201.0, 'Body Mass (g)': 4050.0, 'Sex': 'MALE'}, {'Species': 'Adlie', 'Flipper Length (mm)': 190.0, 'Body Mass (g)': 3650.0, 'Sex': 'MALE'}, {'Species': 'Adlie', 'Flipper Length (mm)': 181.0, 'Body Mass (g)': 3175.0, 'Sex': 'FEMALE'}]\n",
    "\n",
    "# Import the Counter object\n",
    "from collections import Counter\n",
    "\n",
    "# Create a Counter of the penguins sex using a list comp\n",
    "penguins_sex_counts = Counter([penguin['Sex'] for penguin in penguins])\n",
    "\n",
    "# Print the penguins_sex_counts\n",
    "print(penguins_sex_counts)\n",
    "#Another powerful usage of Counter is finding the most common elements in a list. This can be done with the .most_common() method.\n",
    "print(penguins_sex_counts.most_common(1))"
   ]
  },
  {
   "cell_type": "code",
   "execution_count": null,
   "id": "e50739ff",
   "metadata": {},
   "outputs": [],
   "source": [
    "# defaultdict\n"
   ]
  },
  {
   "cell_type": "code",
   "execution_count": 16,
   "id": "eae4887c",
   "metadata": {},
   "outputs": [
    {
     "name": "stdout",
     "output_type": "stream",
     "text": [
      "[SpeciesDetails(species='Gentoo', sex='MALE', body_mass=5500.0), SpeciesDetails(species='Chinstrap', sex='MALE', body_mass=4300.0), SpeciesDetails(species='Adlie', sex='MALE', body_mass=3800.0), SpeciesDetails(species='Gentoo', sex='MALE', body_mass=5800.0), SpeciesDetails(species='Chinstrap', sex='MALE', body_mass=4100.0)]\n",
      "MALE:4300.0\n",
      "MALE:4100.0\n",
      "MALE:4800.0\n",
      "FEMALE:3800.0\n",
      "MALE:3950.0\n",
      "MALE:3800.0\n",
      "MALE:4050.0\n"
     ]
    }
   ],
   "source": [
    "#namedtuples\n",
    "\n",
    "weight_log=[('Gentoo', 'MALE', 5500.0), ('Chinstrap', 'MALE', 4300.0), ('Adlie', 'MALE', 3800.0), ('Gentoo', 'MALE', 5800.0), ('Chinstrap', 'MALE', 4100.0), ('Adlie', 'MALE', 3975.0), ('Gentoo', 'MALE', 5400.0), ('Chinstrap', 'MALE', 4800.0), ('Chinstrap', 'FEMALE', 3800.0), ('Adlie', 'FEMALE', 3450.0), ('Chinstrap', 'MALE', 3950.0), ('Gentoo', 'MALE', 5250.0), ('Gentoo', 'FEMALE', 4300.0), ('Gentoo', 'MALE', 4925.0), ('Adlie', 'FEMALE', 3550.0), ('Adlie', 'MALE', 3950.0), ('Chinstrap', 'MALE', 3800.0), ('Chinstrap', 'MALE', 4050.0), ('Adlie', 'MALE', 3650.0), ('Adlie', 'FEMALE', 3175.0)]\n",
    "\n",
    "# Import namedtuple from collections\n",
    "from collections import namedtuple\n",
    "\n",
    "# Create the namedtuple: SpeciesDetails\n",
    "SpeciesDetails = namedtuple('SpeciesDetails', ['species', 'sex', 'body_mass'])\n",
    "\n",
    "# Create the empty list: labeled_entries\n",
    "labeled_entries = []\n",
    "\n",
    "# Iterate over the weight_log entries\n",
    "for species, sex, body_mass in weight_log:\n",
    "    # Append a new SpeciesDetails namedtuple instance for each entry to labeled_entries\n",
    "    labeled_entries.append(SpeciesDetails(species, sex, body_mass))\n",
    "    \n",
    "print(labeled_entries[:5])\n",
    "\n",
    "# Iterate over the first twenty entries in labeled_entries\n",
    "for entry in labeled_entries[:20]:\n",
    "    # if the entry's species equals Chinstrap\n",
    "    if entry.species == 'Chinstrap':\n",
    "      # Print each entry's sex and body_mass seperated by a colon\n",
    "      print(f'{entry.sex}:{entry.body_mass}')"
   ]
  },
  {
   "cell_type": "code",
   "execution_count": 19,
   "id": "e59d978b",
   "metadata": {},
   "outputs": [],
   "source": [
    "#dataclass\n",
    "# Import dataclass\n",
    "from dataclasses import dataclass\n",
    "\n",
    "@dataclass\n",
    "class WeightEntry:\n",
    "    # Define the fields on the class\n",
    "    species: str\n",
    "    flipper_length: int\n",
    "    body_mass: int\n",
    "    sex: str\n",
    "        \n",
    "    # Define a property that returns the body_mass / flipper_length\n",
    "    @property\n",
    "    def mass_to_flipper_length_ratio(self):\n",
    "        return self.body_mass / self.flipper_length"
   ]
  },
  {
   "cell_type": "code",
   "execution_count": 20,
   "id": "deec9d45",
   "metadata": {},
   "outputs": [
    {
     "name": "stdout",
     "output_type": "stream",
     "text": [
      "[23.91304347826087, 25.32751091703057, 24.0, 23.972602739726028, 20.476190476190474]\n"
     ]
    }
   ],
   "source": [
    "weight_log=[('Gentoo', 230.0, 5500.0, 'MALE'), ('Gentoo', 229.0, 5800.0, 'MALE'), ('Gentoo', 225.0, 5400.0, 'MALE'), ('Gentoo', 219.0, 5250.0, 'MALE'), ('Gentoo', 210.0, 4300.0, 'FEMALE'), ('Gentoo', 216.0, 4925.0, 'MALE')]\n",
    "\n",
    "\n",
    "# Create the empty list: labeled_entries\n",
    "labeled_entries = []\n",
    "\n",
    "# Iterate over the weight_log entries\n",
    "for species, flipper_length, body_mass, sex in weight_log:\n",
    "    # Append a new WeightEntry instance to labeled_entries\n",
    "    labeled_entries.append(WeightEntry(species, flipper_length, body_mass, sex))\n",
    "    \n",
    "# Print a list of the first 5 mass_to_flipper_length_ratio values\n",
    "print([entry.mass_to_flipper_length_ratio for entry in labeled_entries[:5]])"
   ]
  },
  {
   "cell_type": "code",
   "execution_count": null,
   "id": "4e3546d3",
   "metadata": {},
   "outputs": [],
   "source": []
  }
 ],
 "metadata": {
  "kernelspec": {
   "display_name": "py-dc",
   "language": "python",
   "name": "python3"
  },
  "language_info": {
   "codemirror_mode": {
    "name": "ipython",
    "version": 3
   },
   "file_extension": ".py",
   "mimetype": "text/x-python",
   "name": "python",
   "nbconvert_exporter": "python",
   "pygments_lexer": "ipython3",
   "version": "3.13.7"
  }
 },
 "nbformat": 4,
 "nbformat_minor": 5
}
