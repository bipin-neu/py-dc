{
 "cells": [
  {
   "cell_type": "code",
   "execution_count": 1,
   "id": "af8ad4ff",
   "metadata": {},
   "outputs": [],
   "source": [
    "# The __init__.py file lets python know that a directory is a package.\n",
    "# https://peps.python.org/pep-0008/#package-and-module-name"
   ]
  },
  {
   "cell_type": "code",
   "execution_count": 2,
   "id": "09ea607b",
   "metadata": {},
   "outputs": [],
   "source": [
    "from collections import Counter\n",
    "import text_analyzer"
   ]
  },
  {
   "cell_type": "code",
   "execution_count": 3,
   "id": "c4ae1345",
   "metadata": {},
   "outputs": [],
   "source": [
    "word_counts = [Counter({'H': 2, 'O': 2, 'DataCamp': 1, 'Introduction': 1, 'to': 1, 'AutoML': 1, 'In': 1, 'this': 1, 'tutorial': 1, 'you': 1, 'will': 1, 'learn': 1, 'about': 1, 'and': 1, 'have': 1, 'a': 1, 'glimpse': 1, 'of': 1, 'its': 1, 'auto': 1}), Counter({'DataCamp': 1, 'Stocks': 1, 'Significance': 1, 'Testing': 1, 'p': 1, 'Hacking': 1, 'Learn': 1, 'how': 1, 'to': 1, 'manipulate': 1, 'time': 1, 'series': 1, 'data': 1, 'with': 1, 'pandas': 1, 'and': 1, 'co': 1}), Counter({'RT': 1, '@cbismuth': 1, 'Linear': 1, 'regression': 1, 'example': 1, 'with': 1, 'most': 1, 'significant': 1, 'features': 1, 'detection': 1, '#DataCamp': 1, '#DataScience': 1, '#Python': 1, '#sklearn': 1}), Counter({'Linear': 1, 'regression': 1, 'example': 1, 'with': 1, 'most': 1, 'significant': 1, 'features': 1, 'detection': 1, '#DataCamp': 1, '#DataScience': 1, '#Python': 1, '#sklearn': 1})]\n"
   ]
  },
  {
   "cell_type": "code",
   "execution_count": 4,
   "id": "ad75e3ae",
   "metadata": {},
   "outputs": [
    {
     "name": "stdout",
     "output_type": "stream",
     "text": [
      "[('with', 3), ('H', 2), ('O', 2), ('DataCamp', 2), ('to', 2)]\n"
     ]
    }
   ],
   "source": [
    "# Sum word_counts using sum_counters from text_analyzer\n",
    "word_count_totals = text_analyzer.sum_counters(word_counts)\n",
    "\n",
    "# Plot word_count_totals using plot_counter from text_analyzer\n",
    "text_analyzer.plot_counter(word_count_totals)"
   ]
  },
  {
   "cell_type": "code",
   "execution_count": 5,
   "id": "893363a6",
   "metadata": {},
   "outputs": [
    {
     "name": "stdout",
     "output_type": "stream",
     "text": [
      "datacamp_tweet\n"
     ]
    }
   ],
   "source": [
    "# Create an instance of Document with datacamp_tweet\n",
    "my_document = text_analyzer.Document(text='datacamp_tweet')\n",
    "\n",
    "# Print the text attribute of the Document instance\n",
    "print(my_document.text)"
   ]
  },
  {
   "cell_type": "code",
   "execution_count": null,
   "id": "f1e54298",
   "metadata": {},
   "outputs": [],
   "source": []
  }
 ],
 "metadata": {
  "kernelspec": {
   "display_name": "py-dc",
   "language": "python",
   "name": "python3"
  },
  "language_info": {
   "codemirror_mode": {
    "name": "ipython",
    "version": 3
   },
   "file_extension": ".py",
   "mimetype": "text/x-python",
   "name": "python",
   "nbconvert_exporter": "python",
   "pygments_lexer": "ipython3",
   "version": "3.13.7"
  }
 },
 "nbformat": 4,
 "nbformat_minor": 5
}
