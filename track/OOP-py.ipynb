{
 "cells": [
  {
   "cell_type": "code",
   "execution_count": 5,
   "id": "d3385e07",
   "metadata": {},
   "outputs": [
    {
     "name": "stdout",
     "output_type": "stream",
     "text": [
      "['__add__', '__class__', '__class_getitem__', '__contains__', '__delattr__', '__delitem__', '__dir__', '__doc__', '__eq__', '__format__', '__ge__', '__getattribute__', '__getitem__', '__getstate__', '__gt__', '__hash__', '__iadd__', '__imul__', '__init__', '__init_subclass__', '__iter__', '__le__', '__len__', '__lt__', '__mul__', '__ne__', '__new__', '__reduce__', '__reduce_ex__', '__repr__', '__reversed__', '__rmul__', '__setattr__', '__setitem__', '__sizeof__', '__str__', '__subclasshook__', 'append', 'clear', 'copy', 'count', 'extend', 'index', 'insert', 'pop', 'remove', 'reverse', 'sort']\n",
      "['__add__', '__class__', '__class_getitem__', '__contains__', '__delattr__', '__delitem__', '__dir__', '__doc__', '__eq__', '__format__', '__ge__', '__getattribute__', '__getitem__', '__getstate__', '__gt__', '__hash__', '__iadd__', '__imul__', '__init__', '__init_subclass__', '__iter__', '__le__', '__len__', '__lt__', '__mul__', '__ne__', '__new__', '__reduce__', '__reduce_ex__', '__repr__', '__reversed__', '__rmul__', '__setattr__', '__setitem__', '__sizeof__', '__str__', '__subclasshook__', 'append', 'clear', 'copy', 'count', 'extend', 'index', 'insert', 'pop', 'remove', 'reverse', 'sort']\n"
     ]
    }
   ],
   "source": [
    "# display attrib, methods of an object\n",
    "print(dir([1,2]))\n",
    "print(dir(list))"
   ]
  },
  {
   "cell_type": "code",
   "execution_count": 6,
   "id": "a6b2d892",
   "metadata": {},
   "outputs": [],
   "source": [
    "# Create an empty class Employee\n",
    "class Employee:\n",
    "    pass\n",
    "\n",
    "\n",
    "# Create an object emp of class Employee \n",
    "emp = Employee()"
   ]
  },
  {
   "cell_type": "code",
   "execution_count": 7,
   "id": "d71e3500",
   "metadata": {},
   "outputs": [
    {
     "name": "stdout",
     "output_type": "stream",
     "text": [
      "50000\n",
      "51500\n"
     ]
    }
   ],
   "source": [
    "class Employee:\n",
    "  def set_name(self, new_name):\n",
    "    self.name = new_name\n",
    "\n",
    "  def set_salary(self, new_salary):\n",
    "    self.salary = new_salary \n",
    "\n",
    "  # Add a give_raise() method with amount as an argument\n",
    "  def give_raise(self, amount):\n",
    "    self.salary = self.salary + amount\n",
    "\n",
    "# Create the emp object\n",
    "emp = Employee()\n",
    "emp.set_name('Korel Rossi')\n",
    "emp.set_salary(50000)\n",
    "\n",
    "# Print the salary\n",
    "print(emp.salary)\n",
    "\n",
    "# Give emp a raise of 1500\n",
    "emp.give_raise(1500)\n",
    "print(emp.salary)"
   ]
  },
  {
   "cell_type": "code",
   "execution_count": 8,
   "id": "c9f60b15",
   "metadata": {},
   "outputs": [
    {
     "name": "stdout",
     "output_type": "stream",
     "text": [
      "Invalid salary!\n",
      "Korel Rossi\n",
      "0\n"
     ]
    }
   ],
   "source": [
    "class Employee:\n",
    "  def __init__(self, name, salary=0):\n",
    "    self.name = name\n",
    "    # Check if salary is positive\n",
    "    if salary > 0:\n",
    "      self.salary = salary\n",
    "    else:\n",
    "      self.salary = 0\n",
    "      print(\"Invalid salary!\")\n",
    "\n",
    "  def give_raise(self, amount):\n",
    "    self.salary += amount\n",
    "\n",
    "  def monthly_salary(self):\n",
    "    return self.salary / 12\n",
    "      \n",
    "emp = Employee(\"Korel Rossi\", -1000)\n",
    "print(emp.name)\n",
    "print(emp.salary)"
   ]
  },
  {
   "cell_type": "code",
   "execution_count": 9,
   "id": "435c924f",
   "metadata": {},
   "outputs": [],
   "source": [
    "# core principles - encapsulation, inheritance, polymorphism"
   ]
  },
  {
   "cell_type": "code",
   "execution_count": 10,
   "id": "3a6b9f71",
   "metadata": {},
   "outputs": [
    {
     "name": "stdout",
     "output_type": "stream",
     "text": [
      "10\n",
      "10\n"
     ]
    }
   ],
   "source": [
    "# class level attributes  == static varaibles in java\n",
    "# Create a Player class\n",
    "class Player:\n",
    "  \n",
    "  # Create MAX_POSITION class attribute\n",
    "  MAX_POSITION = 10\n",
    "  \n",
    "  # Add a constructor, setting position to zero\n",
    "  def __init__(self, position=0):\n",
    "    self.position = 0\n",
    "\n",
    "# Create a player p and print its MAX_POSITION\n",
    "p = Player()\n",
    "print(p.MAX_POSITION)\n",
    "\n",
    "class Player1:\n",
    "  MAX_POSITION = 10\n",
    "  \n",
    "  # Define a constructor\n",
    "  def __init__(self, position):\n",
    "    \n",
    "    # Check if position is less than the class-level attribute value\n",
    "    if position <= Player.MAX_POSITION:\n",
    "      self.position = position\n",
    "    \n",
    "    # If not, set equal to the class-level attribute\n",
    "    else:\n",
    "      self.position = Player.MAX_POSITION\n",
    "\n",
    "# Create a Player object, p, and print its MAX_POSITITON\n",
    "p = Player1(6)\n",
    "print(p.MAX_POSITION)"
   ]
  },
  {
   "cell_type": "code",
   "execution_count": 12,
   "id": "a600bd8a",
   "metadata": {},
   "outputs": [],
   "source": [
    "#class methods or static methods\n",
    "class Person:\n",
    "  CURRENT_YEAR = 2024\n",
    "  def __init__(self, name, age):\n",
    "    self.name = name\n",
    "    self.age = age\n",
    "  \n",
    "  # Add a class method decorator\n",
    "  @classmethod\n",
    "  # Define the from_birth_year method\n",
    "  def from_birth_year(cls, name, birth_year):\n",
    "    # Create age\n",
    "    age = cls.CURRENT_YEAR - birth_year\n",
    "    # Return the name and age\n",
    "    return cls(name, age)\n",
    "\n",
    "bob = Person.from_birth_year(\"Bob\", 1990)"
   ]
  },
  {
   "cell_type": "code",
   "execution_count": 2,
   "id": "ab2e3954",
   "metadata": {},
   "outputs": [
    {
     "name": "stdout",
     "output_type": "stream",
     "text": [
      "80560.0\n"
     ]
    }
   ],
   "source": [
    "class Employee:\n",
    "  def __init__(self, name, salary=30000):\n",
    "    self.name = name\n",
    "    self.salary = salary\n",
    "\n",
    "  def give_raise(self, amount):\n",
    "    self.salary += amount\n",
    "\n",
    "class Manager(Employee):\n",
    "  def display(self):\n",
    "    print(\"Manager \", self.name)\n",
    "\n",
    "  def __init__(self, name, salary=50000, project=None):\n",
    "    Employee.__init__(self, name, salary)\n",
    "    self.project = project\n",
    "\n",
    "  # Add a give_raise method\n",
    "  def give_raise(self, amount, bonus=1.05):\n",
    "    new_amount = amount * bonus\n",
    "    Employee.give_raise(self, new_amount)\n",
    "    \n",
    "mngr = Manager(\"Ashta Dunbar\", 78500)\n",
    "mngr.give_raise(2000, bonus=1.03)\n",
    "print(mngr.salary)"
   ]
  },
  {
   "cell_type": "code",
   "execution_count": 3,
   "id": "5b7ebe1b",
   "metadata": {},
   "outputs": [],
   "source": [
    "#integrating with standard python\n",
    "#oprator overloading"
   ]
  },
  {
   "cell_type": "code",
   "execution_count": 4,
   "id": "451415a4",
   "metadata": {},
   "outputs": [],
   "source": [
    "#When comparing two objects of a custom class using ==, Python by default compares just the memory chunks that the objects point to, not the data contained in the objects. To override this behavior, the class can implement a special method, which accepts two arguments, the objects to be compared, and returns True or False"
   ]
  },
  {
   "cell_type": "code",
   "execution_count": 5,
   "id": "cb1d7fe9",
   "metadata": {},
   "outputs": [
    {
     "name": "stdout",
     "output_type": "stream",
     "text": [
      "True\n",
      "False\n"
     ]
    }
   ],
   "source": [
    "class BankAccount:\n",
    "  # Modify to initialize a number attribute\n",
    "  def __init__(self, number, balance=0):\n",
    "    self.balance = balance\n",
    "    self.number = number\n",
    "      \n",
    "  def withdraw(self, amount):\n",
    "    self.balance -= amount \n",
    "    \n",
    "  # Define __eq__ that returns True if the number attributes are equal \n",
    "  def __eq__(self, other):\n",
    "    return self.number == other.number   \n",
    "\n",
    "# Create accounts and compare them       \n",
    "acct1 = BankAccount(123, 1000)\n",
    "acct2 = BankAccount(123, 1000)\n",
    "acct3 = BankAccount(456, 1000)\n",
    "print(acct1 == acct2)\n",
    "print(acct1 == acct3)\n",
    "    "
   ]
  },
  {
   "cell_type": "code",
   "execution_count": 7,
   "id": "f00052d8",
   "metadata": {},
   "outputs": [
    {
     "name": "stdout",
     "output_type": "stream",
     "text": [
      "Employee('Amar Howard', 30000)\n",
      "Employee name: Amar Howard\n",
      "Employee salary: 30000\n",
      "Employee('Carolyn Ramirez', 35000)\n",
      "Employee name: Carolyn Ramirez\n",
      "Employee salary: 35000\n"
     ]
    }
   ],
   "source": [
    "#There are two special methods in Python that return a string representation of an object. __str__() is called when you use print() or str() on an object, and __repr__() is called when you use repr() on an object, print the object in the console without calling print(), or instead of __str__() if __str__() is not defined.\n",
    "\n",
    "#__str__() is supposed to provide a \"user-friendly\" output describing an object, and __repr__() should return the expression that, when evaluated, will return the same object, ensuring the reproducibility of your code.\n",
    "\n",
    "\n",
    "class Employee:\n",
    "    def __init__(self, name, salary=30000):\n",
    "        self.name, self.salary = name, salary\n",
    "      \n",
    "    # Add the __repr__() method  \n",
    "    def __repr__(self):\n",
    "        return f\"Employee('{self.name}', {self.salary})\"\n",
    "    \n",
    "    # Add the __str__() method\n",
    "    def __str__(self):\n",
    "      emp_str = f\"\"\"Employee name: {self.name}\n",
    "Employee salary: {self.salary}\"\"\"\n",
    "      return emp_str\n",
    "\n",
    "emp1 = Employee(\"Amar Howard\", 30000)\n",
    "print(repr(emp1))\n",
    "print(emp1)\n",
    "emp2 = Employee(\"Carolyn Ramirez\", 35000)\n",
    "print(repr(emp2))\n",
    "print(emp2)"
   ]
  },
  {
   "cell_type": "code",
   "execution_count": 8,
   "id": "da19c7f4",
   "metadata": {},
   "outputs": [],
   "source": [
    "#Exceptions"
   ]
  },
  {
   "cell_type": "code",
   "execution_count": 9,
   "id": "59d52eef",
   "metadata": {},
   "outputs": [
    {
     "name": "stdout",
     "output_type": "stream",
     "text": [
      "0.16666666666666666\n",
      "Cannot divide by zero!\n",
      "None\n",
      "Index out of range!\n",
      "None\n"
     ]
    }
   ],
   "source": [
    "# Modify the function to catch exceptions\n",
    "def invert_at_index(x, ind):\n",
    "  try:\n",
    "    return 1/x[ind]\n",
    "  except ZeroDivisionError:\n",
    "    print(\"Cannot divide by zero!\")\n",
    "  except IndexError:\n",
    "    print(\"Index out of range!\")\n",
    " \n",
    "a_list = [5,6,0,7]\n",
    "\n",
    "# Works okay\n",
    "print(invert_at_index(a_list, 1))\n",
    "\n",
    "# Potential ZeroDivisionError\n",
    "print(invert_at_index(a_list, 2))\n",
    "\n",
    "# Potential IndexError\n",
    "print(invert_at_index(a_list, 5))"
   ]
  },
  {
   "cell_type": "code",
   "execution_count": 10,
   "id": "580ea418",
   "metadata": {},
   "outputs": [],
   "source": [
    "class SalaryError(ValueError): \n",
    "  pass\n",
    "class BonusError(SalaryError): \n",
    "  pass\n",
    "\n",
    "class Employee:\n",
    "  MIN_SALARY = 30000\n",
    "  MAX_BONUS = 5000\n",
    "\n",
    "  def __init__(self, name, salary = 30000):\n",
    "    self.name = name    \n",
    "    if salary < Employee.MIN_SALARY:\n",
    "      raise SalaryError(\"Salary is too low!\")      \n",
    "    self.salary = salary\n",
    "    \n",
    "  # Raise exceptions  \n",
    "  def give_bonus(self, amount):\n",
    "    if amount > Employee.MAX_BONUS:\n",
    "      raise BonusError(\"The bonus amount is too high!\")  \n",
    "        \n",
    "    elif self.salary + amount <  Employee.MIN_SALARY:\n",
    "      raise SalaryError(\"The salary after bonus is too low!\")\n",
    "      \n",
    "    self.salary += amount"
   ]
  },
  {
   "cell_type": "markdown",
   "id": "b19d12f5",
   "metadata": {},
   "source": [
    "# intermediate OOP"
   ]
  },
  {
   "cell_type": "code",
   "execution_count": 1,
   "id": "9353fb65",
   "metadata": {},
   "outputs": [
    {
     "name": "stdout",
     "output_type": "stream",
     "text": [
      "Your computer now has 768 GB of storage.\n"
     ]
    }
   ],
   "source": [
    "class Computer:\n",
    "  def __init__(self, storage):\n",
    "    self.storage = storage\n",
    "\n",
    "  def add_external_drive(self, external_storage):\n",
    "    self.storage += external_storage\n",
    "    print(f\"Your computer now has {self.storage} GB of storage.\")\n",
    "\n",
    "  @classmethod\n",
    "  def power_on(cls):\n",
    "    print(\"Your computer is starting up!\")\n",
    "\n",
    "my_computer = Computer(512)\n",
    "\n",
    "# Add an external drive of 256 GB\n",
    "my_computer.add_external_drive(256)"
   ]
  },
  {
   "cell_type": "code",
   "execution_count": 2,
   "id": "b566130e",
   "metadata": {},
   "outputs": [
    {
     "name": "stdout",
     "output_type": "stream",
     "text": [
      "DataCamp is being installed from the Tablet App Store.\n"
     ]
    }
   ],
   "source": [
    "class Computer:\n",
    "  def __init__(self, software_version):\n",
    "    self.software_version = software_version\n",
    "\n",
    "  def install_app(self, app_name, app_store):\n",
    "    if app_store:\n",
    "      print(f\"Installing {app_name} from App Store.\")\n",
    "    else:\n",
    "      print(f\"Installing {app_name} from other provider.\")\n",
    "\n",
    "  def update_software(self, new_software_version):\n",
    "      self.software_version = new_software_version\n",
    "\n",
    "class Tablet(Computer):\n",
    "  # Override the install_app() method\n",
    "  def install_app(self, app_name):\n",
    "    print(f\"{app_name} is being installed from the Tablet App Store.\")\n",
    "    \n",
    "my_tablet = Tablet(\"1.1.1\")\n",
    "\n",
    "# Call the new install_app() method\n",
    "my_tablet.install_app(\"DataCamp\")\n"
   ]
  },
  {
   "cell_type": "code",
   "execution_count": 3,
   "id": "0110626d",
   "metadata": {},
   "outputs": [
    {
     "name": "stdout",
     "output_type": "stream",
     "text": [
      "True\n"
     ]
    }
   ],
   "source": [
    "class Computer:\n",
    "  def __init__(self, device_id, storage):\n",
    "    self.device_id = device_id\n",
    "    self.storage = storage\n",
    "  \n",
    "  # Overload the == operator using a magic method\n",
    "  def __eq__(self, other):\n",
    "    # Return a boolean based on the value of device_id\n",
    "    return self.device_id == other.device_id\n",
    "\n",
    "pre_upgrade_computer = Computer(\"Y391Hky6\", 256)\n",
    "post_upgrade_computer = Computer(\"Y391Hky6\", 1024)\n",
    "\n",
    "# Create two instances of Computer, compare using ==\n",
    "print(pre_upgrade_computer == post_upgrade_computer)"
   ]
  },
  {
   "cell_type": "code",
   "execution_count": 1,
   "id": "9983cdf0",
   "metadata": {},
   "outputs": [
    {
     "name": "stdout",
     "output_type": "stream",
     "text": [
      "192\n"
     ]
    }
   ],
   "source": [
    "class Storage:\n",
    "  def __init__(self, capacity):\n",
    "    self.capacity = capacity\n",
    "  \n",
    "  def __add__(self, other):  # Overload the + operator\n",
    "    # Create a Storage object with the sum of capacity\n",
    "    return Storage(self.capacity + other.capacity)\n",
    "\n",
    "onboard_storage = Storage(128)\n",
    "external_drive = Storage(64)\n",
    "\n",
    "# Add the two Storage objects, show the total capacity\n",
    "total_storage = onboard_storage + external_drive\n",
    "print(total_storage.capacity)"
   ]
  },
  {
   "cell_type": "code",
   "execution_count": 4,
   "id": "d4306aa6",
   "metadata": {},
   "outputs": [],
   "source": [
    "class Network:\n",
    "  def __init__(self, ip_addresses):\n",
    "    self.ip_addresses = ip_addresses\n",
    "\n",
    "class Computer:\n",
    "  def __init__(self, operating_system, ip_address):\n",
    "    self.operating_system = operating_system\n",
    "    self.ip_address = ip_address\n",
    "    \n",
    "  def __add__(self, other):\n",
    "    if self.operating_system == other.operating_system:\n",
    "    \treturn Network([self.ip_address, other.ip_address])\n",
    "    raise Exception(\"Incompatible operating systems.\")\n",
    "\n",
    "# Build a network using Morgan and Jenny's Computers\n",
    "morgans_computer = Computer(\"Windows\", \"182.112.81.991\")\n",
    "jennys_computer = Computer(\"Windows\", \"177.511.64.162\")\n",
    "network = morgans_computer + jennys_computer"
   ]
  },
  {
   "cell_type": "code",
   "execution_count": null,
   "id": "556ed25a",
   "metadata": {},
   "outputs": [
    {
     "name": "stdout",
     "output_type": "stream",
     "text": [
      "Using Macrosung's default internet browser.\n",
      "Calling Alex from 801-932-7629\n",
      "Playing Creeks and Highways using Dotify\n"
     ]
    }
   ],
   "source": [
    "#Multiple inheritance\n",
    "class Computer:\n",
    "  def __init__(self, brand):\n",
    "    self.brand = brand\n",
    "\n",
    "  def browse_internet(self):\n",
    "    print(f\"Using {self.brand}'s default internet browser.\")\n",
    "class Telephone:\n",
    "  def __init__(self, phone_number):\n",
    "    self.phone_number = phone_number\n",
    "\n",
    "  def make_call(self, recipient):\n",
    "    print(f\"Calling {recipient} from {self.phone_number}\")\n",
    "\n",
    "class Smartphone(Computer, Telephone):\n",
    "  def __init__(self, brand, phone_number, music_app):\n",
    "    Computer.__init__(self, brand)\n",
    "    Telephone.__init__(self, phone_number)\n",
    "    self.music_app = music_app\n",
    "    \n",
    "  def play_music(self, song):\n",
    "    print(f\"Playing {song} using {self.music_app}\")\n",
    "\n",
    "personal_phone = Smartphone(\"Macrosung\", \"801-932-7629\", \"Dotify\")\n",
    "\n",
    "# Browse the internet, make a call to Alex, and play music\n",
    "personal_phone.browse_internet()\n",
    "personal_phone.make_call(\"Alex\")\n",
    "personal_phone.play_music(\"Creeks and Highways\")\n"
   ]
  },
  {
   "cell_type": "code",
   "execution_count": 7,
   "id": "bdea3dd7",
   "metadata": {},
   "outputs": [
    {
     "name": "stdout",
     "output_type": "stream",
     "text": [
      "Using Macrosung's default internet browser.\n",
      "Sending Time for a new mission! to Chuck from 801-932-7629\n"
     ]
    }
   ],
   "source": [
    "#multi level inheritance\n",
    "class Computer:\n",
    "  def __init__(self, brand):\n",
    "    self.brand = brand\n",
    "\n",
    "  def browse_internet(self):\n",
    "    print(f\"Using {self.brand}'s default internet browser.\")\n",
    "\n",
    "class Tablet(Computer):\n",
    "  def __init__(self, brand, apps):\n",
    "    Computer.__init__(self, brand)\n",
    "    self.apps = apps\n",
    "\n",
    "  def uninstall_app(self, app):\n",
    "    if app in self.apps:\n",
    "      self.apps.remove(app)\n",
    "      \n",
    "# Create a Smartphone class that inherits from Tablet\n",
    "class Smartphone(Tablet):\n",
    "  def __init__(self, brand, apps, phone_number):\n",
    "    Tablet.__init__(self, brand, apps)\n",
    "    self.phone_number = phone_number\n",
    "  \n",
    "  # Create send_text to send a message to a recipient\n",
    "  def send_text(self, message, recipient):\n",
    "    print(f\"Sending {message} to {recipient} from {self.phone_number}\")\n",
    "\n",
    "# Create an instance of Smartphone, call methods in each class\n",
    "personal_phone = Smartphone(\"Macrosung\", [\"Weather\", \"Camera\"], \"801-932-7629\")    \n",
    "personal_phone.browse_internet()\n",
    "personal_phone.uninstall_app(\"Weather\")\n",
    "personal_phone.send_text(\"Time for a new mission!\", \"Chuck\")"
   ]
  },
  {
   "cell_type": "code",
   "execution_count": null,
   "id": "7e4a6246",
   "metadata": {},
   "outputs": [],
   "source": []
  }
 ],
 "metadata": {
  "kernelspec": {
   "display_name": "py-dc",
   "language": "python",
   "name": "python3"
  },
  "language_info": {
   "codemirror_mode": {
    "name": "ipython",
    "version": 3
   },
   "file_extension": ".py",
   "mimetype": "text/x-python",
   "name": "python",
   "nbconvert_exporter": "python",
   "pygments_lexer": "ipython3",
   "version": "3.13.7"
  }
 },
 "nbformat": 4,
 "nbformat_minor": 5
}
