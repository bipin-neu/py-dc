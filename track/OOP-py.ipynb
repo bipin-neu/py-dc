{
 "cells": [
  {
   "cell_type": "code",
   "execution_count": 5,
   "id": "d3385e07",
   "metadata": {},
   "outputs": [
    {
     "name": "stdout",
     "output_type": "stream",
     "text": [
      "['__add__', '__class__', '__class_getitem__', '__contains__', '__delattr__', '__delitem__', '__dir__', '__doc__', '__eq__', '__format__', '__ge__', '__getattribute__', '__getitem__', '__getstate__', '__gt__', '__hash__', '__iadd__', '__imul__', '__init__', '__init_subclass__', '__iter__', '__le__', '__len__', '__lt__', '__mul__', '__ne__', '__new__', '__reduce__', '__reduce_ex__', '__repr__', '__reversed__', '__rmul__', '__setattr__', '__setitem__', '__sizeof__', '__str__', '__subclasshook__', 'append', 'clear', 'copy', 'count', 'extend', 'index', 'insert', 'pop', 'remove', 'reverse', 'sort']\n",
      "['__add__', '__class__', '__class_getitem__', '__contains__', '__delattr__', '__delitem__', '__dir__', '__doc__', '__eq__', '__format__', '__ge__', '__getattribute__', '__getitem__', '__getstate__', '__gt__', '__hash__', '__iadd__', '__imul__', '__init__', '__init_subclass__', '__iter__', '__le__', '__len__', '__lt__', '__mul__', '__ne__', '__new__', '__reduce__', '__reduce_ex__', '__repr__', '__reversed__', '__rmul__', '__setattr__', '__setitem__', '__sizeof__', '__str__', '__subclasshook__', 'append', 'clear', 'copy', 'count', 'extend', 'index', 'insert', 'pop', 'remove', 'reverse', 'sort']\n"
     ]
    }
   ],
   "source": [
    "# display attrib, methods of an object\n",
    "print(dir([1,2]))\n",
    "print(dir(list))"
   ]
  },
  {
   "cell_type": "code",
   "execution_count": 6,
   "id": "a6b2d892",
   "metadata": {},
   "outputs": [],
   "source": [
    "# Create an empty class Employee\n",
    "class Employee:\n",
    "    pass\n",
    "\n",
    "\n",
    "# Create an object emp of class Employee \n",
    "emp = Employee()"
   ]
  },
  {
   "cell_type": "code",
   "execution_count": 7,
   "id": "d71e3500",
   "metadata": {},
   "outputs": [
    {
     "name": "stdout",
     "output_type": "stream",
     "text": [
      "50000\n",
      "51500\n"
     ]
    }
   ],
   "source": [
    "class Employee:\n",
    "  def set_name(self, new_name):\n",
    "    self.name = new_name\n",
    "\n",
    "  def set_salary(self, new_salary):\n",
    "    self.salary = new_salary \n",
    "\n",
    "  # Add a give_raise() method with amount as an argument\n",
    "  def give_raise(self, amount):\n",
    "    self.salary = self.salary + amount\n",
    "\n",
    "# Create the emp object\n",
    "emp = Employee()\n",
    "emp.set_name('Korel Rossi')\n",
    "emp.set_salary(50000)\n",
    "\n",
    "# Print the salary\n",
    "print(emp.salary)\n",
    "\n",
    "# Give emp a raise of 1500\n",
    "emp.give_raise(1500)\n",
    "print(emp.salary)"
   ]
  },
  {
   "cell_type": "code",
   "execution_count": 8,
   "id": "c9f60b15",
   "metadata": {},
   "outputs": [
    {
     "name": "stdout",
     "output_type": "stream",
     "text": [
      "Invalid salary!\n",
      "Korel Rossi\n",
      "0\n"
     ]
    }
   ],
   "source": [
    "class Employee:\n",
    "  def __init__(self, name, salary=0):\n",
    "    self.name = name\n",
    "    # Check if salary is positive\n",
    "    if salary > 0:\n",
    "      self.salary = salary\n",
    "    else:\n",
    "      self.salary = 0\n",
    "      print(\"Invalid salary!\")\n",
    "\n",
    "  def give_raise(self, amount):\n",
    "    self.salary += amount\n",
    "\n",
    "  def monthly_salary(self):\n",
    "    return self.salary / 12\n",
    "      \n",
    "emp = Employee(\"Korel Rossi\", -1000)\n",
    "print(emp.name)\n",
    "print(emp.salary)"
   ]
  },
  {
   "cell_type": "code",
   "execution_count": 9,
   "id": "435c924f",
   "metadata": {},
   "outputs": [],
   "source": [
    "# core principles - encapsulation, inheritance, polymorphism"
   ]
  },
  {
   "cell_type": "code",
   "execution_count": 10,
   "id": "3a6b9f71",
   "metadata": {},
   "outputs": [
    {
     "name": "stdout",
     "output_type": "stream",
     "text": [
      "10\n",
      "10\n"
     ]
    }
   ],
   "source": [
    "# class level attributes  == static varaibles in java\n",
    "# Create a Player class\n",
    "class Player:\n",
    "  \n",
    "  # Create MAX_POSITION class attribute\n",
    "  MAX_POSITION = 10\n",
    "  \n",
    "  # Add a constructor, setting position to zero\n",
    "  def __init__(self, position=0):\n",
    "    self.position = 0\n",
    "\n",
    "# Create a player p and print its MAX_POSITION\n",
    "p = Player()\n",
    "print(p.MAX_POSITION)\n",
    "\n",
    "class Player1:\n",
    "  MAX_POSITION = 10\n",
    "  \n",
    "  # Define a constructor\n",
    "  def __init__(self, position):\n",
    "    \n",
    "    # Check if position is less than the class-level attribute value\n",
    "    if position <= Player.MAX_POSITION:\n",
    "      self.position = position\n",
    "    \n",
    "    # If not, set equal to the class-level attribute\n",
    "    else:\n",
    "      self.position = Player.MAX_POSITION\n",
    "\n",
    "# Create a Player object, p, and print its MAX_POSITITON\n",
    "p = Player1(6)\n",
    "print(p.MAX_POSITION)"
   ]
  },
  {
   "cell_type": "code",
   "execution_count": 12,
   "id": "a600bd8a",
   "metadata": {},
   "outputs": [],
   "source": [
    "#class methods or static methods\n",
    "class Person:\n",
    "  CURRENT_YEAR = 2024\n",
    "  def __init__(self, name, age):\n",
    "    self.name = name\n",
    "    self.age = age\n",
    "  \n",
    "  # Add a class method decorator\n",
    "  @classmethod\n",
    "  # Define the from_birth_year method\n",
    "  def from_birth_year(cls, name, birth_year):\n",
    "    # Create age\n",
    "    age = cls.CURRENT_YEAR - birth_year\n",
    "    # Return the name and age\n",
    "    return cls(name, age)\n",
    "\n",
    "bob = Person.from_birth_year(\"Bob\", 1990)"
   ]
  },
  {
   "cell_type": "code",
   "execution_count": 2,
   "id": "ab2e3954",
   "metadata": {},
   "outputs": [
    {
     "name": "stdout",
     "output_type": "stream",
     "text": [
      "80560.0\n"
     ]
    }
   ],
   "source": [
    "class Employee:\n",
    "  def __init__(self, name, salary=30000):\n",
    "    self.name = name\n",
    "    self.salary = salary\n",
    "\n",
    "  def give_raise(self, amount):\n",
    "    self.salary += amount\n",
    "\n",
    "class Manager(Employee):\n",
    "  def display(self):\n",
    "    print(\"Manager \", self.name)\n",
    "\n",
    "  def __init__(self, name, salary=50000, project=None):\n",
    "    Employee.__init__(self, name, salary)\n",
    "    self.project = project\n",
    "\n",
    "  # Add a give_raise method\n",
    "  def give_raise(self, amount, bonus=1.05):\n",
    "    new_amount = amount * bonus\n",
    "    Employee.give_raise(self, new_amount)\n",
    "    \n",
    "mngr = Manager(\"Ashta Dunbar\", 78500)\n",
    "mngr.give_raise(2000, bonus=1.03)\n",
    "print(mngr.salary)"
   ]
  },
  {
   "cell_type": "code",
   "execution_count": 3,
   "id": "5b7ebe1b",
   "metadata": {},
   "outputs": [],
   "source": [
    "#integrating with standard python\n",
    "#oprator overloading"
   ]
  },
  {
   "cell_type": "code",
   "execution_count": 4,
   "id": "451415a4",
   "metadata": {},
   "outputs": [],
   "source": [
    "#When comparing two objects of a custom class using ==, Python by default compares just the memory chunks that the objects point to, not the data contained in the objects. To override this behavior, the class can implement a special method, which accepts two arguments, the objects to be compared, and returns True or False"
   ]
  },
  {
   "cell_type": "code",
   "execution_count": 5,
   "id": "cb1d7fe9",
   "metadata": {},
   "outputs": [
    {
     "name": "stdout",
     "output_type": "stream",
     "text": [
      "True\n",
      "False\n"
     ]
    }
   ],
   "source": [
    "class BankAccount:\n",
    "  # Modify to initialize a number attribute\n",
    "  def __init__(self, number, balance=0):\n",
    "    self.balance = balance\n",
    "    self.number = number\n",
    "      \n",
    "  def withdraw(self, amount):\n",
    "    self.balance -= amount \n",
    "    \n",
    "  # Define __eq__ that returns True if the number attributes are equal \n",
    "  def __eq__(self, other):\n",
    "    return self.number == other.number   \n",
    "\n",
    "# Create accounts and compare them       \n",
    "acct1 = BankAccount(123, 1000)\n",
    "acct2 = BankAccount(123, 1000)\n",
    "acct3 = BankAccount(456, 1000)\n",
    "print(acct1 == acct2)\n",
    "print(acct1 == acct3)\n",
    "    "
   ]
  },
  {
   "cell_type": "code",
   "execution_count": 7,
   "id": "f00052d8",
   "metadata": {},
   "outputs": [
    {
     "name": "stdout",
     "output_type": "stream",
     "text": [
      "Employee('Amar Howard', 30000)\n",
      "Employee name: Amar Howard\n",
      "Employee salary: 30000\n",
      "Employee('Carolyn Ramirez', 35000)\n",
      "Employee name: Carolyn Ramirez\n",
      "Employee salary: 35000\n"
     ]
    }
   ],
   "source": [
    "#There are two special methods in Python that return a string representation of an object. __str__() is called when you use print() or str() on an object, and __repr__() is called when you use repr() on an object, print the object in the console without calling print(), or instead of __str__() if __str__() is not defined.\n",
    "\n",
    "#__str__() is supposed to provide a \"user-friendly\" output describing an object, and __repr__() should return the expression that, when evaluated, will return the same object, ensuring the reproducibility of your code.\n",
    "\n",
    "\n",
    "class Employee:\n",
    "    def __init__(self, name, salary=30000):\n",
    "        self.name, self.salary = name, salary\n",
    "      \n",
    "    # Add the __repr__() method  \n",
    "    def __repr__(self):\n",
    "        return f\"Employee('{self.name}', {self.salary})\"\n",
    "    \n",
    "    # Add the __str__() method\n",
    "    def __str__(self):\n",
    "      emp_str = f\"\"\"Employee name: {self.name}\n",
    "Employee salary: {self.salary}\"\"\"\n",
    "      return emp_str\n",
    "\n",
    "emp1 = Employee(\"Amar Howard\", 30000)\n",
    "print(repr(emp1))\n",
    "print(emp1)\n",
    "emp2 = Employee(\"Carolyn Ramirez\", 35000)\n",
    "print(repr(emp2))\n",
    "print(emp2)"
   ]
  },
  {
   "cell_type": "code",
   "execution_count": 8,
   "id": "da19c7f4",
   "metadata": {},
   "outputs": [],
   "source": [
    "#Exceptions"
   ]
  },
  {
   "cell_type": "code",
   "execution_count": 9,
   "id": "59d52eef",
   "metadata": {},
   "outputs": [
    {
     "name": "stdout",
     "output_type": "stream",
     "text": [
      "0.16666666666666666\n",
      "Cannot divide by zero!\n",
      "None\n",
      "Index out of range!\n",
      "None\n"
     ]
    }
   ],
   "source": [
    "# Modify the function to catch exceptions\n",
    "def invert_at_index(x, ind):\n",
    "  try:\n",
    "    return 1/x[ind]\n",
    "  except ZeroDivisionError:\n",
    "    print(\"Cannot divide by zero!\")\n",
    "  except IndexError:\n",
    "    print(\"Index out of range!\")\n",
    " \n",
    "a_list = [5,6,0,7]\n",
    "\n",
    "# Works okay\n",
    "print(invert_at_index(a_list, 1))\n",
    "\n",
    "# Potential ZeroDivisionError\n",
    "print(invert_at_index(a_list, 2))\n",
    "\n",
    "# Potential IndexError\n",
    "print(invert_at_index(a_list, 5))"
   ]
  },
  {
   "cell_type": "code",
   "execution_count": 10,
   "id": "580ea418",
   "metadata": {},
   "outputs": [],
   "source": [
    "class SalaryError(ValueError): \n",
    "  pass\n",
    "class BonusError(SalaryError): \n",
    "  pass\n",
    "\n",
    "class Employee:\n",
    "  MIN_SALARY = 30000\n",
    "  MAX_BONUS = 5000\n",
    "\n",
    "  def __init__(self, name, salary = 30000):\n",
    "    self.name = name    \n",
    "    if salary < Employee.MIN_SALARY:\n",
    "      raise SalaryError(\"Salary is too low!\")      \n",
    "    self.salary = salary\n",
    "    \n",
    "  # Raise exceptions  \n",
    "  def give_bonus(self, amount):\n",
    "    if amount > Employee.MAX_BONUS:\n",
    "      raise BonusError(\"The bonus amount is too high!\")  \n",
    "        \n",
    "    elif self.salary + amount <  Employee.MIN_SALARY:\n",
    "      raise SalaryError(\"The salary after bonus is too low!\")\n",
    "      \n",
    "    self.salary += amount"
   ]
  },
  {
   "cell_type": "markdown",
   "id": "b19d12f5",
   "metadata": {},
   "source": [
    "# intermediate OOP"
   ]
  },
  {
   "cell_type": "code",
   "execution_count": 1,
   "id": "9353fb65",
   "metadata": {},
   "outputs": [
    {
     "name": "stdout",
     "output_type": "stream",
     "text": [
      "Your computer now has 768 GB of storage.\n"
     ]
    }
   ],
   "source": [
    "class Computer:\n",
    "  def __init__(self, storage):\n",
    "    self.storage = storage\n",
    "\n",
    "  def add_external_drive(self, external_storage):\n",
    "    self.storage += external_storage\n",
    "    print(f\"Your computer now has {self.storage} GB of storage.\")\n",
    "\n",
    "  @classmethod\n",
    "  def power_on(cls):\n",
    "    print(\"Your computer is starting up!\")\n",
    "\n",
    "my_computer = Computer(512)\n",
    "\n",
    "# Add an external drive of 256 GB\n",
    "my_computer.add_external_drive(256)"
   ]
  },
  {
   "cell_type": "code",
   "execution_count": 2,
   "id": "b566130e",
   "metadata": {},
   "outputs": [
    {
     "name": "stdout",
     "output_type": "stream",
     "text": [
      "DataCamp is being installed from the Tablet App Store.\n"
     ]
    }
   ],
   "source": [
    "class Computer:\n",
    "  def __init__(self, software_version):\n",
    "    self.software_version = software_version\n",
    "\n",
    "  def install_app(self, app_name, app_store):\n",
    "    if app_store:\n",
    "      print(f\"Installing {app_name} from App Store.\")\n",
    "    else:\n",
    "      print(f\"Installing {app_name} from other provider.\")\n",
    "\n",
    "  def update_software(self, new_software_version):\n",
    "      self.software_version = new_software_version\n",
    "\n",
    "class Tablet(Computer):\n",
    "  # Override the install_app() method\n",
    "  def install_app(self, app_name):\n",
    "    print(f\"{app_name} is being installed from the Tablet App Store.\")\n",
    "    \n",
    "my_tablet = Tablet(\"1.1.1\")\n",
    "\n",
    "# Call the new install_app() method\n",
    "my_tablet.install_app(\"DataCamp\")\n"
   ]
  },
  {
   "cell_type": "code",
   "execution_count": 3,
   "id": "0110626d",
   "metadata": {},
   "outputs": [
    {
     "name": "stdout",
     "output_type": "stream",
     "text": [
      "True\n"
     ]
    }
   ],
   "source": [
    "class Computer:\n",
    "  def __init__(self, device_id, storage):\n",
    "    self.device_id = device_id\n",
    "    self.storage = storage\n",
    "  \n",
    "  # Overload the == operator using a magic method\n",
    "  def __eq__(self, other):\n",
    "    # Return a boolean based on the value of device_id\n",
    "    return self.device_id == other.device_id\n",
    "\n",
    "pre_upgrade_computer = Computer(\"Y391Hky6\", 256)\n",
    "post_upgrade_computer = Computer(\"Y391Hky6\", 1024)\n",
    "\n",
    "# Create two instances of Computer, compare using ==\n",
    "print(pre_upgrade_computer == post_upgrade_computer)"
   ]
  },
  {
   "cell_type": "code",
   "execution_count": 1,
   "id": "9983cdf0",
   "metadata": {},
   "outputs": [
    {
     "name": "stdout",
     "output_type": "stream",
     "text": [
      "192\n"
     ]
    }
   ],
   "source": [
    "class Storage:\n",
    "  def __init__(self, capacity):\n",
    "    self.capacity = capacity\n",
    "  \n",
    "  def __add__(self, other):  # Overload the + operator\n",
    "    # Create a Storage object with the sum of capacity\n",
    "    return Storage(self.capacity + other.capacity)\n",
    "\n",
    "onboard_storage = Storage(128)\n",
    "external_drive = Storage(64)\n",
    "\n",
    "# Add the two Storage objects, show the total capacity\n",
    "total_storage = onboard_storage + external_drive\n",
    "print(total_storage.capacity)"
   ]
  },
  {
   "cell_type": "code",
   "execution_count": 4,
   "id": "d4306aa6",
   "metadata": {},
   "outputs": [],
   "source": [
    "class Network:\n",
    "  def __init__(self, ip_addresses):\n",
    "    self.ip_addresses = ip_addresses\n",
    "\n",
    "class Computer:\n",
    "  def __init__(self, operating_system, ip_address):\n",
    "    self.operating_system = operating_system\n",
    "    self.ip_address = ip_address\n",
    "    \n",
    "  def __add__(self, other):\n",
    "    if self.operating_system == other.operating_system:\n",
    "    \treturn Network([self.ip_address, other.ip_address])\n",
    "    raise Exception(\"Incompatible operating systems.\")\n",
    "\n",
    "# Build a network using Morgan and Jenny's Computers\n",
    "morgans_computer = Computer(\"Windows\", \"182.112.81.991\")\n",
    "jennys_computer = Computer(\"Windows\", \"177.511.64.162\")\n",
    "network = morgans_computer + jennys_computer"
   ]
  },
  {
   "cell_type": "code",
   "execution_count": null,
   "id": "556ed25a",
   "metadata": {},
   "outputs": [
    {
     "name": "stdout",
     "output_type": "stream",
     "text": [
      "Using Macrosung's default internet browser.\n",
      "Calling Alex from 801-932-7629\n",
      "Playing Creeks and Highways using Dotify\n"
     ]
    }
   ],
   "source": [
    "#Multiple inheritance\n",
    "class Computer:\n",
    "  def __init__(self, brand):\n",
    "    self.brand = brand\n",
    "\n",
    "  def browse_internet(self):\n",
    "    print(f\"Using {self.brand}'s default internet browser.\")\n",
    "class Telephone:\n",
    "  def __init__(self, phone_number):\n",
    "    self.phone_number = phone_number\n",
    "\n",
    "  def make_call(self, recipient):\n",
    "    print(f\"Calling {recipient} from {self.phone_number}\")\n",
    "\n",
    "class Smartphone(Computer, Telephone):\n",
    "  def __init__(self, brand, phone_number, music_app):\n",
    "    Computer.__init__(self, brand)\n",
    "    Telephone.__init__(self, phone_number)\n",
    "    self.music_app = music_app\n",
    "    \n",
    "  def play_music(self, song):\n",
    "    print(f\"Playing {song} using {self.music_app}\")\n",
    "\n",
    "personal_phone = Smartphone(\"Macrosung\", \"801-932-7629\", \"Dotify\")\n",
    "\n",
    "# Browse the internet, make a call to Alex, and play music\n",
    "personal_phone.browse_internet()\n",
    "personal_phone.make_call(\"Alex\")\n",
    "personal_phone.play_music(\"Creeks and Highways\")\n"
   ]
  },
  {
   "cell_type": "code",
   "execution_count": 7,
   "id": "bdea3dd7",
   "metadata": {},
   "outputs": [
    {
     "name": "stdout",
     "output_type": "stream",
     "text": [
      "Using Macrosung's default internet browser.\n",
      "Sending Time for a new mission! to Chuck from 801-932-7629\n"
     ]
    }
   ],
   "source": [
    "#multi level inheritance\n",
    "class Computer:\n",
    "  def __init__(self, brand):\n",
    "    self.brand = brand\n",
    "\n",
    "  def browse_internet(self):\n",
    "    print(f\"Using {self.brand}'s default internet browser.\")\n",
    "\n",
    "class Tablet(Computer):\n",
    "  def __init__(self, brand, apps):\n",
    "    Computer.__init__(self, brand)\n",
    "    self.apps = apps\n",
    "\n",
    "  def uninstall_app(self, app):\n",
    "    if app in self.apps:\n",
    "      self.apps.remove(app)\n",
    "      \n",
    "# Create a Smartphone class that inherits from Tablet\n",
    "class Smartphone(Tablet):\n",
    "  def __init__(self, brand, apps, phone_number):\n",
    "    Tablet.__init__(self, brand, apps)\n",
    "    self.phone_number = phone_number\n",
    "  \n",
    "  # Create send_text to send a message to a recipient\n",
    "  def send_text(self, message, recipient):\n",
    "    print(f\"Sending {message} to {recipient} from {self.phone_number}\")\n",
    "\n",
    "# Create an instance of Smartphone, call methods in each class\n",
    "personal_phone = Smartphone(\"Macrosung\", [\"Weather\", \"Camera\"], \"801-932-7629\")    \n",
    "personal_phone.browse_internet()\n",
    "personal_phone.uninstall_app(\"Weather\")\n",
    "personal_phone.send_text(\"Time for a new mission!\", \"Chuck\")"
   ]
  },
  {
   "cell_type": "markdown",
   "id": "7e4a6246",
   "metadata": {},
   "source": [
    "# type hinting"
   ]
  },
  {
   "cell_type": "code",
   "execution_count": 1,
   "id": "75fbd545",
   "metadata": {},
   "outputs": [],
   "source": [
    "# Import Dict and List from typing\n",
    "from typing import Dict, List\n",
    "\n",
    "# Type hint the roster of codenames and number of missions\n",
    "roster: Dict[str, int] = {\n",
    "  \"Chuck\": 37,\n",
    "  \"Devin\": 2,\n",
    "  \"Steven\": 4\n",
    "}\n",
    "\n",
    "# Unpack the values and add type hints for the new list\n",
    "agents: List[str] = [\n",
    "  f\"Agent {agent}, {missions} missions\" \\\n",
    "  for agent, missions in roster.items()\n",
    "]"
   ]
  },
  {
   "cell_type": "code",
   "execution_count": 2,
   "id": "4a8ef86c",
   "metadata": {},
   "outputs": [
    {
     "name": "stdout",
     "output_type": "stream",
     "text": [
      "Charles Carmichael completed a mission in Burbank. This was mission #38\n",
      "Charles Carmichael completed a mission in Paris. This was mission #39\n",
      "Charles Carmichael completed a mission in Prague. This was mission #40\n"
     ]
    }
   ],
   "source": [
    "class Agent:\n",
    "  def __init__(self, codename: str, missions: int):\n",
    "    self.codename: str = codename\n",
    "    self.missions: int = missions\n",
    "\n",
    "  def add_mission(self, location: str) -> None:\n",
    "    self.missions += 1\n",
    "    print(f\"{self.codename} completed a mission in \" + \\\n",
    "          f\"{location}. This was mission #{self.missions}\")\n",
    "\n",
    "# Create an Agent object, add type hints\n",
    "chuck: Agent = Agent(\"Charles Carmichael\", 37)\n",
    "\n",
    "# Create a list of locations, add a mission for each\n",
    "locations: List[str] = [\"Burbank\", \"Paris\", \"Prague\"]\n",
    "for location in locations:\n",
    "  chuck.add_mission(location)\n"
   ]
  },
  {
   "cell_type": "markdown",
   "id": "f49e0d5f",
   "metadata": {},
   "source": [
    "# descriptors"
   ]
  },
  {
   "cell_type": "code",
   "execution_count": 1,
   "id": "4e5214b8",
   "metadata": {},
   "outputs": [
    {
     "name": "stdout",
     "output_type": "stream",
     "text": [
      "$100\n",
      "$150\n",
      "Deleting the 'balance' attribute\n"
     ]
    }
   ],
   "source": [
    "class BankAccount:\n",
    "  def __init__(self, balance):\n",
    "    self.balance = balance\n",
    "\n",
    "  @property\n",
    "  def balance(self):\n",
    "    return f\"${round(self._balance, 2)}\"\n",
    "\n",
    "  @balance.setter\n",
    "  def balance(self, new_balance):\n",
    "    if new_balance > 0:\n",
    "      self._balance = new_balance\n",
    "\n",
    "  @balance.deleter\n",
    "  def balance(self):\n",
    "    print(\"Deleting the 'balance' attribute\")\n",
    "    del self._balance\n",
    "\n",
    "checking_account = BankAccount(100)\n",
    "\n",
    "# Output the balance of the checking_account object\n",
    "print(checking_account.balance)\n",
    "\n",
    "# Set the balance to 150, output the new balance\n",
    "checking_account.balance = 150\n",
    "print(checking_account.balance)\n",
    "\n",
    "# Delete the balance attribute, attempt to print the balance\n",
    "del checking_account.balance\n"
   ]
  },
  {
   "cell_type": "code",
   "execution_count": 2,
   "id": "e11ab0a9",
   "metadata": {},
   "outputs": [],
   "source": [
    "class BankAccount:\n",
    "  def __init__(self, email):\n",
    "    self.email = email\n",
    "    \n",
    "  @property\n",
    "  def email(self):\n",
    "    return f\"Email for this account is: {self._email}\"\n",
    "  \n",
    "  @email.setter\n",
    "  def email(self, new_email_address):\n",
    "    if \"@\" in new_email_address:\n",
    "      self._email = new_email_address\n",
    "    else:\n",
    "      print(\"Please make sure to enter a valid email.\")\n",
    "  \n",
    "  # Define a method to be used when deleting the email attribute\n",
    "  @email.deleter\n",
    "  def email(self):\n",
    "    del self._email\n",
    "    print(\"Email deleted, make sure to add a new email!\")\n"
   ]
  },
  {
   "cell_type": "markdown",
   "id": "42fdf399",
   "metadata": {},
   "source": [
    "# Customizing attrib access"
   ]
  },
  {
   "cell_type": "code",
   "execution_count": 3,
   "id": "cf143ae3",
   "metadata": {},
   "outputs": [
    {
     "name": "stdout",
     "output_type": "stream",
     "text": [
      "routing_number is not defined in BankAccount object.\n",
      "    \tPlease define this attribute if needed.\n"
     ]
    }
   ],
   "source": [
    "class BankAccount:\n",
    "  def __init__(self, account_number):\n",
    "    self.account_number = account_number\n",
    "  \n",
    "  # Define a magic method to handle references to attribute\n",
    "  # not in an object's namespace\n",
    "  def __getattr__(self, name):\n",
    "    # Output a message to instruct further action\n",
    "    print(f\"\"\"{name} is not defined in BankAccount object.\n",
    "    \tPlease define this attribute if needed.\"\"\")\n",
    "    \n",
    "# Create a BankAccount object, reference routing_number\n",
    "checking_account = BankAccount(\"123456\")\n",
    "checking_account.routing_number\n"
   ]
  },
  {
   "cell_type": "code",
   "execution_count": 4,
   "id": "1f514c4b",
   "metadata": {},
   "outputs": [
    {
     "name": "stdout",
     "output_type": "stream",
     "text": [
      "account_number is an allowed attribute.\n",
      "balance is an allowed attribute.\n",
      "Invalid Attribute: beneficiary\n"
     ]
    }
   ],
   "source": [
    "class BankAccount:\n",
    "  def __init__(self, account_number):\n",
    "    self.account_number = account_number\n",
    "  \n",
    "  def __setattr__(self, name, value):\n",
    "    if name in [\"account_number\", \"balance\"]:\n",
    "      print(f\"{name} is an allowed attribute.\")\n",
    "      self.__dict__[name] = value\n",
    "    else:\n",
    "      print(f\"Invalid Attribute: {name}\")\n",
    "\n",
    "# Use savings_account and attempt to set attributes\n",
    "savings_account = BankAccount(\"12345678\")\n",
    "savings_account.balance = 100\n",
    "savings_account.beneficiary = \"Anna Wu\"\n"
   ]
  },
  {
   "cell_type": "markdown",
   "id": "e07ef456",
   "metadata": {},
   "source": [
    "# custon iter"
   ]
  },
  {
   "cell_type": "code",
   "execution_count": 8,
   "id": "e6860c82",
   "metadata": {},
   "outputs": [
    {
     "name": "stdout",
     "output_type": "stream",
     "text": [
      "Playing Ticking\n",
      "Ticking\n",
      "Playing Tiny Dancer\n",
      "Tiny Dancer\n",
      "Playing Yesterday\n",
      "Playing Mr. Blue Sky\n",
      "Playing Hooked on a Feeling\n",
      "Reached end of playlist!\n"
     ]
    }
   ],
   "source": [
    "import random\n",
    "\n",
    "class Playlist:\n",
    "  def __init__(self, songs, shuffle=False):\n",
    "    self.songs = songs\n",
    "    self.index = 0\n",
    "    \n",
    "    if shuffle:\n",
    "      random.shuffle(self.songs)\n",
    "    \n",
    "  def __iter__(self):\n",
    "    return self\n",
    "  \n",
    "  # Define a magic method to iterate through songs\n",
    "  def __next__(self):\n",
    "    if self.index >= len(self.songs):\n",
    "      raise StopIteration\n",
    "    \n",
    "    # Pull the next song, increment index, and return\n",
    "    song = self.songs[self.index]\n",
    "    print(f\"Playing {song}\")\n",
    "    self.index += 1\n",
    "    return song\n",
    "\n",
    "# Shuffle a Playlist, use for loop to iterate through\n",
    "favorite_songs = Playlist([\"Ticking\", \"Tiny Dancer\"], shuffle=True)\n",
    "for song in favorite_songs:\n",
    "  print(song)\n",
    "\n",
    "# Create a classic rock playlist using the songs list\n",
    "songs = [\"Hooked on a Feeling\", \"Yesterday\", \"Mr. Blue Sky\"]\n",
    "classic_rock_playlist = Playlist(songs, shuffle=True)\n",
    "\n",
    "while True:\n",
    "\ttry:\n",
    "\t\t# Play the next song in the playlist\n",
    "\t\tnext(classic_rock_playlist)\n",
    "\t\t\n",
    "\t# If there is a StopIteration error, print a message and\n",
    "    # stop the playlist\n",
    "\texcept StopIteration:\n",
    "\t\tprint(\"Reached end of playlist!\")\n",
    "\t\tbreak\n"
   ]
  },
  {
   "cell_type": "code",
   "execution_count": 9,
   "id": "f5ce3226",
   "metadata": {},
   "outputs": [
    {
     "name": "stdout",
     "output_type": "stream",
     "text": [
      "9\n",
      "1\n",
      "1\n",
      "7\n",
      "... is the winner!\n"
     ]
    }
   ],
   "source": [
    "class Lottery:\n",
    "  def __init__(self, number_digits):\n",
    "    self.number_digits = number_digits\n",
    "    self.counter = 0\n",
    "    \n",
    "  def __iter__(self):\n",
    "    return self\n",
    "  \n",
    "  # Check if the number of digits have been reached, or else\n",
    "  # pull another number\n",
    "  def __next__(self):\n",
    "    if self.counter < self.number_digits:\n",
    "      self.counter += 1\n",
    "      return random.randint(0, 9)\n",
    "    else:\n",
    "      raise StopIteration\n",
    "\n",
    "charity_lottery = Lottery(4)\n",
    "\n",
    "# Announce all four numbers\n",
    "while True:\n",
    "  try:\n",
    "    print(next(charity_lottery))\n",
    "  \n",
    "  # Handle the last element of the iterator, print a message\n",
    "  except StopIteration:\n",
    "    print(\"... is the winner!\")\n",
    "    break\n"
   ]
  },
  {
   "cell_type": "markdown",
   "id": "0c9410b8",
   "metadata": {},
   "source": [
    "# abstract base classes"
   ]
  },
  {
   "cell_type": "code",
   "execution_count": 11,
   "id": "254c49e0",
   "metadata": {},
   "outputs": [
    {
     "name": "stdout",
     "output_type": "stream",
     "text": [
      "2024 budget for Salaries is 10000\n",
      "2024 budget for Supplies is 500\n",
      "Welcome to the team, Christian!\n"
     ]
    }
   ],
   "source": [
    "# Import the ABC class and abstractmethod decorator from abc\n",
    "from abc import ABC, abstractmethod\n",
    "\n",
    "# Define an abstract base class called Company\n",
    "class Company(ABC):\n",
    "  # Create an abstract method called create_budget()\n",
    "  @abstractmethod\n",
    "  def create_budget(self):\n",
    "    pass\n",
    "  \n",
    "  # Create a concrete method with name hire_employee()\n",
    "  def hire_employee(self, name):\n",
    "    print(f\"Welcome to the team, {name}!\")\n",
    "\n",
    "# Create a class with the name \"Technology\"\n",
    "class Technology(Company):\n",
    "  def __init__(self, name):\n",
    "    self.name = name\n",
    "\n",
    "  # Define a create_budget() method\n",
    "  def create_budget(self, year, expenses):\n",
    "    for expense, amount in expenses.items():\n",
    "      print(f\"{year} budget for {expense} is {amount}\")\n",
    "  \n",
    "# Create an instance of the Technology class, call methods\n",
    "t = Technology(\"Tina's Tech Advisors\")\n",
    "t.create_budget(2024, {\"Salaries\": 10000, \"Supplies\": 500})\n",
    "t.hire_employee(\"Christian\")\n"
   ]
  },
  {
   "cell_type": "code",
   "execution_count": 12,
   "id": "01dafee7",
   "metadata": {},
   "outputs": [
    {
     "name": "stdout",
     "output_type": "stream",
     "text": [
      "Morgan's Manufacturing is paying $500.0 of taxes\n",
      "Morgan's Manufacturing is reporting $5000 of revenue\n"
     ]
    }
   ],
   "source": [
    "class Company(ABC):\n",
    "  @abstractmethod\n",
    "  def pay_taxes(self):\n",
    "    pass\n",
    "  \n",
    "  def report_revenue(self):\n",
    "    print(f\"{self.name} is reporting ${self.revenue} of revenue\")\n",
    "\n",
    "class Manufacturing(Company):\n",
    "  def __init__(self, name, revenue):\n",
    "    self.name = name\n",
    "    self.revenue = revenue\n",
    "\n",
    "  # Implement the pay_taxes() method\n",
    "  def pay_taxes(self, tax_rate):\n",
    "    tax_amount = self.revenue * tax_rate\n",
    "    print(f\"{self.name} is paying ${tax_amount} of taxes\")\n",
    "    \n",
    "# Create an instance of the Manufacturing class\n",
    "m = Manufacturing(\"Morgan's Manufacturing\", 5000)\n",
    "\n",
    "# Make call to the pay_taxes() method, observe report_revenue()\n",
    "m.pay_taxes(0.10)\n",
    "m.report_revenue()"
   ]
  },
  {
   "cell_type": "markdown",
   "id": "30e6bfe6",
   "metadata": {},
   "source": [
    "# informal interfaces"
   ]
  },
  {
   "cell_type": "code",
   "execution_count": 13,
   "id": "739b7921",
   "metadata": {},
   "outputs": [],
   "source": [
    "class Supplier:\n",
    "  def take_order(self, product_name, quantity):\n",
    "    pass\n",
    "\n",
    "  def make_delivery(self, order_id, location):\n",
    "    pass\n",
    "class YogurtSupplier:\n",
    "  def __init__(self):\n",
    "    self.orders = {}\n",
    "  \n",
    "  # Finish defining the take_order() method\n",
    "  def take_order(self, product_name, quantity):\n",
    "    self.orders[f\"{product_name}_{quantity}\"] = {\n",
    "      \"product_name\": product_name, \"quantity\": quantity\n",
    "    }\n",
    "  \n",
    "  # Implement a make_delivery() abstract method\n",
    "  def make_delivery(self, order_id, location):\n",
    "    print(f\"Delivering order: {order_id} to {location}\")\n",
    "    del self.orders[order_id]"
   ]
  },
  {
   "cell_type": "markdown",
   "id": "a3e8eb97",
   "metadata": {},
   "source": [
    "# formal interface"
   ]
  },
  {
   "cell_type": "code",
   "execution_count": 14,
   "id": "93becbce",
   "metadata": {},
   "outputs": [],
   "source": [
    "class Business(ABC):\n",
    "  @abstractmethod\n",
    "  def sell_product(self, product_name, price, quantity):\n",
    "    pass\n",
    "\n",
    "class Bakery(Business):\n",
    "  def __init__(self, business_name):\n",
    "    self.business_name = business_name\n",
    "  \n",
    "  # Provide a definition of the sell_product() method \n",
    "  def sell_product(self, product_name, price, quantity):\n",
    "    total_revenue = price * quantity\n",
    "    print(f\"\"\"{self.business_name} sold {quantity} \n",
    "          {product_name} for a total of ${total_revenue}\"\"\")\n",
    "    \n",
    "# Attempt to create a Bakery object\n",
    "blue_eyed_baker = Bakery(\"Blue Eyed Baker\")\n"
   ]
  },
  {
   "cell_type": "markdown",
   "id": "1a0fb9c4",
   "metadata": {},
   "source": [
    "# Factory methods"
   ]
  },
  {
   "cell_type": "code",
   "execution_count": 15,
   "id": "aead063f",
   "metadata": {},
   "outputs": [],
   "source": [
    "class Customer(ABC):\n",
    "  @abstractmethod\n",
    "  def make_payment(self, price):\n",
    "    pass\n",
    "\n",
    "class RewardsMember(Customer):\n",
    "  def make_payment(self, price):\n",
    "    print(f\"\"\"Total price for rewards member is \n",
    "          ${price * .90}, which is 10% off\"\"\")\n",
    "\n",
    "class NewCustomer(Customer):\n",
    "  def make_payment(self, price):\n",
    "    print(f\"\"\"Total price for new customer is ${price}\"\"\")\n",
    "    \n",
    "class Checkout:\n",
    "  # Create a _get_customer() factory method \n",
    "  def _get_customer(self, customer_type):\n",
    "    if customer_type == \"Rewards Member\":\n",
    "      return RewardsMember()\n",
    "    elif customer_type == \"New Customer\":\n",
    "      return NewCustomer()\n",
    "  \n",
    "  # Define the complete_transaction() method\n",
    "  def complete_transaction(self, customer_type, price):\n",
    "    customer = self._get_customer(customer_type)\n",
    "    customer.make_payment(price)\n"
   ]
  },
  {
   "cell_type": "code",
   "execution_count": 16,
   "id": "b9016dbc",
   "metadata": {},
   "outputs": [],
   "source": [
    "class LLM(ABC):\n",
    "  @abstractmethod\n",
    "  def complete_sentence(self, prompt):\n",
    "    pass\n",
    "\n",
    "class OpenAI(LLM):\n",
    "  def complete_sentence(self, prompt):\n",
    "    return prompt + \" ... OpenAI end of sentence.\"\n",
    "  \n",
    "class Anthropic(LLM):\n",
    "  def complete_sentence(self, prompt):\n",
    "    return prompt + \" ... Anthropic end of sentence.\"\n",
    "\n",
    "class ChatBot:\n",
    "  def _get_llm(self, provider):\n",
    "    if provider == \"OpenAI\":\n",
    "      return OpenAI()\n",
    "    elif provider == \"Anthropic\":\n",
    "      return Anthropic()\n",
    "      \n",
    "  def chat(self, prompt, provider):\n",
    "    # Return an llm object, then call complete_sentence()\n",
    "    llm = self._get_llm(provider)\n",
    "    return llm.complete_sentence(prompt)\n"
   ]
  },
  {
   "cell_type": "code",
   "execution_count": null,
   "id": "5d272b31",
   "metadata": {},
   "outputs": [],
   "source": []
  }
 ],
 "metadata": {
  "kernelspec": {
   "display_name": "py-dc",
   "language": "python",
   "name": "python3"
  },
  "language_info": {
   "codemirror_mode": {
    "name": "ipython",
    "version": 3
   },
   "file_extension": ".py",
   "mimetype": "text/x-python",
   "name": "python",
   "nbconvert_exporter": "python",
   "pygments_lexer": "ipython3",
   "version": "3.13.7"
  }
 },
 "nbformat": 4,
 "nbformat_minor": 5
}
