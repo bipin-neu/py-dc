{
 "cells": [
  {
   "cell_type": "code",
   "execution_count": 11,
   "id": "49173bc3",
   "metadata": {},
   "outputs": [],
   "source": [
    "import pandas as pd\n",
    "from sklearn.neighbors import KNeighborsClassifier \n",
    "import numpy as np\n",
    "import plotly.express as px\n",
    "import matplotlib.pyplot as plt"
   ]
  },
  {
   "cell_type": "code",
   "execution_count": 2,
   "id": "966eb95e",
   "metadata": {},
   "outputs": [
    {
     "data": {
      "text/html": [
       "<div>\n",
       "<style scoped>\n",
       "    .dataframe tbody tr th:only-of-type {\n",
       "        vertical-align: middle;\n",
       "    }\n",
       "\n",
       "    .dataframe tbody tr th {\n",
       "        vertical-align: top;\n",
       "    }\n",
       "\n",
       "    .dataframe thead th {\n",
       "        text-align: right;\n",
       "    }\n",
       "</style>\n",
       "<table border=\"1\" class=\"dataframe\">\n",
       "  <thead>\n",
       "    <tr style=\"text-align: right;\">\n",
       "      <th></th>\n",
       "      <th>account_length</th>\n",
       "      <th>area_code</th>\n",
       "      <th>international_plan</th>\n",
       "      <th>voice_mail_plan</th>\n",
       "      <th>number_vmail_messages</th>\n",
       "      <th>total_day_minutes</th>\n",
       "      <th>total_day_calls</th>\n",
       "      <th>total_day_charge</th>\n",
       "      <th>total_eve_minutes</th>\n",
       "      <th>total_eve_calls</th>\n",
       "      <th>total_eve_charge</th>\n",
       "      <th>total_night_minutes</th>\n",
       "      <th>total_night_calls</th>\n",
       "      <th>total_night_charge</th>\n",
       "      <th>total_intl_minutes</th>\n",
       "      <th>total_intl_calls</th>\n",
       "      <th>total_intl_charge</th>\n",
       "      <th>customer_service_calls</th>\n",
       "      <th>churn</th>\n",
       "    </tr>\n",
       "  </thead>\n",
       "  <tbody>\n",
       "    <tr>\n",
       "      <th>0</th>\n",
       "      <td>128</td>\n",
       "      <td>415</td>\n",
       "      <td>0</td>\n",
       "      <td>1</td>\n",
       "      <td>25</td>\n",
       "      <td>265.1</td>\n",
       "      <td>110</td>\n",
       "      <td>45.07</td>\n",
       "      <td>197.4</td>\n",
       "      <td>99</td>\n",
       "      <td>16.78</td>\n",
       "      <td>244.7</td>\n",
       "      <td>91</td>\n",
       "      <td>11.01</td>\n",
       "      <td>10.0</td>\n",
       "      <td>3</td>\n",
       "      <td>2.7</td>\n",
       "      <td>1</td>\n",
       "      <td>0</td>\n",
       "    </tr>\n",
       "    <tr>\n",
       "      <th>1</th>\n",
       "      <td>107</td>\n",
       "      <td>415</td>\n",
       "      <td>0</td>\n",
       "      <td>1</td>\n",
       "      <td>26</td>\n",
       "      <td>161.6</td>\n",
       "      <td>123</td>\n",
       "      <td>27.47</td>\n",
       "      <td>195.5</td>\n",
       "      <td>103</td>\n",
       "      <td>16.62</td>\n",
       "      <td>254.4</td>\n",
       "      <td>103</td>\n",
       "      <td>11.45</td>\n",
       "      <td>13.7</td>\n",
       "      <td>3</td>\n",
       "      <td>3.7</td>\n",
       "      <td>1</td>\n",
       "      <td>0</td>\n",
       "    </tr>\n",
       "  </tbody>\n",
       "</table>\n",
       "</div>"
      ],
      "text/plain": [
       "   account_length  area_code  international_plan  voice_mail_plan  \\\n",
       "0             128        415                   0                1   \n",
       "1             107        415                   0                1   \n",
       "\n",
       "   number_vmail_messages  total_day_minutes  total_day_calls  \\\n",
       "0                     25              265.1              110   \n",
       "1                     26              161.6              123   \n",
       "\n",
       "   total_day_charge  total_eve_minutes  total_eve_calls  total_eve_charge  \\\n",
       "0             45.07              197.4               99             16.78   \n",
       "1             27.47              195.5              103             16.62   \n",
       "\n",
       "   total_night_minutes  total_night_calls  total_night_charge  \\\n",
       "0                244.7                 91               11.01   \n",
       "1                254.4                103               11.45   \n",
       "\n",
       "   total_intl_minutes  total_intl_calls  total_intl_charge  \\\n",
       "0                10.0                 3                2.7   \n",
       "1                13.7                 3                3.7   \n",
       "\n",
       "   customer_service_calls  churn  \n",
       "0                       1      0  \n",
       "1                       1      0  "
      ]
     },
     "execution_count": 2,
     "metadata": {},
     "output_type": "execute_result"
    }
   ],
   "source": [
    "churn_df = pd.read_csv('./data/telecom_churn_clean.csv', index_col=0)\n",
    "churn_df.head(2)"
   ]
  },
  {
   "cell_type": "code",
   "execution_count": 6,
   "id": "81842211",
   "metadata": {},
   "outputs": [
    {
     "data": {
      "application/vnd.plotly.v1+json": {
       "config": {
        "plotlyServerURL": "https://plot.ly"
       },
       "data": [
        {
         "hovertemplate": "account_length=%{x}<br>customer_service_calls=%{y}<br>Churn Status=%{marker.color}<extra></extra>",
         "legendgroup": "",
         "marker": {
          "color": {
           "bdata": "AAAAAAAAAAAAAAEAAAAAAQAAAAAAAQAAAAAAAAAAAAAAAQAAAAAAAAABAAAAAAAAAQAAAAAAAQAAAQAAAAAAAAAAAAAAAQAAAAAAAAEBAAAAAAAAAQABAAABAAEAAAAAAAABAQAAAAAAAAAAAAAAAAAAAAEAAQAAAAAAAAAAAQEAAAAAAAAAAAAAAAAAAAAAAQAAAAAAAAAAAAAAAQAAAAAAAAAAAAAAAAAAAAAAAAAAAAAAAAEAAAAAAAAAAAAAAAAAAAABAQAAAAAAAAAAAAAAAAAAAAEAAAABAAAAAAAAAAAAAAABAAAAAAEAAAAAAAEAAAEAAAAAAAEAAAAAAAAAAQAAAAAAAAAAAAAAAAAAAAAAAAEAAAAAAAAAAAAAAAEAAAABAAAAAAAAAAEBAAAAAQEAAAEAAAAAAAAAAAEAAAAAAAAAAAAAAAEBAAAAAAAAAAEAAAAAAAAAAAEAAAAAAQAAAAAAAQAAAAABAAAAAAAAAQAAAAAAAQAAAAAAAAAAAAAAAAAAAAEAAAEAAQAAAAAAAAABAAAAAAAAAAEBAAAAAAAAAAAAAAAAAAEAAAAAAAABAAAAAAAAAAAAAAAAAAAAAAEBAAAAAAAAAAAAAQEAAAAAAAABAAAAAAAAAAAAAAAAAAAAAAABAQAAAAAAAQAAAAEAAAAAAQABAAAAAAEAAAAAAAABAAAAAAAAAAAAAAAAAAAAAAAAAAABAAAAAQEAAAEAAQAAAAAAAQAAAAAAAAAAAAABAAAAAAEAAAAAAAEAAAABAAAAAQAAAAAAAAAAAAAAAAEAAAABAAAAAAAAAAEAAAAAAAEAAAAAAAABAAABAAAAAAAAAAAAAAAAAAAAAAAAAAEAAAAAAAEAAAAAAQAAAAAAAAAAAAAAAAAAAAAAAAEAAAAAAAAAAAAAAAAAAAAAAAAAAAAAAAAAAAAAAAAAAAAAAAEAAAAAAAEAAAAAAAAAAAEAAAAAAAEBAAAAAAAAAAAAAAAAAAAAAAAAAAAAAAAAAAAAAAEAAAAAAQABAAAAAAAAAAAAAAAAAAEAAAAAAQAAAAABAAAAAAAAAAAAAAAAAAAAAAABAAAAAAAAAAAAAAAAAAABAAEAAAAAAAAAAAAAAAAAAQAAAAABAAAAAAAAAAEAAAAAAAAAAAAAAAEAAAAAAAAAAAAAAAAAAAAAAAAAAAEAAQAAAAAAAAEAAAEBAAAAAAABAAABAAAAAAAAAAAAAAAAAAAAAAAAAQAAAAAAAAAAAAABAAEAAAAAAAAAAAAAAAAAAAAAAAAAAQABAAAAAAAAAQABAQAAAAAAAAEAAQAAAAAAAAAAAAAAAAEAAAAAAAAAAAAAAAAAAAAAAAEAAAAAAAAAAAEAAAEAAAAAAAAAAQAAAAAAAAAAAAAAAAAAAAAAAAAAAAAAAAAAAAAAAAAAAAAAAAAAAQEAAAAAAAAAAAAAAAAAAAAAAAAAAAAAAAEAAAEAAAAAAAAAAAABAAAAAAABAQAAAAAAAAAAAAABAAABAAAAAAABAAAAAAAAAAEAAAAAAQAAAAAAAAAAAAAAAAAAAAAAAAAAAAAAAAAAAQAAAAAAAAAAAAEBAAAAAAAAAAAAAAEAAAAAAAAAAAAAAAAAAAAAAAAAAAAAAAAAAAEBAAAAAAAAAAEAAAAAAAAAAAAAAAAAAQAAAAAAAAAAAQAAAAAAAQAAAAEAAAEAAQABAAAAAQAAAAAAAAAAAAAAAAAAAQAAAQAAAAEAAAABAAAAAAAAAAAAAAABAAABAAEAAAAAAAABAAABAAEAAAAAAQEBAAAAAQAAAAAAAAAAAQAAAAABAAAAAAAAAAABAAABAAAAAAAAAAAAAAAAAAAAAQAAAAAAAAAAAAAAAAEAAQAAAAAAAAAAAAAAAAEAAAAAAAAAAAAAAAAAAAEAAAAAAAABAAAAAAAAAAAAAAABAAAAAAAAAAAAAAAAAQAAAAABAAAAAAAAAAAAAAABAAAAAAAAAAABAAAAAAAAAAAAAAAAAAAAAAAAAAAAAAEAAAAAAAAAAAAAAAEAAQEBAQEAAAEBAAAAAAAAAAAAAAAAAQAAAAAAAAAAAAAAAAAAAAAAAAAAAAAAAAAAAAAAAAAAAAEAAAAAAAAAAQAAAAAAAAABAAAAAAAAAAAAAAAAAQAAAAABAAAAAAAAAAAAAAAAAAAAAQAAAQAAAAAAAAABAAAAAAEAAQAAAAAAAAAAAQAAAAAAAAAAAAAAAQAAAAABAAAAAAAAAAAAAAABAQABAAAAAAAAAQEAAQAAAQAAAAAAAQAAAAABAAAAAAAAAAAAAAAAAQAAAAABAAABAAAAAAAAAQAAAAEAAQABAAAAAAAAAAAAAQEAAAEAAAAAAAAAAAEAAAAAAAABAAAAAAAAAAAAAQAAAAAAAAAAAAEAAAAAAAAAAAAAAAAAAAAAAAAAAAAAAAAAAAAAAAAAAAEAAAAAAQABAQAAAAEBAQAAAAAAAQAAAAEBAAABAQAAAQAAAAAAAAAAAQABAQAAAAAAAQABAAABAQAAAAABAAAAAAEBAAAAAAAAAAEAAAAAAAABAAAAAAAAAAAAAAAAAAEBAQAAAAEAAAAAAAAAAAAAAQAAAAEAAAAAAAAAAAAAAQAAAAAAAAAAAQAAAQEAAAAAAAEAAAAAAAAAAAAAAAAAAAAAAQAAAAAAAAAAAAAAAAAAAAAAAAAAAAAAAAAAAQEAAAABAAAAAAEAAAAAAAAAAAAAAAAAAAAAAAAAAAEAAAAAAAAAAAABAAAAAAAAAQAAAAAAAAAAAAAAAAAAAAAAAAAAAAABAAAAAQAAAQEAAAAAAQEAAQAAAQEAAAAAAAAAAAAAAAAAAAAAAAAAAQAAAQAAAAABAAABAAAAAAEAAAEAAQAAAAEAAAAAAAAAAAEAAAAAAAAAAAAAAAABAQAAAAAAAAAAAAAAAAAAAAEAAAAAAAABAAABAAEAAAEAAAAAAAAAAAAAAAAAAAAAAAABAQAAAAAAAAAAAAAAAAAAAAAAAAABAAAAAAAAAAABAAAAAAAAAAAAAAAAAAAAAQAAAAAAAAEAAAAAAAAAAAAAAAAAAAAAAAAAAAAAAAAAAAAAAAAAAAABAQABAAAAAAAAAAEAAAAAAAAAAQAAAAEAAAAAAAABAAEBAAAAAAAAAAAAAAABAAAAAAAAAQEAAAEAAAAAAAEBAQEAAAAAAAAAAQAAAAEBAAABAAEAAAAAAQAAAQAAAAEBAQAAAAAAAAEAAAABAAAAAAEAAAAAAAAAAAAAAAAAAQAAAAAAAAAAAAAAAAAAAAABAAAAAQAAAAAAAAEAAAAAAAAAAAABAAAAAQAAAAAAAAAAAAAAAAAAAAAAAAAAAAEAAAAAAAAAAAAAAQAAAAAAAAEAAQEAAAEAAAEAAAAAAAAAAAAAAAAAAAAAAAAAAAAAAAABAAAAAAEBAAEAAAAAAAEAAAAAAAAAAAABAAABAQAAAAEAAAEAAAABAAAAAAAAAAEAAAAAAQAAAAABAAAAAAEAAAAAAAAAAAAAAAAAAAABAAEAAAAAAAAAAAAAAAABAAEAAQABAAAAAAABAQAAAAEAAAABAAAAAAABAAAAAAAAAQABAAAAAQAAAAAAAAABAAEAAAAAAAAAAAAAAAAAAQAAAAAAAAEBAAABAAAAAAAAAAAAAQABAAAAAAAAAAAAAAAAAQAAAAAAAAAAAAAAAQEBAAAAAAAAAAAAAQEBAAAAAAAAAAEAAAAAAAEAAAAAAAAAAAAAAAAAAAABAAABAAAAAAEAAAEBAAAAAAAAAAAAAAEAAAAAAAAAAAAAAAAAAAAAAAAAAAAAAAAAAQAAAQAAAAAAAQAAAAAAAAABAAEAAAAAAQAAAAAAAAAAAAABAQAAAAAAAAEAAAAAAAAAAAAAAAAAAAABAQEAAAAAAAAAAQABAAAAAAABAAAAAAEAAAEAAQAAAAAAAQABAQAAAQAAAAEAAAEBAAAAAAAAAQEAAAAAAAABAAEAAAAAAQAAAAAAAAABAAAAAAAAAAAAAAAAAAAAAAEAAAABAAAAAAAAAAAAAAABAAAAAAAAAAAAAQAAAAABAAAAAAAAAAAAAAAAAAEAAAAAAAEAAQAAAAAAAAEAAAAAAAAAAAAAAAAAAQAAAAAAAAAAAAAAAAAAAAAAAAEBAAAAAAAAAAAAAAABAAEAAAAAAQAAAAAAAAAAAAAAAQAAAAEAAAEAAAAAAAEAAAAAAAAAAAEAAQEAAAAAAAAAAAAAAAAAAAAAAAAAAQEBAAAAAAAAAAAAAAAAAAEAAAABAAAAAAAAAAAAAAAAAAABAAEAAAAAAAAAAAAAAAEAAAEAAQAAAQEAAAAAAAAAAQAAAAAAAAAAAAEAAAEAAAABAAAAAAAAAAEAAAAAAAABAAAAAQAAAAAAAAAAAAEAAAEAAAAAAAAAAAAAAAAAAAABAAEBAAAAAAAAAAAA",
           "dtype": "i1"
          },
          "coloraxis": "coloraxis",
          "symbol": "circle"
         },
         "mode": "markers",
         "name": "",
         "showlegend": false,
         "type": "scattergl",
         "x": {
          "bdata": "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",
          "dtype": "i2"
         },
         "xaxis": "x",
         "y": {
          "bdata": "AQEAAgMAAwABAAQAAQMEBAEDAQEABQACAAMAAwABAgEDAQADAAEDAQMAAgMBAgMCBQEDAQICBQEBAwMBAQICAwICAAABBAMAAwEAAQAEAgEBAwMBAgAEAQIBAQABAwMBAAQBAgQAAAEBBAIBAQMBAgQBAQABAQICAQADAQIBBAQCAwMBAQQBAwUDAQIBAAMBAgMBAQECAQEBAQUAAAABAQAAAwEBAgEBAQABAgMBAAIAAgMDBAUCAgMBAQIBAQABAgABAQACBAADAgMCAQECAwMDAQABAQIDAAMBAAMBAQICAQMCBAAAAQMAAQUCAwABAAIBAwAAAAAEAgQEAwAABAEBAQEBAQEBAgEEAwACAAEDAwEDAAICAwICAQEDAgICAAEAAAEFAQECAAQBAgEAAQECAQQAAwEBAAAAAQIDAwIAAQABAwABAQAAAwEHAAEBAAICAAEBAAIBAwEBAwQEBAECAgEBAgEBAQABAgABBAEBAAECAAICAAIBAQIDAQABAgQDAQEDAQAFAgAAAAEBAQEAAQEEAAAEAQICAgADAAIBAAECAgEAAwEBAQEDAgIBAQIAAQEAAQIBAAEBAgADAgEEAAAAAQEBAgIDAAEDAQAAAwMBAwIBAwEEAAMBAwECAQEAAgMAAAABAQABAgIBAgICBAEDAQEAAAECAwEFAQMCAAABAgIBAwEEBwIBAgAAAgACAgIBBAEBAAACAQAJAwMBAgUABAQCAwICAgABAgIBAAEBAgMCAgICAQIBAwIBAwIBAQEDAQEAAQEBBQECAQICAgEDAgEAAgABAwECAAEAAwMBBAECAQIDAQABAQIDAAMABAEAAAADAgIFAQABAAIBAAABAwABAAMCAQMDAQUAAgABAQEAAwECAgABAAECAAMBAQABAAEBAAMBAwEDAQMBAgEEAwYBAQAAAAAAAQEDAQEDAgIDBAICAgECAQECAAYBAwECAQECAAMCAgIBAwUCAQEBAAUBAQEBAQEBAwADAgECAgECAgECAQAAAgACAwEBBQABAQEAAgYCAgEBAwEDAAICAwACAQIBAQEBAgEBAQABAAAAAQABAQABAAECAQIBAQIAAQECAQEAAgIDAgIAAwEAAAEBAwUCAQEBAQEAAgADAwMCAgEBAQMCAQMBAwQAAQACAAQBAQUBAQEBBAEDAQECAgABAgAAAQECBAICAAEBAAIHAAEEAAEGAAAFAgEAAgIAAQEBAQEBAQEAAAIBAAEBAQEEAAIBAgACAAEEAgIBAQEBBAMCAgACAAMCAwADAQEAAgABAAEDAQAGAAAEBAADAQEBAQEBAQMBAAIBAAMBAAIAAAIBAgABAgIBAgMAAgIBAAABAgEBAgEAAgEBAgEBAAIBAQICAgMABQIEAAADBAQAAAABAgABAgEBAAEAAQEBAQECAAABAAEBAQEBAgABBAABAAEDAwMCAwEAAgACAQIAAQEBAQMBAgQABAIDAwMAAgAAAQEBAwEDAwEFAQIBAgIAAgIBAQEFAQIBAQECAQEGAAIAAQADAgUAAQEBBAEBAQAAAwABAgADAQEBAAECAQEABAMDAQABAwICAwACAQAAAgQFAQEBBAIBAQIAAQEBAAIDAAEBAQECAQMEAwECAgMBAQECAAECAQAAAAIEAAMDAgQFAwEBAgUBAAIBAwIEAgACAQICAwMEAQEBAAEABAABBAYAAgEBAAIAAAQCBQQBAgEAAAEAAQEAAgIBAgMDAQEDAgMDAAIBAQECAwICAgIDAgECAAIGAgIBAgIDAwEBAAMAAgQBAQIAAAQBAAECAAEAAAIDAQMAAQIBAwMBAQMBBAEBAQEEAAAEAQEDAQECAgMAAAEEAQEDAwABAAQBAQQDAAEAAwQBBgEAAQEBAAEAAwECAgMAAQEAAgICAgEBAQABAgABBAIAAQEBAQMBAgAEBAACAgICAQEBAQADAAIBAwEAAAMAAQABAQADAAECAQACAwEDAQAAAgIBAQEEAgADAQADAQAIAgIBAgEDAwEBAQIBAgEBAgICAwECAgECAAADAQQAAgECAAQFAAMDAAEBAgEBAQECAAIAAQIAAgICAAIAAQEAAgABAAIBAQEBAQMBAgIAAQEAAQIBAQEBAQIDAQMDAAICAQAAAwIDAQADAgAEAAIDAQIAAAEEAAABAQIAAQIBAgICAAACBAECBgIDAQEDAQMAAQAAAQEBAQEDAQICAAMBBQECAwIAAQEBAgIFAQACAQEAAgEBAgIDAgMDAQECAQEHAgEBAAQCAgQCAQMBBQQDAgAEBQMAAQECAgEBAQIBAgEBBAICAAMAAQABAAACAAMBAQAAAQEBAwEBAAICAQECAAACAQABAAQCAgICAAIBAQEAAAMCAQEBAQEAAgABAQACAQABAQEBAAEBAAIFAQADAAMDAQADAQAAAAICAwABAQICAQMDAgIBAQcBAgAEAAEBAQICAAIEAgECAgIBBQEAAQIBAQAAAAAAAQAHAgADAQAAAgECAQEBAQIEAAIBAgEDAAIBBAMAAgMAAQECAQEBAQEEAgECAgAABAgCAwEBAgEGAQMEAQECAgMBAAEBAQEAAwIBAQIBAQIAAQEBAAEABAEBAAAAAwEDAgADAwABAQEDAQEFAQIFBQIBAgMBBAEAAwMCAAABAgIBAgAAAQEDAgADAQMBBAEDAwMAAAMBAgMAAwMBAQIBAQECAgEBAQABBQICAQMDAQEBAgIBAwAEAQMDAgEBAgABAQMCAAMAAAECAgEABAEAAQIDAQICBAABAgABAAMCAQEEAgECAgIAAAAAAgEDAAACAgIAAAIAAwIABAIDAAEEAAABAQABAwEBAwICAQEDAgEAAQADAwQCAQMBAQADAQACAgECAgIDAgABAQABAQMCAgEBAAABAAABAwICAAICAQADAQEDBAIDAQECAgIBAAIAAgECAQQCAwEAAQMABAEAAQACAgUDAwIABgIBAQICAgIDAAECAQIEAQIAAQICAQIBAAUDAQEBAQEAAQEBAwEEAQEDAAECAAADAQICBAADAAEBAgADBQIBAAMAAQMAAgEAAAECAQAAAgICAAMBAwEAAwEAAwMCAQMAAwEBBQEEAgAGAQEBAQECAwMBBAIBAAACAQEAAgECAAACAAECAgIBAAECAwMAAAEBAwEEBAECAAACAQEDAgkBAAIAAAIGAQAAAgEAAwQCAQEBAAEFAgEBAgEBAgABAQAABQICAAICBAIAAQIBAgYCAAEEAgABAQQCAQABAwAFAQIBAwMBAgEBAQEEAQEEAgACAgEDAAEBAwMAAQAAAQEBAQMDAQICAAEAAAAEAQIABQEBAQIBAQEAAgIBAwEAAgICAwACAAUCAAICAQECAwEAAAIDAgIBAgIBAgADAQMBAgEBAwACAgECAQEBBgICAgAAAQEBAQEBAAICAwMBAgEBAQECAgABAAQCAQMDAQMCAQMBBQABAQECAQABAQICAwIBAwQBAQACAQABAAIBAwEEBAIAAgIBBAECAgEAAgECAwIBAwEBAwACBQABAQIDAAEBAQIDAAIEAAICAQMBAwACAgIAAwAAAAQCAQIAAAECAwIBAQADAgEDAAIDAAEAAwMBAQIEAAIBAAABAAIBAQIAAQEBAQICAgACAAICAQAFAgEAAwEBAAABAgIBAgMAAgEBAAMCAQACAgABAAEDAwIBAQMBAQIBBAIAAQACAQADAgMBAwUGAQACAAABAgABAAIBAwAEAgMBAQICAQEAAgIDAQIBAQEABAAAAgACAgUEAQEBAwIBAwIBAgIAAAABAQABAAABAgIBAgEBAAEBAAIEAAMAAgIBAAECAgICAAMDAgABAQECAQEBAQIBAQAAAQADAAEAAgEBBAIFAgMBAAICAgEAAQQEAgAEAAECAgIBAgQBAgMBAgEBAgAAAAEAAQQBAAAAAQEBAgACBQcDAQEBBgEFBgEAAwEBAAECAQACAAEAAQABBwMBAgEBAwIDAwIBAQEBAQIBAAABAwEDAQECAQMABQIBAQIAAgEFAgMBAAAEAQIGBAEAAwMBAQEEAwACAQAAAAEBAgECAAMEAQIAAAICAQMCAwIAAQQDAwACAQMBAAIBAgIAAQUABgMAAgMDAAEDAQEAAgEBAwIAAAABAwIAAAEBAgABAQcCAAQBAgEAAgEDAAMEAAQDAgMFAgIDAQEDAgIFAQIDBQMBBAABAgABAgICAwQDAQACAAIBAQIBAQQAAQMDAgAAAQABAQUDAgAAAwEBAAYAAgEAAgEAAgEBAQMBAQEBAAIDAQIAAQMBAAECAgABAwIDAgIABQEBAQEAAQMAAQMCAQEABQEDAAQAAAACAAEBAgMCAgEBAQECAAMDAQIBAgICAwEBAQICAgQBAwMBAAAEAQEAAQEAAQEBAQECAQABAgQCAQQBBAICAgEBAAABAgMEAwQFAQIBAgIDAgIA",
          "dtype": "i1"
         },
         "yaxis": "y"
        }
       ],
       "layout": {
        "coloraxis": {
         "colorbar": {
          "title": {
           "text": "Churn Status"
          }
         },
         "colorscale": [
          [
           0,
           "#0d0887"
          ],
          [
           0.1111111111111111,
           "#46039f"
          ],
          [
           0.2222222222222222,
           "#7201a8"
          ],
          [
           0.3333333333333333,
           "#9c179e"
          ],
          [
           0.4444444444444444,
           "#bd3786"
          ],
          [
           0.5555555555555556,
           "#d8576b"
          ],
          [
           0.6666666666666666,
           "#ed7953"
          ],
          [
           0.7777777777777778,
           "#fb9f3a"
          ],
          [
           0.8888888888888888,
           "#fdca26"
          ],
          [
           1,
           "#f0f921"
          ]
         ]
        },
        "legend": {
         "tracegroupgap": 0
        },
        "template": {
         "data": {
          "bar": [
           {
            "error_x": {
             "color": "#2a3f5f"
            },
            "error_y": {
             "color": "#2a3f5f"
            },
            "marker": {
             "line": {
              "color": "#E5ECF6",
              "width": 0.5
             },
             "pattern": {
              "fillmode": "overlay",
              "size": 10,
              "solidity": 0.2
             }
            },
            "type": "bar"
           }
          ],
          "barpolar": [
           {
            "marker": {
             "line": {
              "color": "#E5ECF6",
              "width": 0.5
             },
             "pattern": {
              "fillmode": "overlay",
              "size": 10,
              "solidity": 0.2
             }
            },
            "type": "barpolar"
           }
          ],
          "carpet": [
           {
            "aaxis": {
             "endlinecolor": "#2a3f5f",
             "gridcolor": "white",
             "linecolor": "white",
             "minorgridcolor": "white",
             "startlinecolor": "#2a3f5f"
            },
            "baxis": {
             "endlinecolor": "#2a3f5f",
             "gridcolor": "white",
             "linecolor": "white",
             "minorgridcolor": "white",
             "startlinecolor": "#2a3f5f"
            },
            "type": "carpet"
           }
          ],
          "choropleth": [
           {
            "colorbar": {
             "outlinewidth": 0,
             "ticks": ""
            },
            "type": "choropleth"
           }
          ],
          "contour": [
           {
            "colorbar": {
             "outlinewidth": 0,
             "ticks": ""
            },
            "colorscale": [
             [
              0,
              "#0d0887"
             ],
             [
              0.1111111111111111,
              "#46039f"
             ],
             [
              0.2222222222222222,
              "#7201a8"
             ],
             [
              0.3333333333333333,
              "#9c179e"
             ],
             [
              0.4444444444444444,
              "#bd3786"
             ],
             [
              0.5555555555555556,
              "#d8576b"
             ],
             [
              0.6666666666666666,
              "#ed7953"
             ],
             [
              0.7777777777777778,
              "#fb9f3a"
             ],
             [
              0.8888888888888888,
              "#fdca26"
             ],
             [
              1,
              "#f0f921"
             ]
            ],
            "type": "contour"
           }
          ],
          "contourcarpet": [
           {
            "colorbar": {
             "outlinewidth": 0,
             "ticks": ""
            },
            "type": "contourcarpet"
           }
          ],
          "heatmap": [
           {
            "colorbar": {
             "outlinewidth": 0,
             "ticks": ""
            },
            "colorscale": [
             [
              0,
              "#0d0887"
             ],
             [
              0.1111111111111111,
              "#46039f"
             ],
             [
              0.2222222222222222,
              "#7201a8"
             ],
             [
              0.3333333333333333,
              "#9c179e"
             ],
             [
              0.4444444444444444,
              "#bd3786"
             ],
             [
              0.5555555555555556,
              "#d8576b"
             ],
             [
              0.6666666666666666,
              "#ed7953"
             ],
             [
              0.7777777777777778,
              "#fb9f3a"
             ],
             [
              0.8888888888888888,
              "#fdca26"
             ],
             [
              1,
              "#f0f921"
             ]
            ],
            "type": "heatmap"
           }
          ],
          "histogram": [
           {
            "marker": {
             "pattern": {
              "fillmode": "overlay",
              "size": 10,
              "solidity": 0.2
             }
            },
            "type": "histogram"
           }
          ],
          "histogram2d": [
           {
            "colorbar": {
             "outlinewidth": 0,
             "ticks": ""
            },
            "colorscale": [
             [
              0,
              "#0d0887"
             ],
             [
              0.1111111111111111,
              "#46039f"
             ],
             [
              0.2222222222222222,
              "#7201a8"
             ],
             [
              0.3333333333333333,
              "#9c179e"
             ],
             [
              0.4444444444444444,
              "#bd3786"
             ],
             [
              0.5555555555555556,
              "#d8576b"
             ],
             [
              0.6666666666666666,
              "#ed7953"
             ],
             [
              0.7777777777777778,
              "#fb9f3a"
             ],
             [
              0.8888888888888888,
              "#fdca26"
             ],
             [
              1,
              "#f0f921"
             ]
            ],
            "type": "histogram2d"
           }
          ],
          "histogram2dcontour": [
           {
            "colorbar": {
             "outlinewidth": 0,
             "ticks": ""
            },
            "colorscale": [
             [
              0,
              "#0d0887"
             ],
             [
              0.1111111111111111,
              "#46039f"
             ],
             [
              0.2222222222222222,
              "#7201a8"
             ],
             [
              0.3333333333333333,
              "#9c179e"
             ],
             [
              0.4444444444444444,
              "#bd3786"
             ],
             [
              0.5555555555555556,
              "#d8576b"
             ],
             [
              0.6666666666666666,
              "#ed7953"
             ],
             [
              0.7777777777777778,
              "#fb9f3a"
             ],
             [
              0.8888888888888888,
              "#fdca26"
             ],
             [
              1,
              "#f0f921"
             ]
            ],
            "type": "histogram2dcontour"
           }
          ],
          "mesh3d": [
           {
            "colorbar": {
             "outlinewidth": 0,
             "ticks": ""
            },
            "type": "mesh3d"
           }
          ],
          "parcoords": [
           {
            "line": {
             "colorbar": {
              "outlinewidth": 0,
              "ticks": ""
             }
            },
            "type": "parcoords"
           }
          ],
          "pie": [
           {
            "automargin": true,
            "type": "pie"
           }
          ],
          "scatter": [
           {
            "fillpattern": {
             "fillmode": "overlay",
             "size": 10,
             "solidity": 0.2
            },
            "type": "scatter"
           }
          ],
          "scatter3d": [
           {
            "line": {
             "colorbar": {
              "outlinewidth": 0,
              "ticks": ""
             }
            },
            "marker": {
             "colorbar": {
              "outlinewidth": 0,
              "ticks": ""
             }
            },
            "type": "scatter3d"
           }
          ],
          "scattercarpet": [
           {
            "marker": {
             "colorbar": {
              "outlinewidth": 0,
              "ticks": ""
             }
            },
            "type": "scattercarpet"
           }
          ],
          "scattergeo": [
           {
            "marker": {
             "colorbar": {
              "outlinewidth": 0,
              "ticks": ""
             }
            },
            "type": "scattergeo"
           }
          ],
          "scattergl": [
           {
            "marker": {
             "colorbar": {
              "outlinewidth": 0,
              "ticks": ""
             }
            },
            "type": "scattergl"
           }
          ],
          "scattermap": [
           {
            "marker": {
             "colorbar": {
              "outlinewidth": 0,
              "ticks": ""
             }
            },
            "type": "scattermap"
           }
          ],
          "scattermapbox": [
           {
            "marker": {
             "colorbar": {
              "outlinewidth": 0,
              "ticks": ""
             }
            },
            "type": "scattermapbox"
           }
          ],
          "scatterpolar": [
           {
            "marker": {
             "colorbar": {
              "outlinewidth": 0,
              "ticks": ""
             }
            },
            "type": "scatterpolar"
           }
          ],
          "scatterpolargl": [
           {
            "marker": {
             "colorbar": {
              "outlinewidth": 0,
              "ticks": ""
             }
            },
            "type": "scatterpolargl"
           }
          ],
          "scatterternary": [
           {
            "marker": {
             "colorbar": {
              "outlinewidth": 0,
              "ticks": ""
             }
            },
            "type": "scatterternary"
           }
          ],
          "surface": [
           {
            "colorbar": {
             "outlinewidth": 0,
             "ticks": ""
            },
            "colorscale": [
             [
              0,
              "#0d0887"
             ],
             [
              0.1111111111111111,
              "#46039f"
             ],
             [
              0.2222222222222222,
              "#7201a8"
             ],
             [
              0.3333333333333333,
              "#9c179e"
             ],
             [
              0.4444444444444444,
              "#bd3786"
             ],
             [
              0.5555555555555556,
              "#d8576b"
             ],
             [
              0.6666666666666666,
              "#ed7953"
             ],
             [
              0.7777777777777778,
              "#fb9f3a"
             ],
             [
              0.8888888888888888,
              "#fdca26"
             ],
             [
              1,
              "#f0f921"
             ]
            ],
            "type": "surface"
           }
          ],
          "table": [
           {
            "cells": {
             "fill": {
              "color": "#EBF0F8"
             },
             "line": {
              "color": "white"
             }
            },
            "header": {
             "fill": {
              "color": "#C8D4E3"
             },
             "line": {
              "color": "white"
             }
            },
            "type": "table"
           }
          ]
         },
         "layout": {
          "annotationdefaults": {
           "arrowcolor": "#2a3f5f",
           "arrowhead": 0,
           "arrowwidth": 1
          },
          "autotypenumbers": "strict",
          "coloraxis": {
           "colorbar": {
            "outlinewidth": 0,
            "ticks": ""
           }
          },
          "colorscale": {
           "diverging": [
            [
             0,
             "#8e0152"
            ],
            [
             0.1,
             "#c51b7d"
            ],
            [
             0.2,
             "#de77ae"
            ],
            [
             0.3,
             "#f1b6da"
            ],
            [
             0.4,
             "#fde0ef"
            ],
            [
             0.5,
             "#f7f7f7"
            ],
            [
             0.6,
             "#e6f5d0"
            ],
            [
             0.7,
             "#b8e186"
            ],
            [
             0.8,
             "#7fbc41"
            ],
            [
             0.9,
             "#4d9221"
            ],
            [
             1,
             "#276419"
            ]
           ],
           "sequential": [
            [
             0,
             "#0d0887"
            ],
            [
             0.1111111111111111,
             "#46039f"
            ],
            [
             0.2222222222222222,
             "#7201a8"
            ],
            [
             0.3333333333333333,
             "#9c179e"
            ],
            [
             0.4444444444444444,
             "#bd3786"
            ],
            [
             0.5555555555555556,
             "#d8576b"
            ],
            [
             0.6666666666666666,
             "#ed7953"
            ],
            [
             0.7777777777777778,
             "#fb9f3a"
            ],
            [
             0.8888888888888888,
             "#fdca26"
            ],
            [
             1,
             "#f0f921"
            ]
           ],
           "sequentialminus": [
            [
             0,
             "#0d0887"
            ],
            [
             0.1111111111111111,
             "#46039f"
            ],
            [
             0.2222222222222222,
             "#7201a8"
            ],
            [
             0.3333333333333333,
             "#9c179e"
            ],
            [
             0.4444444444444444,
             "#bd3786"
            ],
            [
             0.5555555555555556,
             "#d8576b"
            ],
            [
             0.6666666666666666,
             "#ed7953"
            ],
            [
             0.7777777777777778,
             "#fb9f3a"
            ],
            [
             0.8888888888888888,
             "#fdca26"
            ],
            [
             1,
             "#f0f921"
            ]
           ]
          },
          "colorway": [
           "#636efa",
           "#EF553B",
           "#00cc96",
           "#ab63fa",
           "#FFA15A",
           "#19d3f3",
           "#FF6692",
           "#B6E880",
           "#FF97FF",
           "#FECB52"
          ],
          "font": {
           "color": "#2a3f5f"
          },
          "geo": {
           "bgcolor": "white",
           "lakecolor": "white",
           "landcolor": "#E5ECF6",
           "showlakes": true,
           "showland": true,
           "subunitcolor": "white"
          },
          "hoverlabel": {
           "align": "left"
          },
          "hovermode": "closest",
          "mapbox": {
           "style": "light"
          },
          "paper_bgcolor": "white",
          "plot_bgcolor": "#E5ECF6",
          "polar": {
           "angularaxis": {
            "gridcolor": "white",
            "linecolor": "white",
            "ticks": ""
           },
           "bgcolor": "#E5ECF6",
           "radialaxis": {
            "gridcolor": "white",
            "linecolor": "white",
            "ticks": ""
           }
          },
          "scene": {
           "xaxis": {
            "backgroundcolor": "#E5ECF6",
            "gridcolor": "white",
            "gridwidth": 2,
            "linecolor": "white",
            "showbackground": true,
            "ticks": "",
            "zerolinecolor": "white"
           },
           "yaxis": {
            "backgroundcolor": "#E5ECF6",
            "gridcolor": "white",
            "gridwidth": 2,
            "linecolor": "white",
            "showbackground": true,
            "ticks": "",
            "zerolinecolor": "white"
           },
           "zaxis": {
            "backgroundcolor": "#E5ECF6",
            "gridcolor": "white",
            "gridwidth": 2,
            "linecolor": "white",
            "showbackground": true,
            "ticks": "",
            "zerolinecolor": "white"
           }
          },
          "shapedefaults": {
           "line": {
            "color": "#2a3f5f"
           }
          },
          "ternary": {
           "aaxis": {
            "gridcolor": "white",
            "linecolor": "white",
            "ticks": ""
           },
           "baxis": {
            "gridcolor": "white",
            "linecolor": "white",
            "ticks": ""
           },
           "bgcolor": "#E5ECF6",
           "caxis": {
            "gridcolor": "white",
            "linecolor": "white",
            "ticks": ""
           }
          },
          "title": {
           "x": 0.05
          },
          "xaxis": {
           "automargin": true,
           "gridcolor": "white",
           "linecolor": "white",
           "ticks": "",
           "title": {
            "standoff": 15
           },
           "zerolinecolor": "white",
           "zerolinewidth": 2
          },
          "yaxis": {
           "automargin": true,
           "gridcolor": "white",
           "linecolor": "white",
           "ticks": "",
           "title": {
            "standoff": 15
           },
           "zerolinecolor": "white",
           "zerolinewidth": 2
          }
         }
        },
        "title": {
         "text": "Customer Churn: Account Length vs Customer Service Calls"
        },
        "xaxis": {
         "anchor": "y",
         "domain": [
          0,
          1
         ],
         "title": {
          "text": "account_length"
         }
        },
        "yaxis": {
         "anchor": "x",
         "domain": [
          0,
          1
         ],
         "title": {
          "text": "customer_service_calls"
         }
        }
       }
      }
     },
     "metadata": {},
     "output_type": "display_data"
    }
   ],
   "source": [
    "# Create scatter plot\n",
    "fig = px.scatter(\n",
    "    churn_df,\n",
    "    x=\"account_length\",\n",
    "    y=\"customer_service_calls\",\n",
    "    color=\"churn\",\n",
    "    title=\"Customer Churn: Account Length vs Customer Service Calls\",\n",
    "    color_discrete_map={\n",
    "        \"0\": \"blue\",   # Not churned\n",
    "        \"1\": \"red\"     # Churned\n",
    "    },\n",
    "    labels={\"churn\": \"Churn Status\"}\n",
    "    #color_discrete_map=\"Viridis\"  # for numeric churn; use \"Set1\" for categorical\n",
    ")\n",
    "fig.show()"
   ]
  },
  {
   "cell_type": "code",
   "execution_count": 7,
   "id": "5a049205",
   "metadata": {},
   "outputs": [
    {
     "name": "stdout",
     "output_type": "stream",
     "text": [
      "X shape: (3333, 2)\n",
      "y shape: (3333,)\n"
     ]
    },
    {
     "data": {
      "text/html": [
       "<style>#sk-container-id-2 {\n",
       "  /* Definition of color scheme common for light and dark mode */\n",
       "  --sklearn-color-text: #000;\n",
       "  --sklearn-color-text-muted: #666;\n",
       "  --sklearn-color-line: gray;\n",
       "  /* Definition of color scheme for unfitted estimators */\n",
       "  --sklearn-color-unfitted-level-0: #fff5e6;\n",
       "  --sklearn-color-unfitted-level-1: #f6e4d2;\n",
       "  --sklearn-color-unfitted-level-2: #ffe0b3;\n",
       "  --sklearn-color-unfitted-level-3: chocolate;\n",
       "  /* Definition of color scheme for fitted estimators */\n",
       "  --sklearn-color-fitted-level-0: #f0f8ff;\n",
       "  --sklearn-color-fitted-level-1: #d4ebff;\n",
       "  --sklearn-color-fitted-level-2: #b3dbfd;\n",
       "  --sklearn-color-fitted-level-3: cornflowerblue;\n",
       "\n",
       "  /* Specific color for light theme */\n",
       "  --sklearn-color-text-on-default-background: var(--sg-text-color, var(--theme-code-foreground, var(--jp-content-font-color1, black)));\n",
       "  --sklearn-color-background: var(--sg-background-color, var(--theme-background, var(--jp-layout-color0, white)));\n",
       "  --sklearn-color-border-box: var(--sg-text-color, var(--theme-code-foreground, var(--jp-content-font-color1, black)));\n",
       "  --sklearn-color-icon: #696969;\n",
       "\n",
       "  @media (prefers-color-scheme: dark) {\n",
       "    /* Redefinition of color scheme for dark theme */\n",
       "    --sklearn-color-text-on-default-background: var(--sg-text-color, var(--theme-code-foreground, var(--jp-content-font-color1, white)));\n",
       "    --sklearn-color-background: var(--sg-background-color, var(--theme-background, var(--jp-layout-color0, #111)));\n",
       "    --sklearn-color-border-box: var(--sg-text-color, var(--theme-code-foreground, var(--jp-content-font-color1, white)));\n",
       "    --sklearn-color-icon: #878787;\n",
       "  }\n",
       "}\n",
       "\n",
       "#sk-container-id-2 {\n",
       "  color: var(--sklearn-color-text);\n",
       "}\n",
       "\n",
       "#sk-container-id-2 pre {\n",
       "  padding: 0;\n",
       "}\n",
       "\n",
       "#sk-container-id-2 input.sk-hidden--visually {\n",
       "  border: 0;\n",
       "  clip: rect(1px 1px 1px 1px);\n",
       "  clip: rect(1px, 1px, 1px, 1px);\n",
       "  height: 1px;\n",
       "  margin: -1px;\n",
       "  overflow: hidden;\n",
       "  padding: 0;\n",
       "  position: absolute;\n",
       "  width: 1px;\n",
       "}\n",
       "\n",
       "#sk-container-id-2 div.sk-dashed-wrapped {\n",
       "  border: 1px dashed var(--sklearn-color-line);\n",
       "  margin: 0 0.4em 0.5em 0.4em;\n",
       "  box-sizing: border-box;\n",
       "  padding-bottom: 0.4em;\n",
       "  background-color: var(--sklearn-color-background);\n",
       "}\n",
       "\n",
       "#sk-container-id-2 div.sk-container {\n",
       "  /* jupyter's `normalize.less` sets `[hidden] { display: none; }`\n",
       "     but bootstrap.min.css set `[hidden] { display: none !important; }`\n",
       "     so we also need the `!important` here to be able to override the\n",
       "     default hidden behavior on the sphinx rendered scikit-learn.org.\n",
       "     See: https://github.com/scikit-learn/scikit-learn/issues/21755 */\n",
       "  display: inline-block !important;\n",
       "  position: relative;\n",
       "}\n",
       "\n",
       "#sk-container-id-2 div.sk-text-repr-fallback {\n",
       "  display: none;\n",
       "}\n",
       "\n",
       "div.sk-parallel-item,\n",
       "div.sk-serial,\n",
       "div.sk-item {\n",
       "  /* draw centered vertical line to link estimators */\n",
       "  background-image: linear-gradient(var(--sklearn-color-text-on-default-background), var(--sklearn-color-text-on-default-background));\n",
       "  background-size: 2px 100%;\n",
       "  background-repeat: no-repeat;\n",
       "  background-position: center center;\n",
       "}\n",
       "\n",
       "/* Parallel-specific style estimator block */\n",
       "\n",
       "#sk-container-id-2 div.sk-parallel-item::after {\n",
       "  content: \"\";\n",
       "  width: 100%;\n",
       "  border-bottom: 2px solid var(--sklearn-color-text-on-default-background);\n",
       "  flex-grow: 1;\n",
       "}\n",
       "\n",
       "#sk-container-id-2 div.sk-parallel {\n",
       "  display: flex;\n",
       "  align-items: stretch;\n",
       "  justify-content: center;\n",
       "  background-color: var(--sklearn-color-background);\n",
       "  position: relative;\n",
       "}\n",
       "\n",
       "#sk-container-id-2 div.sk-parallel-item {\n",
       "  display: flex;\n",
       "  flex-direction: column;\n",
       "}\n",
       "\n",
       "#sk-container-id-2 div.sk-parallel-item:first-child::after {\n",
       "  align-self: flex-end;\n",
       "  width: 50%;\n",
       "}\n",
       "\n",
       "#sk-container-id-2 div.sk-parallel-item:last-child::after {\n",
       "  align-self: flex-start;\n",
       "  width: 50%;\n",
       "}\n",
       "\n",
       "#sk-container-id-2 div.sk-parallel-item:only-child::after {\n",
       "  width: 0;\n",
       "}\n",
       "\n",
       "/* Serial-specific style estimator block */\n",
       "\n",
       "#sk-container-id-2 div.sk-serial {\n",
       "  display: flex;\n",
       "  flex-direction: column;\n",
       "  align-items: center;\n",
       "  background-color: var(--sklearn-color-background);\n",
       "  padding-right: 1em;\n",
       "  padding-left: 1em;\n",
       "}\n",
       "\n",
       "\n",
       "/* Toggleable style: style used for estimator/Pipeline/ColumnTransformer box that is\n",
       "clickable and can be expanded/collapsed.\n",
       "- Pipeline and ColumnTransformer use this feature and define the default style\n",
       "- Estimators will overwrite some part of the style using the `sk-estimator` class\n",
       "*/\n",
       "\n",
       "/* Pipeline and ColumnTransformer style (default) */\n",
       "\n",
       "#sk-container-id-2 div.sk-toggleable {\n",
       "  /* Default theme specific background. It is overwritten whether we have a\n",
       "  specific estimator or a Pipeline/ColumnTransformer */\n",
       "  background-color: var(--sklearn-color-background);\n",
       "}\n",
       "\n",
       "/* Toggleable label */\n",
       "#sk-container-id-2 label.sk-toggleable__label {\n",
       "  cursor: pointer;\n",
       "  display: flex;\n",
       "  width: 100%;\n",
       "  margin-bottom: 0;\n",
       "  padding: 0.5em;\n",
       "  box-sizing: border-box;\n",
       "  text-align: center;\n",
       "  align-items: start;\n",
       "  justify-content: space-between;\n",
       "  gap: 0.5em;\n",
       "}\n",
       "\n",
       "#sk-container-id-2 label.sk-toggleable__label .caption {\n",
       "  font-size: 0.6rem;\n",
       "  font-weight: lighter;\n",
       "  color: var(--sklearn-color-text-muted);\n",
       "}\n",
       "\n",
       "#sk-container-id-2 label.sk-toggleable__label-arrow:before {\n",
       "  /* Arrow on the left of the label */\n",
       "  content: \"▸\";\n",
       "  float: left;\n",
       "  margin-right: 0.25em;\n",
       "  color: var(--sklearn-color-icon);\n",
       "}\n",
       "\n",
       "#sk-container-id-2 label.sk-toggleable__label-arrow:hover:before {\n",
       "  color: var(--sklearn-color-text);\n",
       "}\n",
       "\n",
       "/* Toggleable content - dropdown */\n",
       "\n",
       "#sk-container-id-2 div.sk-toggleable__content {\n",
       "  display: none;\n",
       "  text-align: left;\n",
       "  /* unfitted */\n",
       "  background-color: var(--sklearn-color-unfitted-level-0);\n",
       "}\n",
       "\n",
       "#sk-container-id-2 div.sk-toggleable__content.fitted {\n",
       "  /* fitted */\n",
       "  background-color: var(--sklearn-color-fitted-level-0);\n",
       "}\n",
       "\n",
       "#sk-container-id-2 div.sk-toggleable__content pre {\n",
       "  margin: 0.2em;\n",
       "  border-radius: 0.25em;\n",
       "  color: var(--sklearn-color-text);\n",
       "  /* unfitted */\n",
       "  background-color: var(--sklearn-color-unfitted-level-0);\n",
       "}\n",
       "\n",
       "#sk-container-id-2 div.sk-toggleable__content.fitted pre {\n",
       "  /* unfitted */\n",
       "  background-color: var(--sklearn-color-fitted-level-0);\n",
       "}\n",
       "\n",
       "#sk-container-id-2 input.sk-toggleable__control:checked~div.sk-toggleable__content {\n",
       "  /* Expand drop-down */\n",
       "  display: block;\n",
       "  width: 100%;\n",
       "  overflow: visible;\n",
       "}\n",
       "\n",
       "#sk-container-id-2 input.sk-toggleable__control:checked~label.sk-toggleable__label-arrow:before {\n",
       "  content: \"▾\";\n",
       "}\n",
       "\n",
       "/* Pipeline/ColumnTransformer-specific style */\n",
       "\n",
       "#sk-container-id-2 div.sk-label input.sk-toggleable__control:checked~label.sk-toggleable__label {\n",
       "  color: var(--sklearn-color-text);\n",
       "  background-color: var(--sklearn-color-unfitted-level-2);\n",
       "}\n",
       "\n",
       "#sk-container-id-2 div.sk-label.fitted input.sk-toggleable__control:checked~label.sk-toggleable__label {\n",
       "  background-color: var(--sklearn-color-fitted-level-2);\n",
       "}\n",
       "\n",
       "/* Estimator-specific style */\n",
       "\n",
       "/* Colorize estimator box */\n",
       "#sk-container-id-2 div.sk-estimator input.sk-toggleable__control:checked~label.sk-toggleable__label {\n",
       "  /* unfitted */\n",
       "  background-color: var(--sklearn-color-unfitted-level-2);\n",
       "}\n",
       "\n",
       "#sk-container-id-2 div.sk-estimator.fitted input.sk-toggleable__control:checked~label.sk-toggleable__label {\n",
       "  /* fitted */\n",
       "  background-color: var(--sklearn-color-fitted-level-2);\n",
       "}\n",
       "\n",
       "#sk-container-id-2 div.sk-label label.sk-toggleable__label,\n",
       "#sk-container-id-2 div.sk-label label {\n",
       "  /* The background is the default theme color */\n",
       "  color: var(--sklearn-color-text-on-default-background);\n",
       "}\n",
       "\n",
       "/* On hover, darken the color of the background */\n",
       "#sk-container-id-2 div.sk-label:hover label.sk-toggleable__label {\n",
       "  color: var(--sklearn-color-text);\n",
       "  background-color: var(--sklearn-color-unfitted-level-2);\n",
       "}\n",
       "\n",
       "/* Label box, darken color on hover, fitted */\n",
       "#sk-container-id-2 div.sk-label.fitted:hover label.sk-toggleable__label.fitted {\n",
       "  color: var(--sklearn-color-text);\n",
       "  background-color: var(--sklearn-color-fitted-level-2);\n",
       "}\n",
       "\n",
       "/* Estimator label */\n",
       "\n",
       "#sk-container-id-2 div.sk-label label {\n",
       "  font-family: monospace;\n",
       "  font-weight: bold;\n",
       "  display: inline-block;\n",
       "  line-height: 1.2em;\n",
       "}\n",
       "\n",
       "#sk-container-id-2 div.sk-label-container {\n",
       "  text-align: center;\n",
       "}\n",
       "\n",
       "/* Estimator-specific */\n",
       "#sk-container-id-2 div.sk-estimator {\n",
       "  font-family: monospace;\n",
       "  border: 1px dotted var(--sklearn-color-border-box);\n",
       "  border-radius: 0.25em;\n",
       "  box-sizing: border-box;\n",
       "  margin-bottom: 0.5em;\n",
       "  /* unfitted */\n",
       "  background-color: var(--sklearn-color-unfitted-level-0);\n",
       "}\n",
       "\n",
       "#sk-container-id-2 div.sk-estimator.fitted {\n",
       "  /* fitted */\n",
       "  background-color: var(--sklearn-color-fitted-level-0);\n",
       "}\n",
       "\n",
       "/* on hover */\n",
       "#sk-container-id-2 div.sk-estimator:hover {\n",
       "  /* unfitted */\n",
       "  background-color: var(--sklearn-color-unfitted-level-2);\n",
       "}\n",
       "\n",
       "#sk-container-id-2 div.sk-estimator.fitted:hover {\n",
       "  /* fitted */\n",
       "  background-color: var(--sklearn-color-fitted-level-2);\n",
       "}\n",
       "\n",
       "/* Specification for estimator info (e.g. \"i\" and \"?\") */\n",
       "\n",
       "/* Common style for \"i\" and \"?\" */\n",
       "\n",
       ".sk-estimator-doc-link,\n",
       "a:link.sk-estimator-doc-link,\n",
       "a:visited.sk-estimator-doc-link {\n",
       "  float: right;\n",
       "  font-size: smaller;\n",
       "  line-height: 1em;\n",
       "  font-family: monospace;\n",
       "  background-color: var(--sklearn-color-background);\n",
       "  border-radius: 1em;\n",
       "  height: 1em;\n",
       "  width: 1em;\n",
       "  text-decoration: none !important;\n",
       "  margin-left: 0.5em;\n",
       "  text-align: center;\n",
       "  /* unfitted */\n",
       "  border: var(--sklearn-color-unfitted-level-1) 1pt solid;\n",
       "  color: var(--sklearn-color-unfitted-level-1);\n",
       "}\n",
       "\n",
       ".sk-estimator-doc-link.fitted,\n",
       "a:link.sk-estimator-doc-link.fitted,\n",
       "a:visited.sk-estimator-doc-link.fitted {\n",
       "  /* fitted */\n",
       "  border: var(--sklearn-color-fitted-level-1) 1pt solid;\n",
       "  color: var(--sklearn-color-fitted-level-1);\n",
       "}\n",
       "\n",
       "/* On hover */\n",
       "div.sk-estimator:hover .sk-estimator-doc-link:hover,\n",
       ".sk-estimator-doc-link:hover,\n",
       "div.sk-label-container:hover .sk-estimator-doc-link:hover,\n",
       ".sk-estimator-doc-link:hover {\n",
       "  /* unfitted */\n",
       "  background-color: var(--sklearn-color-unfitted-level-3);\n",
       "  color: var(--sklearn-color-background);\n",
       "  text-decoration: none;\n",
       "}\n",
       "\n",
       "div.sk-estimator.fitted:hover .sk-estimator-doc-link.fitted:hover,\n",
       ".sk-estimator-doc-link.fitted:hover,\n",
       "div.sk-label-container:hover .sk-estimator-doc-link.fitted:hover,\n",
       ".sk-estimator-doc-link.fitted:hover {\n",
       "  /* fitted */\n",
       "  background-color: var(--sklearn-color-fitted-level-3);\n",
       "  color: var(--sklearn-color-background);\n",
       "  text-decoration: none;\n",
       "}\n",
       "\n",
       "/* Span, style for the box shown on hovering the info icon */\n",
       ".sk-estimator-doc-link span {\n",
       "  display: none;\n",
       "  z-index: 9999;\n",
       "  position: relative;\n",
       "  font-weight: normal;\n",
       "  right: .2ex;\n",
       "  padding: .5ex;\n",
       "  margin: .5ex;\n",
       "  width: min-content;\n",
       "  min-width: 20ex;\n",
       "  max-width: 50ex;\n",
       "  color: var(--sklearn-color-text);\n",
       "  box-shadow: 2pt 2pt 4pt #999;\n",
       "  /* unfitted */\n",
       "  background: var(--sklearn-color-unfitted-level-0);\n",
       "  border: .5pt solid var(--sklearn-color-unfitted-level-3);\n",
       "}\n",
       "\n",
       ".sk-estimator-doc-link.fitted span {\n",
       "  /* fitted */\n",
       "  background: var(--sklearn-color-fitted-level-0);\n",
       "  border: var(--sklearn-color-fitted-level-3);\n",
       "}\n",
       "\n",
       ".sk-estimator-doc-link:hover span {\n",
       "  display: block;\n",
       "}\n",
       "\n",
       "/* \"?\"-specific style due to the `<a>` HTML tag */\n",
       "\n",
       "#sk-container-id-2 a.estimator_doc_link {\n",
       "  float: right;\n",
       "  font-size: 1rem;\n",
       "  line-height: 1em;\n",
       "  font-family: monospace;\n",
       "  background-color: var(--sklearn-color-background);\n",
       "  border-radius: 1rem;\n",
       "  height: 1rem;\n",
       "  width: 1rem;\n",
       "  text-decoration: none;\n",
       "  /* unfitted */\n",
       "  color: var(--sklearn-color-unfitted-level-1);\n",
       "  border: var(--sklearn-color-unfitted-level-1) 1pt solid;\n",
       "}\n",
       "\n",
       "#sk-container-id-2 a.estimator_doc_link.fitted {\n",
       "  /* fitted */\n",
       "  border: var(--sklearn-color-fitted-level-1) 1pt solid;\n",
       "  color: var(--sklearn-color-fitted-level-1);\n",
       "}\n",
       "\n",
       "/* On hover */\n",
       "#sk-container-id-2 a.estimator_doc_link:hover {\n",
       "  /* unfitted */\n",
       "  background-color: var(--sklearn-color-unfitted-level-3);\n",
       "  color: var(--sklearn-color-background);\n",
       "  text-decoration: none;\n",
       "}\n",
       "\n",
       "#sk-container-id-2 a.estimator_doc_link.fitted:hover {\n",
       "  /* fitted */\n",
       "  background-color: var(--sklearn-color-fitted-level-3);\n",
       "}\n",
       "\n",
       ".estimator-table summary {\n",
       "    padding: .5rem;\n",
       "    font-family: monospace;\n",
       "    cursor: pointer;\n",
       "}\n",
       "\n",
       ".estimator-table details[open] {\n",
       "    padding-left: 0.1rem;\n",
       "    padding-right: 0.1rem;\n",
       "    padding-bottom: 0.3rem;\n",
       "}\n",
       "\n",
       ".estimator-table .parameters-table {\n",
       "    margin-left: auto !important;\n",
       "    margin-right: auto !important;\n",
       "}\n",
       "\n",
       ".estimator-table .parameters-table tr:nth-child(odd) {\n",
       "    background-color: #fff;\n",
       "}\n",
       "\n",
       ".estimator-table .parameters-table tr:nth-child(even) {\n",
       "    background-color: #f6f6f6;\n",
       "}\n",
       "\n",
       ".estimator-table .parameters-table tr:hover {\n",
       "    background-color: #e0e0e0;\n",
       "}\n",
       "\n",
       ".estimator-table table td {\n",
       "    border: 1px solid rgba(106, 105, 104, 0.232);\n",
       "}\n",
       "\n",
       ".user-set td {\n",
       "    color:rgb(255, 94, 0);\n",
       "    text-align: left;\n",
       "}\n",
       "\n",
       ".user-set td.value pre {\n",
       "    color:rgb(255, 94, 0) !important;\n",
       "    background-color: transparent !important;\n",
       "}\n",
       "\n",
       ".default td {\n",
       "    color: black;\n",
       "    text-align: left;\n",
       "}\n",
       "\n",
       ".user-set td i,\n",
       ".default td i {\n",
       "    color: black;\n",
       "}\n",
       "\n",
       ".copy-paste-icon {\n",
       "    background-image: url(data:image/svg+xml;base64,PHN2ZyB4bWxucz0iaHR0cDovL3d3dy53My5vcmcvMjAwMC9zdmciIHZpZXdCb3g9IjAgMCA0NDggNTEyIj48IS0tIUZvbnQgQXdlc29tZSBGcmVlIDYuNy4yIGJ5IEBmb250YXdlc29tZSAtIGh0dHBzOi8vZm9udGF3ZXNvbWUuY29tIExpY2Vuc2UgLSBodHRwczovL2ZvbnRhd2Vzb21lLmNvbS9saWNlbnNlL2ZyZWUgQ29weXJpZ2h0IDIwMjUgRm9udGljb25zLCBJbmMuLS0+PHBhdGggZD0iTTIwOCAwTDMzMi4xIDBjMTIuNyAwIDI0LjkgNS4xIDMzLjkgMTQuMWw2Ny45IDY3LjljOSA5IDE0LjEgMjEuMiAxNC4xIDMzLjlMNDQ4IDMzNmMwIDI2LjUtMjEuNSA0OC00OCA0OGwtMTkyIDBjLTI2LjUgMC00OC0yMS41LTQ4LTQ4bDAtMjg4YzAtMjYuNSAyMS41LTQ4IDQ4LTQ4ek00OCAxMjhsODAgMCAwIDY0LTY0IDAgMCAyNTYgMTkyIDAgMC0zMiA2NCAwIDAgNDhjMCAyNi41LTIxLjUgNDgtNDggNDhMNDggNTEyYy0yNi41IDAtNDgtMjEuNS00OC00OEwwIDE3NmMwLTI2LjUgMjEuNS00OCA0OC00OHoiLz48L3N2Zz4=);\n",
       "    background-repeat: no-repeat;\n",
       "    background-size: 14px 14px;\n",
       "    background-position: 0;\n",
       "    display: inline-block;\n",
       "    width: 14px;\n",
       "    height: 14px;\n",
       "    cursor: pointer;\n",
       "}\n",
       "</style><body><div id=\"sk-container-id-2\" class=\"sk-top-container\"><div class=\"sk-text-repr-fallback\"><pre>KNeighborsClassifier(n_neighbors=6)</pre><b>In a Jupyter environment, please rerun this cell to show the HTML representation or trust the notebook. <br />On GitHub, the HTML representation is unable to render, please try loading this page with nbviewer.org.</b></div><div class=\"sk-container\" hidden><div class=\"sk-item\"><div class=\"sk-estimator fitted sk-toggleable\"><input class=\"sk-toggleable__control sk-hidden--visually\" id=\"sk-estimator-id-2\" type=\"checkbox\" checked><label for=\"sk-estimator-id-2\" class=\"sk-toggleable__label fitted sk-toggleable__label-arrow\"><div><div>KNeighborsClassifier</div></div><div><a class=\"sk-estimator-doc-link fitted\" rel=\"noreferrer\" target=\"_blank\" href=\"https://scikit-learn.org/1.7/modules/generated/sklearn.neighbors.KNeighborsClassifier.html\">?<span>Documentation for KNeighborsClassifier</span></a><span class=\"sk-estimator-doc-link fitted\">i<span>Fitted</span></span></div></label><div class=\"sk-toggleable__content fitted\" data-param-prefix=\"\">\n",
       "        <div class=\"estimator-table\">\n",
       "            <details>\n",
       "                <summary>Parameters</summary>\n",
       "                <table class=\"parameters-table\">\n",
       "                  <tbody>\n",
       "                    \n",
       "        <tr class=\"user-set\">\n",
       "            <td><i class=\"copy-paste-icon\"\n",
       "                 onclick=\"copyToClipboard('n_neighbors',\n",
       "                          this.parentElement.nextElementSibling)\"\n",
       "            ></i></td>\n",
       "            <td class=\"param\">n_neighbors&nbsp;</td>\n",
       "            <td class=\"value\">6</td>\n",
       "        </tr>\n",
       "    \n",
       "\n",
       "        <tr class=\"default\">\n",
       "            <td><i class=\"copy-paste-icon\"\n",
       "                 onclick=\"copyToClipboard('weights',\n",
       "                          this.parentElement.nextElementSibling)\"\n",
       "            ></i></td>\n",
       "            <td class=\"param\">weights&nbsp;</td>\n",
       "            <td class=\"value\">&#x27;uniform&#x27;</td>\n",
       "        </tr>\n",
       "    \n",
       "\n",
       "        <tr class=\"default\">\n",
       "            <td><i class=\"copy-paste-icon\"\n",
       "                 onclick=\"copyToClipboard('algorithm',\n",
       "                          this.parentElement.nextElementSibling)\"\n",
       "            ></i></td>\n",
       "            <td class=\"param\">algorithm&nbsp;</td>\n",
       "            <td class=\"value\">&#x27;auto&#x27;</td>\n",
       "        </tr>\n",
       "    \n",
       "\n",
       "        <tr class=\"default\">\n",
       "            <td><i class=\"copy-paste-icon\"\n",
       "                 onclick=\"copyToClipboard('leaf_size',\n",
       "                          this.parentElement.nextElementSibling)\"\n",
       "            ></i></td>\n",
       "            <td class=\"param\">leaf_size&nbsp;</td>\n",
       "            <td class=\"value\">30</td>\n",
       "        </tr>\n",
       "    \n",
       "\n",
       "        <tr class=\"default\">\n",
       "            <td><i class=\"copy-paste-icon\"\n",
       "                 onclick=\"copyToClipboard('p',\n",
       "                          this.parentElement.nextElementSibling)\"\n",
       "            ></i></td>\n",
       "            <td class=\"param\">p&nbsp;</td>\n",
       "            <td class=\"value\">2</td>\n",
       "        </tr>\n",
       "    \n",
       "\n",
       "        <tr class=\"default\">\n",
       "            <td><i class=\"copy-paste-icon\"\n",
       "                 onclick=\"copyToClipboard('metric',\n",
       "                          this.parentElement.nextElementSibling)\"\n",
       "            ></i></td>\n",
       "            <td class=\"param\">metric&nbsp;</td>\n",
       "            <td class=\"value\">&#x27;minkowski&#x27;</td>\n",
       "        </tr>\n",
       "    \n",
       "\n",
       "        <tr class=\"default\">\n",
       "            <td><i class=\"copy-paste-icon\"\n",
       "                 onclick=\"copyToClipboard('metric_params',\n",
       "                          this.parentElement.nextElementSibling)\"\n",
       "            ></i></td>\n",
       "            <td class=\"param\">metric_params&nbsp;</td>\n",
       "            <td class=\"value\">None</td>\n",
       "        </tr>\n",
       "    \n",
       "\n",
       "        <tr class=\"default\">\n",
       "            <td><i class=\"copy-paste-icon\"\n",
       "                 onclick=\"copyToClipboard('n_jobs',\n",
       "                          this.parentElement.nextElementSibling)\"\n",
       "            ></i></td>\n",
       "            <td class=\"param\">n_jobs&nbsp;</td>\n",
       "            <td class=\"value\">None</td>\n",
       "        </tr>\n",
       "    \n",
       "                  </tbody>\n",
       "                </table>\n",
       "            </details>\n",
       "        </div>\n",
       "    </div></div></div></div></div><script>function copyToClipboard(text, element) {\n",
       "    // Get the parameter prefix from the closest toggleable content\n",
       "    const toggleableContent = element.closest('.sk-toggleable__content');\n",
       "    const paramPrefix = toggleableContent ? toggleableContent.dataset.paramPrefix : '';\n",
       "    const fullParamName = paramPrefix ? `${paramPrefix}${text}` : text;\n",
       "\n",
       "    const originalStyle = element.style;\n",
       "    const computedStyle = window.getComputedStyle(element);\n",
       "    const originalWidth = computedStyle.width;\n",
       "    const originalHTML = element.innerHTML.replace('Copied!', '');\n",
       "\n",
       "    navigator.clipboard.writeText(fullParamName)\n",
       "        .then(() => {\n",
       "            element.style.width = originalWidth;\n",
       "            element.style.color = 'green';\n",
       "            element.innerHTML = \"Copied!\";\n",
       "\n",
       "            setTimeout(() => {\n",
       "                element.innerHTML = originalHTML;\n",
       "                element.style = originalStyle;\n",
       "            }, 2000);\n",
       "        })\n",
       "        .catch(err => {\n",
       "            console.error('Failed to copy:', err);\n",
       "            element.style.color = 'red';\n",
       "            element.innerHTML = \"Failed!\";\n",
       "            setTimeout(() => {\n",
       "                element.innerHTML = originalHTML;\n",
       "                element.style = originalStyle;\n",
       "            }, 2000);\n",
       "        });\n",
       "    return false;\n",
       "}\n",
       "\n",
       "document.querySelectorAll('.fa-regular.fa-copy').forEach(function(element) {\n",
       "    const toggleableContent = element.closest('.sk-toggleable__content');\n",
       "    const paramPrefix = toggleableContent ? toggleableContent.dataset.paramPrefix : '';\n",
       "    const paramName = element.parentElement.nextElementSibling.textContent.trim();\n",
       "    const fullParamName = paramPrefix ? `${paramPrefix}${paramName}` : paramName;\n",
       "\n",
       "    element.setAttribute('title', fullParamName);\n",
       "});\n",
       "</script></body>"
      ],
      "text/plain": [
       "KNeighborsClassifier(n_neighbors=6)"
      ]
     },
     "execution_count": 7,
     "metadata": {},
     "output_type": "execute_result"
    }
   ],
   "source": [
    "y = churn_df[\"churn\"].values\n",
    "X = churn_df[[\"account_length\", \"customer_service_calls\"]].values\n",
    "\n",
    "print(\"X shape: {}\".format(X.shape))\n",
    "print(\"y shape: {}\".format(y.shape))\n",
    "# Create a KNN classifier with 6 neighbors\n",
    "knn = KNeighborsClassifier(n_neighbors=6)\n",
    "\n",
    "# Fit the classifier to the data\n",
    "knn.fit(X, y)"
   ]
  },
  {
   "cell_type": "code",
   "execution_count": 5,
   "id": "899d19d4",
   "metadata": {},
   "outputs": [
    {
     "name": "stdout",
     "output_type": "stream",
     "text": [
      "Predictions: [0 1 0]\n"
     ]
    }
   ],
   "source": [
    "X_new = np.array([[30.0, 17.5],\n",
    "                  [107.0, 24.1],\n",
    "                  [213.0, 10.9]])\n",
    "# Predict the labels for the X_new\n",
    "y_pred = knn.predict(X_new)\n",
    "\n",
    "# Print the predictions\n",
    "print(\"Predictions: {}\".format(y_pred)) "
   ]
  },
  {
   "cell_type": "markdown",
   "id": "ea616841",
   "metadata": {},
   "source": [
    "Computing Accuracy"
   ]
  },
  {
   "cell_type": "code",
   "execution_count": null,
   "id": "ae8c847c",
   "metadata": {},
   "outputs": [
    {
     "name": "stdout",
     "output_type": "stream",
     "text": [
      "0.8740629685157422\n"
     ]
    }
   ],
   "source": [
    "# Import the module\n",
    "from sklearn.model_selection import train_test_split\n",
    "\n",
    "#Machine learning models (like KNeighborsClassifier) must learn patterns from only the input features, not from the target label itself — otherwise they would “cheat.” So we separate the features and the target label into two different arrays:\n",
    "X = churn_df.drop(\"churn\", axis=1).values\n",
    "y = churn_df[\"churn\"].values\n",
    "\n",
    "# Split into training and test sets\n",
    "X_train, X_test, y_train, y_test = train_test_split(X, y, test_size=0.2, random_state=42, stratify=y)\n",
    "knn = KNeighborsClassifier(n_neighbors=5)\n",
    "\n",
    "# Fit the classifier to the training data\n",
    "knn.fit(X_train,y_train)\n",
    "\n",
    "# Print the accuracy\n",
    "print(knn.score(X_test, y_test))"
   ]
  },
  {
   "cell_type": "code",
   "execution_count": 13,
   "id": "76556523",
   "metadata": {},
   "outputs": [
    {
     "name": "stdout",
     "output_type": "stream",
     "text": [
      "[ 1  2  3  4  5  6  7  8  9 10 11 12] \n",
      " {np.int64(1): 1.0, np.int64(2): 0.9036009002250562, np.int64(3): 0.9114778694673669, np.int64(4): 0.8945986496624156, np.int64(5): 0.8953488372093024, np.int64(6): 0.8893473368342085, np.int64(7): 0.8885971492873218, np.int64(8): 0.8863465866466617, np.int64(9): 0.8870967741935484, np.int64(10): 0.8840960240060015, np.int64(11): 0.8874718679669917, np.int64(12): 0.8837209302325582} \n",
      " {np.int64(1): 0.7946026986506747, np.int64(2): 0.8605697151424287, np.int64(3): 0.8500749625187406, np.int64(4): 0.8695652173913043, np.int64(5): 0.8740629685157422, np.int64(6): 0.8650674662668666, np.int64(7): 0.8710644677661169, np.int64(8): 0.863568215892054, np.int64(9): 0.8725637181409296, np.int64(10): 0.8665667166416792, np.int64(11): 0.8710644677661169, np.int64(12): 0.8710644677661169}\n"
     ]
    }
   ],
   "source": [
    "# Create neighbors\n",
    "neighbors = np.arange(1, 13)\n",
    "train_accuracies = {}\n",
    "test_accuracies = {}\n",
    "\n",
    "for neighbor in neighbors:\n",
    "  \n",
    "\t# Set up a KNN Classifier\n",
    "\tknn = KNeighborsClassifier(n_neighbors=neighbor)\n",
    "  \n",
    "\t# Fit the model\n",
    "\tknn.fit(X_train, y_train)\n",
    "  \n",
    "\t# Compute accuracy\n",
    "\ttrain_accuracies[neighbor] = knn.score(X_train, y_train)\n",
    "\ttest_accuracies[neighbor] = knn.score(X_test, y_test)\n",
    "print(neighbors, '\\n', train_accuracies, '\\n', test_accuracies)"
   ]
  },
  {
   "cell_type": "code",
   "execution_count": 14,
   "id": "356396c5",
   "metadata": {},
   "outputs": [
    {
     "data": {
      "image/png": "[encoded data removed]",
      "text/plain": [
       "<Figure size 640x480 with 1 Axes>"
      ]
     },
     "metadata": {},
     "output_type": "display_data"
    }
   ],
   "source": [
    "# Add a title\n",
    "plt.title(\"KNN: Varying Number of Neighbors\")\n",
    "\n",
    "# Plot training accuracies\n",
    "plt.plot(neighbors, train_accuracies.values(), label=\"Training Accuracy\")\n",
    "\n",
    "# Plot test accuracies\n",
    "plt.plot(neighbors, test_accuracies.values(), label=\"Testing Accuracy\")\n",
    "\n",
    "plt.legend()\n",
    "plt.xlabel(\"Number of Neighbors\")\n",
    "plt.ylabel(\"Accuracy\")\n",
    "\n",
    "# Display the plot\n",
    "plt.show()"
   ]
  },
  {
   "cell_type": "code",
   "execution_count": 15,
   "id": "fbc3baf1",
   "metadata": {},
   "outputs": [],
   "source": [
    "# See how training accuracy decreases and test accuracy increases as the number of neighbors gets larger. For the test set, accuracy peaks with 7 neighbors, suggesting it is the optimal value for our model."
   ]
  },
  {
   "cell_type": "code",
   "execution_count": null,
   "id": "300306db",
   "metadata": {},
   "outputs": [],
   "source": []
  }
 ],
 "metadata": {
  "kernelspec": {
   "display_name": "py-dc",
   "language": "python",
   "name": "python3"
  },
  "language_info": {
   "codemirror_mode": {
    "name": "ipython",
    "version": 3
   },
   "file_extension": ".py",
   "mimetype": "text/x-python",
   "name": "python",
   "nbconvert_exporter": "python",
   "pygments_lexer": "ipython3",
   "version": "3.13.7"
  }
 },
 "nbformat": 4,
 "nbformat_minor": 5
}
